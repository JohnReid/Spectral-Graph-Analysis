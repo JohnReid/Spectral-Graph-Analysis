{
 "cells": [
  {
   "cell_type": "code",
   "execution_count": 1,
   "metadata": {},
   "outputs": [],
   "source": [
    "import itertools\n",
    "import igraph as ig\n",
    "import numpy as np\n",
    "import numpy.linalg as la\n",
    "import matplotlib.pyplot as plt\n",
    "from matplotlib import colors\n",
    "from matplotlib import cm\n",
    "import seaborn as sns\n",
    "%matplotlib inline"
   ]
  },
  {
   "cell_type": "code",
   "execution_count": 2,
   "metadata": {},
   "outputs": [],
   "source": [
    "def add_clique(g, clique = 0, clique_size = 5):\n",
    "    vertex_names = [f'clique-{clique}-vertex-{v}' for v in range(clique_size)]\n",
    "    for name in vertex_names:\n",
    "        g.add_vertex(name)\n",
    "    for u, v in itertools.combinations(vertex_names, r=2):\n",
    "        g.add_edge(u, v)\n",
    "    return vertex_names\n",
    "\n",
    "\n",
    "def two_clique_graph():\n",
    "    g = ig.Graph()\n",
    "    clique0vertices = add_clique(g, 0, 5)\n",
    "    clique1vertices = add_clique(g, 1, 5)\n",
    "    g.add_edge(np.random.choice(clique0vertices), np.random.choice(clique1vertices))\n",
    "    return g\n",
    "    \n",
    "    \n",
    "def five_clique_graph():\n",
    "    g = ig.Graph()\n",
    "    clique_vertices = [add_clique(g, clique, 5) for clique in range(5)]\n",
    "    for clique in range(4):\n",
    "        g.add_edge(np.random.choice(clique_vertices[clique]), np.random.choice(clique_vertices[clique + 1]))\n",
    "    return g"
   ]
  },
  {
   "cell_type": "code",
   "execution_count": 3,
   "metadata": {},
   "outputs": [],
   "source": [
    "g = two_clique_graph()\n",
    "# g = five_clique_graph()"
   ]
  },
  {
   "cell_type": "code",
   "execution_count": 4,
   "metadata": {},
   "outputs": [
    {
     "data": {
      "image/svg+xml": [
       "<?xml version=\"1.0\" encoding=\"UTF-8\"?>\n",
       "<svg xmlns=\"http://www.w3.org/2000/svg\" xmlns:xlink=\"http://www.w3.org/1999/xlink\" width=\"600pt\" height=\"600pt\" viewBox=\"0 0 600 600\" version=\"1.1\">\n",
       "<g id=\"surface2\">\n",
       "<rect x=\"0\" y=\"0\" width=\"600\" height=\"600\" style=\"fill:rgb(100%,100%,100%);fill-opacity:1;stroke:none;\"/>\n",
       "<path style=\"fill:none;stroke-width:1;stroke-linecap:butt;stroke-linejoin:miter;stroke:rgb(26.666667%,26.666667%,26.666667%);stroke-opacity:1;stroke-miterlimit:10;\" d=\"M 580 489.796875 L 484.996094 580 \"/>\n",
       "<path style=\"fill:none;stroke-width:1;stroke-linecap:butt;stroke-linejoin:miter;stroke:rgb(26.666667%,26.666667%,26.666667%);stroke-opacity:1;stroke-miterlimit:10;\" d=\"M 580 489.796875 L 376.449219 377.238281 \"/>\n",
       "<path style=\"fill:none;stroke-width:1;stroke-linecap:butt;stroke-linejoin:miter;stroke:rgb(26.666667%,26.666667%,26.666667%);stroke-opacity:1;stroke-miterlimit:10;\" d=\"M 580 489.796875 L 546.542969 374.378906 \"/>\n",
       "<path style=\"fill:none;stroke-width:1;stroke-linecap:butt;stroke-linejoin:miter;stroke:rgb(26.666667%,26.666667%,26.666667%);stroke-opacity:1;stroke-miterlimit:10;\" d=\"M 580 489.796875 L 368.246094 543.660156 \"/>\n",
       "<path style=\"fill:none;stroke-width:1;stroke-linecap:butt;stroke-linejoin:miter;stroke:rgb(26.666667%,26.666667%,26.666667%);stroke-opacity:1;stroke-miterlimit:10;\" d=\"M 484.996094 580 L 376.449219 377.238281 \"/>\n",
       "<path style=\"fill:none;stroke-width:1;stroke-linecap:butt;stroke-linejoin:miter;stroke:rgb(26.666667%,26.666667%,26.666667%);stroke-opacity:1;stroke-miterlimit:10;\" d=\"M 484.996094 580 L 546.542969 374.378906 \"/>\n",
       "<path style=\"fill:none;stroke-width:1;stroke-linecap:butt;stroke-linejoin:miter;stroke:rgb(26.666667%,26.666667%,26.666667%);stroke-opacity:1;stroke-miterlimit:10;\" d=\"M 484.996094 580 L 368.246094 543.660156 \"/>\n",
       "<path style=\"fill:none;stroke-width:1;stroke-linecap:butt;stroke-linejoin:miter;stroke:rgb(26.666667%,26.666667%,26.666667%);stroke-opacity:1;stroke-miterlimit:10;\" d=\"M 376.449219 377.238281 L 546.542969 374.378906 \"/>\n",
       "<path style=\"fill:none;stroke-width:1;stroke-linecap:butt;stroke-linejoin:miter;stroke:rgb(26.666667%,26.666667%,26.666667%);stroke-opacity:1;stroke-miterlimit:10;\" d=\"M 376.449219 377.238281 L 368.246094 543.660156 \"/>\n",
       "<path style=\"fill:none;stroke-width:1;stroke-linecap:butt;stroke-linejoin:miter;stroke:rgb(26.666667%,26.666667%,26.666667%);stroke-opacity:1;stroke-miterlimit:10;\" d=\"M 546.542969 374.378906 L 368.246094 543.660156 \"/>\n",
       "<path style=\"fill:none;stroke-width:1;stroke-linecap:butt;stroke-linejoin:miter;stroke:rgb(26.666667%,26.666667%,26.666667%);stroke-opacity:1;stroke-miterlimit:10;\" d=\"M 53.457031 225.621094 L 20 110.203125 \"/>\n",
       "<path style=\"fill:none;stroke-width:1;stroke-linecap:butt;stroke-linejoin:miter;stroke:rgb(26.666667%,26.666667%,26.666667%);stroke-opacity:1;stroke-miterlimit:10;\" d=\"M 53.457031 225.621094 L 115.003906 20 \"/>\n",
       "<path style=\"fill:none;stroke-width:1;stroke-linecap:butt;stroke-linejoin:miter;stroke:rgb(26.666667%,26.666667%,26.666667%);stroke-opacity:1;stroke-miterlimit:10;\" d=\"M 53.457031 225.621094 L 231.753906 56.339844 \"/>\n",
       "<path style=\"fill:none;stroke-width:1;stroke-linecap:butt;stroke-linejoin:miter;stroke:rgb(26.666667%,26.666667%,26.666667%);stroke-opacity:1;stroke-miterlimit:10;\" d=\"M 53.457031 225.621094 L 223.550781 222.761719 \"/>\n",
       "<path style=\"fill:none;stroke-width:1;stroke-linecap:butt;stroke-linejoin:miter;stroke:rgb(26.666667%,26.666667%,26.666667%);stroke-opacity:1;stroke-miterlimit:10;\" d=\"M 20 110.203125 L 115.003906 20 \"/>\n",
       "<path style=\"fill:none;stroke-width:1;stroke-linecap:butt;stroke-linejoin:miter;stroke:rgb(26.666667%,26.666667%,26.666667%);stroke-opacity:1;stroke-miterlimit:10;\" d=\"M 20 110.203125 L 231.753906 56.339844 \"/>\n",
       "<path style=\"fill:none;stroke-width:1;stroke-linecap:butt;stroke-linejoin:miter;stroke:rgb(26.666667%,26.666667%,26.666667%);stroke-opacity:1;stroke-miterlimit:10;\" d=\"M 20 110.203125 L 223.550781 222.761719 \"/>\n",
       "<path style=\"fill:none;stroke-width:1;stroke-linecap:butt;stroke-linejoin:miter;stroke:rgb(26.666667%,26.666667%,26.666667%);stroke-opacity:1;stroke-miterlimit:10;\" d=\"M 115.003906 20 L 231.753906 56.339844 \"/>\n",
       "<path style=\"fill:none;stroke-width:1;stroke-linecap:butt;stroke-linejoin:miter;stroke:rgb(26.666667%,26.666667%,26.666667%);stroke-opacity:1;stroke-miterlimit:10;\" d=\"M 115.003906 20 L 223.550781 222.761719 \"/>\n",
       "<path style=\"fill:none;stroke-width:1;stroke-linecap:butt;stroke-linejoin:miter;stroke:rgb(26.666667%,26.666667%,26.666667%);stroke-opacity:1;stroke-miterlimit:10;\" d=\"M 231.753906 56.339844 L 223.550781 222.761719 \"/>\n",
       "<path style=\"fill:none;stroke-width:1;stroke-linecap:butt;stroke-linejoin:miter;stroke:rgb(26.666667%,26.666667%,26.666667%);stroke-opacity:1;stroke-miterlimit:10;\" d=\"M 376.449219 377.238281 L 223.550781 222.761719 \"/>\n",
       "<path style=\"fill-rule:nonzero;fill:rgb(100%,0%,0%);fill-opacity:1;stroke-width:1;stroke-linecap:butt;stroke-linejoin:miter;stroke:rgb(0%,0%,0%);stroke-opacity:1;stroke-miterlimit:10;\" d=\"M 590 489.796875 C 590 495.320312 585.523438 499.796875 580 499.796875 C 574.476562 499.796875 570 495.320312 570 489.796875 C 570 484.273438 574.476562 479.796875 580 479.796875 C 585.523438 479.796875 590 484.273438 590 489.796875 \"/>\n",
       "<path style=\"fill-rule:nonzero;fill:rgb(100%,0%,0%);fill-opacity:1;stroke-width:1;stroke-linecap:butt;stroke-linejoin:miter;stroke:rgb(0%,0%,0%);stroke-opacity:1;stroke-miterlimit:10;\" d=\"M 494.996094 580 C 494.996094 585.523438 490.515625 590 484.996094 590 C 479.472656 590 474.996094 585.523438 474.996094 580 C 474.996094 574.476562 479.472656 570 484.996094 570 C 490.515625 570 494.996094 574.476562 494.996094 580 \"/>\n",
       "<path style=\"fill-rule:nonzero;fill:rgb(100%,0%,0%);fill-opacity:1;stroke-width:1;stroke-linecap:butt;stroke-linejoin:miter;stroke:rgb(0%,0%,0%);stroke-opacity:1;stroke-miterlimit:10;\" d=\"M 386.449219 377.238281 C 386.449219 382.761719 381.972656 387.238281 376.449219 387.238281 C 370.925781 387.238281 366.449219 382.761719 366.449219 377.238281 C 366.449219 371.714844 370.925781 367.238281 376.449219 367.238281 C 381.972656 367.238281 386.449219 371.714844 386.449219 377.238281 \"/>\n",
       "<path style=\"fill-rule:nonzero;fill:rgb(100%,0%,0%);fill-opacity:1;stroke-width:1;stroke-linecap:butt;stroke-linejoin:miter;stroke:rgb(0%,0%,0%);stroke-opacity:1;stroke-miterlimit:10;\" d=\"M 556.542969 374.378906 C 556.542969 379.902344 552.066406 384.378906 546.542969 384.378906 C 541.019531 384.378906 536.542969 379.902344 536.542969 374.378906 C 536.542969 368.855469 541.019531 364.378906 546.542969 364.378906 C 552.066406 364.378906 556.542969 368.855469 556.542969 374.378906 \"/>\n",
       "<path style=\"fill-rule:nonzero;fill:rgb(100%,0%,0%);fill-opacity:1;stroke-width:1;stroke-linecap:butt;stroke-linejoin:miter;stroke:rgb(0%,0%,0%);stroke-opacity:1;stroke-miterlimit:10;\" d=\"M 378.246094 543.660156 C 378.246094 549.183594 373.769531 553.660156 368.246094 553.660156 C 362.722656 553.660156 358.246094 549.183594 358.246094 543.660156 C 358.246094 538.140625 362.722656 533.660156 368.246094 533.660156 C 373.769531 533.660156 378.246094 538.140625 378.246094 543.660156 \"/>\n",
       "<path style=\"fill-rule:nonzero;fill:rgb(100%,0%,0%);fill-opacity:1;stroke-width:1;stroke-linecap:butt;stroke-linejoin:miter;stroke:rgb(0%,0%,0%);stroke-opacity:1;stroke-miterlimit:10;\" d=\"M 63.457031 225.621094 C 63.457031 231.144531 58.980469 235.621094 53.457031 235.621094 C 47.933594 235.621094 43.457031 231.144531 43.457031 225.621094 C 43.457031 220.097656 47.933594 215.621094 53.457031 215.621094 C 58.980469 215.621094 63.457031 220.097656 63.457031 225.621094 \"/>\n",
       "<path style=\"fill-rule:nonzero;fill:rgb(100%,0%,0%);fill-opacity:1;stroke-width:1;stroke-linecap:butt;stroke-linejoin:miter;stroke:rgb(0%,0%,0%);stroke-opacity:1;stroke-miterlimit:10;\" d=\"M 30 110.203125 C 30 115.726562 25.523438 120.203125 20 120.203125 C 14.476562 120.203125 10 115.726562 10 110.203125 C 10 104.679688 14.476562 100.203125 20 100.203125 C 25.523438 100.203125 30 104.679688 30 110.203125 \"/>\n",
       "<path style=\"fill-rule:nonzero;fill:rgb(100%,0%,0%);fill-opacity:1;stroke-width:1;stroke-linecap:butt;stroke-linejoin:miter;stroke:rgb(0%,0%,0%);stroke-opacity:1;stroke-miterlimit:10;\" d=\"M 125.003906 20 C 125.003906 25.523438 120.527344 30 115.003906 30 C 109.484375 30 105.003906 25.523438 105.003906 20 C 105.003906 14.476562 109.484375 10 115.003906 10 C 120.527344 10 125.003906 14.476562 125.003906 20 \"/>\n",
       "<path style=\"fill-rule:nonzero;fill:rgb(100%,0%,0%);fill-opacity:1;stroke-width:1;stroke-linecap:butt;stroke-linejoin:miter;stroke:rgb(0%,0%,0%);stroke-opacity:1;stroke-miterlimit:10;\" d=\"M 241.753906 56.339844 C 241.753906 61.859375 237.277344 66.339844 231.753906 66.339844 C 226.230469 66.339844 221.753906 61.859375 221.753906 56.339844 C 221.753906 50.816406 226.230469 46.339844 231.753906 46.339844 C 237.277344 46.339844 241.753906 50.816406 241.753906 56.339844 \"/>\n",
       "<path style=\"fill-rule:nonzero;fill:rgb(100%,0%,0%);fill-opacity:1;stroke-width:1;stroke-linecap:butt;stroke-linejoin:miter;stroke:rgb(0%,0%,0%);stroke-opacity:1;stroke-miterlimit:10;\" d=\"M 233.550781 222.761719 C 233.550781 228.285156 229.074219 232.761719 223.550781 232.761719 C 218.027344 232.761719 213.550781 228.285156 213.550781 222.761719 C 213.550781 217.238281 218.027344 212.761719 223.550781 212.761719 C 229.074219 212.761719 233.550781 217.238281 233.550781 222.761719 \"/>\n",
       "</g>\n",
       "</svg>\n"
      ],
      "text/plain": [
       "<igraph.drawing.Plot at 0x10795e220>"
      ]
     },
     "execution_count": 4,
     "metadata": {
      "image/svg+xml": {
       "isolated": true
      }
     },
     "output_type": "execute_result"
    }
   ],
   "source": [
    "layout = g.layout_auto()\n",
    "ig.plot(g, layout = layout)"
   ]
  },
  {
   "cell_type": "markdown",
   "metadata": {},
   "source": [
    "## Graph Laplacian"
   ]
  },
  {
   "cell_type": "code",
   "execution_count": 5,
   "metadata": {},
   "outputs": [
    {
     "data": {
      "image/png": "[encoded data removed]",
      "text/plain": [
       "<Figure size 432x288 with 2 Axes>"
      ]
     },
     "metadata": {
      "needs_background": "light"
     },
     "output_type": "display_data"
    }
   ],
   "source": [
    "L = g.laplacian()\n",
    "fig, ax = plt.subplots()\n",
    "ax = sns.heatmap(L, ax=ax, center=0, cmap='BrBG')"
   ]
  },
  {
   "cell_type": "markdown",
   "metadata": {},
   "source": [
    "## Spectral analysis"
   ]
  },
  {
   "cell_type": "code",
   "execution_count": 6,
   "metadata": {},
   "outputs": [
    {
     "data": {
      "image/png": "[encoded data removed]",
      "text/plain": [
       "<Figure size 432x288 with 1 Axes>"
      ]
     },
     "metadata": {
      "needs_background": "light"
     },
     "output_type": "display_data"
    }
   ],
   "source": [
    "w, v = la.eigh(L)\n",
    "fig, ax = plt.subplots()\n",
    "ax.bar(np.arange(len(L)), w)\n",
    "_ = ax.set_title('Eigenvalues')"
   ]
  },
  {
   "cell_type": "code",
   "execution_count": 7,
   "metadata": {},
   "outputs": [],
   "source": [
    "vmax = np.abs(v).max()\n",
    "cmap = cm.get_cmap('BrBG')"
   ]
  },
  {
   "cell_type": "code",
   "execution_count": 8,
   "metadata": {},
   "outputs": [],
   "source": [
    "def set_evec_colors(g, v):\n",
    "    scaled_evec = (v / vmax + 1) / 2\n",
    "    g.vs['color'] = list(map(colors.rgb2hex, cmap(scaled_evec)))"
   ]
  },
  {
   "cell_type": "code",
   "execution_count": 9,
   "metadata": {},
   "outputs": [
    {
     "data": {
      "image/svg+xml": [
       "<?xml version=\"1.0\" encoding=\"UTF-8\"?>\n",
       "<svg xmlns=\"http://www.w3.org/2000/svg\" xmlns:xlink=\"http://www.w3.org/1999/xlink\" width=\"500pt\" height=\"200pt\" viewBox=\"0 0 500 200\" version=\"1.1\">\n",
       "<g id=\"surface8\">\n",
       "<rect x=\"0\" y=\"0\" width=\"500\" height=\"200\" style=\"fill:rgb(100%,100%,100%);fill-opacity:1;stroke:none;\"/>\n",
       "<path style=\"fill:none;stroke-width:1;stroke-linecap:butt;stroke-linejoin:miter;stroke:rgb(26.666667%,26.666667%,26.666667%);stroke-opacity:1;stroke-miterlimit:10;\" d=\"M 480 154.226562 L 401.960938 180 \"/>\n",
       "<path style=\"fill:none;stroke-width:1;stroke-linecap:butt;stroke-linejoin:miter;stroke:rgb(26.666667%,26.666667%,26.666667%);stroke-opacity:1;stroke-miterlimit:10;\" d=\"M 480 154.226562 L 312.796875 122.066406 \"/>\n",
       "<path style=\"fill:none;stroke-width:1;stroke-linecap:butt;stroke-linejoin:miter;stroke:rgb(26.666667%,26.666667%,26.666667%);stroke-opacity:1;stroke-miterlimit:10;\" d=\"M 480 154.226562 L 452.519531 121.25 \"/>\n",
       "<path style=\"fill:none;stroke-width:1;stroke-linecap:butt;stroke-linejoin:miter;stroke:rgb(26.666667%,26.666667%,26.666667%);stroke-opacity:1;stroke-miterlimit:10;\" d=\"M 480 154.226562 L 306.058594 169.617188 \"/>\n",
       "<path style=\"fill:none;stroke-width:1;stroke-linecap:butt;stroke-linejoin:miter;stroke:rgb(26.666667%,26.666667%,26.666667%);stroke-opacity:1;stroke-miterlimit:10;\" d=\"M 401.960938 180 L 312.796875 122.066406 \"/>\n",
       "<path style=\"fill:none;stroke-width:1;stroke-linecap:butt;stroke-linejoin:miter;stroke:rgb(26.666667%,26.666667%,26.666667%);stroke-opacity:1;stroke-miterlimit:10;\" d=\"M 401.960938 180 L 452.519531 121.25 \"/>\n",
       "<path style=\"fill:none;stroke-width:1;stroke-linecap:butt;stroke-linejoin:miter;stroke:rgb(26.666667%,26.666667%,26.666667%);stroke-opacity:1;stroke-miterlimit:10;\" d=\"M 401.960938 180 L 306.058594 169.617188 \"/>\n",
       "<path style=\"fill:none;stroke-width:1;stroke-linecap:butt;stroke-linejoin:miter;stroke:rgb(26.666667%,26.666667%,26.666667%);stroke-opacity:1;stroke-miterlimit:10;\" d=\"M 312.796875 122.066406 L 452.519531 121.25 \"/>\n",
       "<path style=\"fill:none;stroke-width:1;stroke-linecap:butt;stroke-linejoin:miter;stroke:rgb(26.666667%,26.666667%,26.666667%);stroke-opacity:1;stroke-miterlimit:10;\" d=\"M 312.796875 122.066406 L 306.058594 169.617188 \"/>\n",
       "<path style=\"fill:none;stroke-width:1;stroke-linecap:butt;stroke-linejoin:miter;stroke:rgb(26.666667%,26.666667%,26.666667%);stroke-opacity:1;stroke-miterlimit:10;\" d=\"M 452.519531 121.25 L 306.058594 169.617188 \"/>\n",
       "<path style=\"fill:none;stroke-width:1;stroke-linecap:butt;stroke-linejoin:miter;stroke:rgb(26.666667%,26.666667%,26.666667%);stroke-opacity:1;stroke-miterlimit:10;\" d=\"M 47.480469 78.75 L 20 45.773438 \"/>\n",
       "<path style=\"fill:none;stroke-width:1;stroke-linecap:butt;stroke-linejoin:miter;stroke:rgb(26.666667%,26.666667%,26.666667%);stroke-opacity:1;stroke-miterlimit:10;\" d=\"M 47.480469 78.75 L 98.039062 20 \"/>\n",
       "<path style=\"fill:none;stroke-width:1;stroke-linecap:butt;stroke-linejoin:miter;stroke:rgb(26.666667%,26.666667%,26.666667%);stroke-opacity:1;stroke-miterlimit:10;\" d=\"M 47.480469 78.75 L 193.941406 30.382812 \"/>\n",
       "<path style=\"fill:none;stroke-width:1;stroke-linecap:butt;stroke-linejoin:miter;stroke:rgb(26.666667%,26.666667%,26.666667%);stroke-opacity:1;stroke-miterlimit:10;\" d=\"M 47.480469 78.75 L 187.203125 77.933594 \"/>\n",
       "<path style=\"fill:none;stroke-width:1;stroke-linecap:butt;stroke-linejoin:miter;stroke:rgb(26.666667%,26.666667%,26.666667%);stroke-opacity:1;stroke-miterlimit:10;\" d=\"M 20 45.773438 L 98.039062 20 \"/>\n",
       "<path style=\"fill:none;stroke-width:1;stroke-linecap:butt;stroke-linejoin:miter;stroke:rgb(26.666667%,26.666667%,26.666667%);stroke-opacity:1;stroke-miterlimit:10;\" d=\"M 20 45.773438 L 193.941406 30.382812 \"/>\n",
       "<path style=\"fill:none;stroke-width:1;stroke-linecap:butt;stroke-linejoin:miter;stroke:rgb(26.666667%,26.666667%,26.666667%);stroke-opacity:1;stroke-miterlimit:10;\" d=\"M 20 45.773438 L 187.203125 77.933594 \"/>\n",
       "<path style=\"fill:none;stroke-width:1;stroke-linecap:butt;stroke-linejoin:miter;stroke:rgb(26.666667%,26.666667%,26.666667%);stroke-opacity:1;stroke-miterlimit:10;\" d=\"M 98.039062 20 L 193.941406 30.382812 \"/>\n",
       "<path style=\"fill:none;stroke-width:1;stroke-linecap:butt;stroke-linejoin:miter;stroke:rgb(26.666667%,26.666667%,26.666667%);stroke-opacity:1;stroke-miterlimit:10;\" d=\"M 98.039062 20 L 187.203125 77.933594 \"/>\n",
       "<path style=\"fill:none;stroke-width:1;stroke-linecap:butt;stroke-linejoin:miter;stroke:rgb(26.666667%,26.666667%,26.666667%);stroke-opacity:1;stroke-miterlimit:10;\" d=\"M 193.941406 30.382812 L 187.203125 77.933594 \"/>\n",
       "<path style=\"fill:none;stroke-width:1;stroke-linecap:butt;stroke-linejoin:miter;stroke:rgb(26.666667%,26.666667%,26.666667%);stroke-opacity:1;stroke-miterlimit:10;\" d=\"M 312.796875 122.066406 L 187.203125 77.933594 \"/>\n",
       "<path style=\"fill-rule:nonzero;fill:rgb(56.078431%,82.745098%,78.823529%);fill-opacity:1;stroke-width:1;stroke-linecap:butt;stroke-linejoin:miter;stroke:rgb(0%,0%,0%);stroke-opacity:1;stroke-miterlimit:10;\" d=\"M 490 154.226562 C 490 159.75 485.523438 164.226562 480 164.226562 C 474.476562 164.226562 470 159.75 470 154.226562 C 470 148.703125 474.476562 144.226562 480 144.226562 C 485.523438 144.226562 490 148.703125 490 154.226562 \"/>\n",
       "<path style=\"fill-rule:nonzero;fill:rgb(56.078431%,82.745098%,78.823529%);fill-opacity:1;stroke-width:1;stroke-linecap:butt;stroke-linejoin:miter;stroke:rgb(0%,0%,0%);stroke-opacity:1;stroke-miterlimit:10;\" d=\"M 411.960938 180 C 411.960938 185.523438 407.484375 190 401.960938 190 C 396.4375 190 391.960938 185.523438 391.960938 180 C 391.960938 174.476562 396.4375 170 401.960938 170 C 407.484375 170 411.960938 174.476562 411.960938 180 \"/>\n",
       "<path style=\"fill-rule:nonzero;fill:rgb(56.078431%,82.745098%,78.823529%);fill-opacity:1;stroke-width:1;stroke-linecap:butt;stroke-linejoin:miter;stroke:rgb(0%,0%,0%);stroke-opacity:1;stroke-miterlimit:10;\" d=\"M 322.796875 122.066406 C 322.796875 127.589844 318.320312 132.066406 312.796875 132.066406 C 307.273438 132.066406 302.796875 127.589844 302.796875 122.066406 C 302.796875 116.546875 307.273438 112.066406 312.796875 112.066406 C 318.320312 112.066406 322.796875 116.546875 322.796875 122.066406 \"/>\n",
       "<path style=\"fill-rule:nonzero;fill:rgb(56.078431%,82.745098%,78.823529%);fill-opacity:1;stroke-width:1;stroke-linecap:butt;stroke-linejoin:miter;stroke:rgb(0%,0%,0%);stroke-opacity:1;stroke-miterlimit:10;\" d=\"M 462.519531 121.25 C 462.519531 126.773438 458.039062 131.25 452.519531 131.25 C 446.996094 131.25 442.519531 126.773438 442.519531 121.25 C 442.519531 115.726562 446.996094 111.25 452.519531 111.25 C 458.039062 111.25 462.519531 115.726562 462.519531 121.25 \"/>\n",
       "<path style=\"fill-rule:nonzero;fill:rgb(56.078431%,82.745098%,78.823529%);fill-opacity:1;stroke-width:1;stroke-linecap:butt;stroke-linejoin:miter;stroke:rgb(0%,0%,0%);stroke-opacity:1;stroke-miterlimit:10;\" d=\"M 316.058594 169.617188 C 316.058594 175.140625 311.582031 179.617188 306.058594 179.617188 C 300.535156 179.617188 296.058594 175.140625 296.058594 169.617188 C 296.058594 164.09375 300.535156 159.617188 306.058594 159.617188 C 311.582031 159.617188 316.058594 164.09375 316.058594 169.617188 \"/>\n",
       "<path style=\"fill-rule:nonzero;fill:rgb(56.078431%,82.745098%,78.823529%);fill-opacity:1;stroke-width:1;stroke-linecap:butt;stroke-linejoin:miter;stroke:rgb(0%,0%,0%);stroke-opacity:1;stroke-miterlimit:10;\" d=\"M 57.480469 78.75 C 57.480469 84.273438 53.003906 88.75 47.480469 88.75 C 41.960938 88.75 37.480469 84.273438 37.480469 78.75 C 37.480469 73.226562 41.960938 68.75 47.480469 68.75 C 53.003906 68.75 57.480469 73.226562 57.480469 78.75 \"/>\n",
       "<path style=\"fill-rule:nonzero;fill:rgb(56.078431%,82.745098%,78.823529%);fill-opacity:1;stroke-width:1;stroke-linecap:butt;stroke-linejoin:miter;stroke:rgb(0%,0%,0%);stroke-opacity:1;stroke-miterlimit:10;\" d=\"M 30 45.773438 C 30 51.296875 25.523438 55.773438 20 55.773438 C 14.476562 55.773438 10 51.296875 10 45.773438 C 10 40.25 14.476562 35.773438 20 35.773438 C 25.523438 35.773438 30 40.25 30 45.773438 \"/>\n",
       "<path style=\"fill-rule:nonzero;fill:rgb(56.078431%,82.745098%,78.823529%);fill-opacity:1;stroke-width:1;stroke-linecap:butt;stroke-linejoin:miter;stroke:rgb(0%,0%,0%);stroke-opacity:1;stroke-miterlimit:10;\" d=\"M 108.039062 20 C 108.039062 25.523438 103.5625 30 98.039062 30 C 92.515625 30 88.039062 25.523438 88.039062 20 C 88.039062 14.476562 92.515625 10 98.039062 10 C 103.5625 10 108.039062 14.476562 108.039062 20 \"/>\n",
       "<path style=\"fill-rule:nonzero;fill:rgb(56.078431%,82.745098%,78.823529%);fill-opacity:1;stroke-width:1;stroke-linecap:butt;stroke-linejoin:miter;stroke:rgb(0%,0%,0%);stroke-opacity:1;stroke-miterlimit:10;\" d=\"M 203.941406 30.382812 C 203.941406 35.90625 199.464844 40.382812 193.941406 40.382812 C 188.417969 40.382812 183.941406 35.90625 183.941406 30.382812 C 183.941406 24.859375 188.417969 20.382812 193.941406 20.382812 C 199.464844 20.382812 203.941406 24.859375 203.941406 30.382812 \"/>\n",
       "<path style=\"fill-rule:nonzero;fill:rgb(56.078431%,82.745098%,78.823529%);fill-opacity:1;stroke-width:1;stroke-linecap:butt;stroke-linejoin:miter;stroke:rgb(0%,0%,0%);stroke-opacity:1;stroke-miterlimit:10;\" d=\"M 197.203125 77.933594 C 197.203125 83.453125 192.726562 87.933594 187.203125 87.933594 C 181.679688 87.933594 177.203125 83.453125 177.203125 77.933594 C 177.203125 72.410156 181.679688 67.933594 187.203125 67.933594 C 192.726562 67.933594 197.203125 72.410156 197.203125 77.933594 \"/>\n",
       "</g>\n",
       "</svg>\n"
      ],
      "text/plain": [
       "<igraph.drawing.Plot at 0x1268932e0>"
      ]
     },
     "execution_count": 9,
     "metadata": {
      "image/svg+xml": {
       "isolated": true
      }
     },
     "output_type": "execute_result"
    }
   ],
   "source": [
    "set_evec_colors(g, v[:, 0])\n",
    "ig.plot(g, layout = layout, bbox=(0, 0, 500, 200))"
   ]
  },
  {
   "cell_type": "code",
   "execution_count": 10,
   "metadata": {},
   "outputs": [
    {
     "data": {
      "image/svg+xml": [
       "<?xml version=\"1.0\" encoding=\"UTF-8\"?>\n",
       "<svg xmlns=\"http://www.w3.org/2000/svg\" xmlns:xlink=\"http://www.w3.org/1999/xlink\" width=\"500pt\" height=\"200pt\" viewBox=\"0 0 500 200\" version=\"1.1\">\n",
       "<g id=\"surface14\">\n",
       "<rect x=\"0\" y=\"0\" width=\"500\" height=\"200\" style=\"fill:rgb(100%,100%,100%);fill-opacity:1;stroke:none;\"/>\n",
       "<path style=\"fill:none;stroke-width:1;stroke-linecap:butt;stroke-linejoin:miter;stroke:rgb(26.666667%,26.666667%,26.666667%);stroke-opacity:1;stroke-miterlimit:10;\" d=\"M 480 154.226562 L 401.960938 180 \"/>\n",
       "<path style=\"fill:none;stroke-width:1;stroke-linecap:butt;stroke-linejoin:miter;stroke:rgb(26.666667%,26.666667%,26.666667%);stroke-opacity:1;stroke-miterlimit:10;\" d=\"M 480 154.226562 L 312.796875 122.066406 \"/>\n",
       "<path style=\"fill:none;stroke-width:1;stroke-linecap:butt;stroke-linejoin:miter;stroke:rgb(26.666667%,26.666667%,26.666667%);stroke-opacity:1;stroke-miterlimit:10;\" d=\"M 480 154.226562 L 452.519531 121.25 \"/>\n",
       "<path style=\"fill:none;stroke-width:1;stroke-linecap:butt;stroke-linejoin:miter;stroke:rgb(26.666667%,26.666667%,26.666667%);stroke-opacity:1;stroke-miterlimit:10;\" d=\"M 480 154.226562 L 306.058594 169.617188 \"/>\n",
       "<path style=\"fill:none;stroke-width:1;stroke-linecap:butt;stroke-linejoin:miter;stroke:rgb(26.666667%,26.666667%,26.666667%);stroke-opacity:1;stroke-miterlimit:10;\" d=\"M 401.960938 180 L 312.796875 122.066406 \"/>\n",
       "<path style=\"fill:none;stroke-width:1;stroke-linecap:butt;stroke-linejoin:miter;stroke:rgb(26.666667%,26.666667%,26.666667%);stroke-opacity:1;stroke-miterlimit:10;\" d=\"M 401.960938 180 L 452.519531 121.25 \"/>\n",
       "<path style=\"fill:none;stroke-width:1;stroke-linecap:butt;stroke-linejoin:miter;stroke:rgb(26.666667%,26.666667%,26.666667%);stroke-opacity:1;stroke-miterlimit:10;\" d=\"M 401.960938 180 L 306.058594 169.617188 \"/>\n",
       "<path style=\"fill:none;stroke-width:1;stroke-linecap:butt;stroke-linejoin:miter;stroke:rgb(26.666667%,26.666667%,26.666667%);stroke-opacity:1;stroke-miterlimit:10;\" d=\"M 312.796875 122.066406 L 452.519531 121.25 \"/>\n",
       "<path style=\"fill:none;stroke-width:1;stroke-linecap:butt;stroke-linejoin:miter;stroke:rgb(26.666667%,26.666667%,26.666667%);stroke-opacity:1;stroke-miterlimit:10;\" d=\"M 312.796875 122.066406 L 306.058594 169.617188 \"/>\n",
       "<path style=\"fill:none;stroke-width:1;stroke-linecap:butt;stroke-linejoin:miter;stroke:rgb(26.666667%,26.666667%,26.666667%);stroke-opacity:1;stroke-miterlimit:10;\" d=\"M 452.519531 121.25 L 306.058594 169.617188 \"/>\n",
       "<path style=\"fill:none;stroke-width:1;stroke-linecap:butt;stroke-linejoin:miter;stroke:rgb(26.666667%,26.666667%,26.666667%);stroke-opacity:1;stroke-miterlimit:10;\" d=\"M 47.480469 78.75 L 20 45.773438 \"/>\n",
       "<path style=\"fill:none;stroke-width:1;stroke-linecap:butt;stroke-linejoin:miter;stroke:rgb(26.666667%,26.666667%,26.666667%);stroke-opacity:1;stroke-miterlimit:10;\" d=\"M 47.480469 78.75 L 98.039062 20 \"/>\n",
       "<path style=\"fill:none;stroke-width:1;stroke-linecap:butt;stroke-linejoin:miter;stroke:rgb(26.666667%,26.666667%,26.666667%);stroke-opacity:1;stroke-miterlimit:10;\" d=\"M 47.480469 78.75 L 193.941406 30.382812 \"/>\n",
       "<path style=\"fill:none;stroke-width:1;stroke-linecap:butt;stroke-linejoin:miter;stroke:rgb(26.666667%,26.666667%,26.666667%);stroke-opacity:1;stroke-miterlimit:10;\" d=\"M 47.480469 78.75 L 187.203125 77.933594 \"/>\n",
       "<path style=\"fill:none;stroke-width:1;stroke-linecap:butt;stroke-linejoin:miter;stroke:rgb(26.666667%,26.666667%,26.666667%);stroke-opacity:1;stroke-miterlimit:10;\" d=\"M 20 45.773438 L 98.039062 20 \"/>\n",
       "<path style=\"fill:none;stroke-width:1;stroke-linecap:butt;stroke-linejoin:miter;stroke:rgb(26.666667%,26.666667%,26.666667%);stroke-opacity:1;stroke-miterlimit:10;\" d=\"M 20 45.773438 L 193.941406 30.382812 \"/>\n",
       "<path style=\"fill:none;stroke-width:1;stroke-linecap:butt;stroke-linejoin:miter;stroke:rgb(26.666667%,26.666667%,26.666667%);stroke-opacity:1;stroke-miterlimit:10;\" d=\"M 20 45.773438 L 187.203125 77.933594 \"/>\n",
       "<path style=\"fill:none;stroke-width:1;stroke-linecap:butt;stroke-linejoin:miter;stroke:rgb(26.666667%,26.666667%,26.666667%);stroke-opacity:1;stroke-miterlimit:10;\" d=\"M 98.039062 20 L 193.941406 30.382812 \"/>\n",
       "<path style=\"fill:none;stroke-width:1;stroke-linecap:butt;stroke-linejoin:miter;stroke:rgb(26.666667%,26.666667%,26.666667%);stroke-opacity:1;stroke-miterlimit:10;\" d=\"M 98.039062 20 L 187.203125 77.933594 \"/>\n",
       "<path style=\"fill:none;stroke-width:1;stroke-linecap:butt;stroke-linejoin:miter;stroke:rgb(26.666667%,26.666667%,26.666667%);stroke-opacity:1;stroke-miterlimit:10;\" d=\"M 193.941406 30.382812 L 187.203125 77.933594 \"/>\n",
       "<path style=\"fill:none;stroke-width:1;stroke-linecap:butt;stroke-linejoin:miter;stroke:rgb(26.666667%,26.666667%,26.666667%);stroke-opacity:1;stroke-miterlimit:10;\" d=\"M 312.796875 122.066406 L 187.203125 77.933594 \"/>\n",
       "<path style=\"fill-rule:nonzero;fill:rgb(88.235294%,77.647059%,51.764706%);fill-opacity:1;stroke-width:1;stroke-linecap:butt;stroke-linejoin:miter;stroke:rgb(0%,0%,0%);stroke-opacity:1;stroke-miterlimit:10;\" d=\"M 490 154.226562 C 490 159.75 485.523438 164.226562 480 164.226562 C 474.476562 164.226562 470 159.75 470 154.226562 C 470 148.703125 474.476562 144.226562 480 144.226562 C 485.523438 144.226562 490 148.703125 490 154.226562 \"/>\n",
       "<path style=\"fill-rule:nonzero;fill:rgb(88.235294%,77.647059%,51.764706%);fill-opacity:1;stroke-width:1;stroke-linecap:butt;stroke-linejoin:miter;stroke:rgb(0%,0%,0%);stroke-opacity:1;stroke-miterlimit:10;\" d=\"M 411.960938 180 C 411.960938 185.523438 407.484375 190 401.960938 190 C 396.4375 190 391.960938 185.523438 391.960938 180 C 391.960938 174.476562 396.4375 170 401.960938 170 C 407.484375 170 411.960938 174.476562 411.960938 180 \"/>\n",
       "<path style=\"fill-rule:nonzero;fill:rgb(93.333333%,85.882353%,66.666667%);fill-opacity:1;stroke-width:1;stroke-linecap:butt;stroke-linejoin:miter;stroke:rgb(0%,0%,0%);stroke-opacity:1;stroke-miterlimit:10;\" d=\"M 322.796875 122.066406 C 322.796875 127.589844 318.320312 132.066406 312.796875 132.066406 C 307.273438 132.066406 302.796875 127.589844 302.796875 122.066406 C 302.796875 116.546875 307.273438 112.066406 312.796875 112.066406 C 318.320312 112.066406 322.796875 116.546875 322.796875 122.066406 \"/>\n",
       "<path style=\"fill-rule:nonzero;fill:rgb(88.235294%,77.647059%,51.764706%);fill-opacity:1;stroke-width:1;stroke-linecap:butt;stroke-linejoin:miter;stroke:rgb(0%,0%,0%);stroke-opacity:1;stroke-miterlimit:10;\" d=\"M 462.519531 121.25 C 462.519531 126.773438 458.039062 131.25 452.519531 131.25 C 446.996094 131.25 442.519531 126.773438 442.519531 121.25 C 442.519531 115.726562 446.996094 111.25 452.519531 111.25 C 458.039062 111.25 462.519531 115.726562 462.519531 121.25 \"/>\n",
       "<path style=\"fill-rule:nonzero;fill:rgb(88.235294%,77.647059%,51.764706%);fill-opacity:1;stroke-width:1;stroke-linecap:butt;stroke-linejoin:miter;stroke:rgb(0%,0%,0%);stroke-opacity:1;stroke-miterlimit:10;\" d=\"M 316.058594 169.617188 C 316.058594 175.140625 311.582031 179.617188 306.058594 179.617188 C 300.535156 179.617188 296.058594 175.140625 296.058594 169.617188 C 296.058594 164.09375 300.535156 159.617188 306.058594 159.617188 C 311.582031 159.617188 316.058594 164.09375 316.058594 169.617188 \"/>\n",
       "<path style=\"fill-rule:nonzero;fill:rgb(52.941176%,81.568627%,77.254902%);fill-opacity:1;stroke-width:1;stroke-linecap:butt;stroke-linejoin:miter;stroke:rgb(0%,0%,0%);stroke-opacity:1;stroke-miterlimit:10;\" d=\"M 57.480469 78.75 C 57.480469 84.273438 53.003906 88.75 47.480469 88.75 C 41.960938 88.75 37.480469 84.273438 37.480469 78.75 C 37.480469 73.226562 41.960938 68.75 47.480469 68.75 C 53.003906 68.75 57.480469 73.226562 57.480469 78.75 \"/>\n",
       "<path style=\"fill-rule:nonzero;fill:rgb(52.941176%,81.568627%,77.254902%);fill-opacity:1;stroke-width:1;stroke-linecap:butt;stroke-linejoin:miter;stroke:rgb(0%,0%,0%);stroke-opacity:1;stroke-miterlimit:10;\" d=\"M 30 45.773438 C 30 51.296875 25.523438 55.773438 20 55.773438 C 14.476562 55.773438 10 51.296875 10 45.773438 C 10 40.25 14.476562 35.773438 20 35.773438 C 25.523438 35.773438 30 40.25 30 45.773438 \"/>\n",
       "<path style=\"fill-rule:nonzero;fill:rgb(52.941176%,81.568627%,77.254902%);fill-opacity:1;stroke-width:1;stroke-linecap:butt;stroke-linejoin:miter;stroke:rgb(0%,0%,0%);stroke-opacity:1;stroke-miterlimit:10;\" d=\"M 108.039062 20 C 108.039062 25.523438 103.5625 30 98.039062 30 C 92.515625 30 88.039062 25.523438 88.039062 20 C 88.039062 14.476562 92.515625 10 98.039062 10 C 103.5625 10 108.039062 14.476562 108.039062 20 \"/>\n",
       "<path style=\"fill-rule:nonzero;fill:rgb(52.941176%,81.568627%,77.254902%);fill-opacity:1;stroke-width:1;stroke-linecap:butt;stroke-linejoin:miter;stroke:rgb(0%,0%,0%);stroke-opacity:1;stroke-miterlimit:10;\" d=\"M 203.941406 30.382812 C 203.941406 35.90625 199.464844 40.382812 193.941406 40.382812 C 188.417969 40.382812 183.941406 35.90625 183.941406 30.382812 C 183.941406 24.859375 188.417969 20.382812 193.941406 20.382812 C 199.464844 20.382812 203.941406 24.859375 203.941406 30.382812 \"/>\n",
       "<path style=\"fill-rule:nonzero;fill:rgb(68.235294%,87.843137%,84.705882%);fill-opacity:1;stroke-width:1;stroke-linecap:butt;stroke-linejoin:miter;stroke:rgb(0%,0%,0%);stroke-opacity:1;stroke-miterlimit:10;\" d=\"M 197.203125 77.933594 C 197.203125 83.453125 192.726562 87.933594 187.203125 87.933594 C 181.679688 87.933594 177.203125 83.453125 177.203125 77.933594 C 177.203125 72.410156 181.679688 67.933594 187.203125 67.933594 C 192.726562 67.933594 197.203125 72.410156 197.203125 77.933594 \"/>\n",
       "</g>\n",
       "</svg>\n"
      ],
      "text/plain": [
       "<igraph.drawing.Plot at 0x126893730>"
      ]
     },
     "execution_count": 10,
     "metadata": {
      "image/svg+xml": {
       "isolated": true
      }
     },
     "output_type": "execute_result"
    }
   ],
   "source": [
    "set_evec_colors(g, v[:, 1])\n",
    "ig.plot(g, layout = layout, bbox=(0, 0, 500, 200))"
   ]
  },
  {
   "cell_type": "code",
   "execution_count": 11,
   "metadata": {},
   "outputs": [
    {
     "data": {
      "image/svg+xml": [
       "<?xml version=\"1.0\" encoding=\"UTF-8\"?>\n",
       "<svg xmlns=\"http://www.w3.org/2000/svg\" xmlns:xlink=\"http://www.w3.org/1999/xlink\" width=\"500pt\" height=\"200pt\" viewBox=\"0 0 500 200\" version=\"1.1\">\n",
       "<g id=\"surface20\">\n",
       "<rect x=\"0\" y=\"0\" width=\"500\" height=\"200\" style=\"fill:rgb(100%,100%,100%);fill-opacity:1;stroke:none;\"/>\n",
       "<path style=\"fill:none;stroke-width:1;stroke-linecap:butt;stroke-linejoin:miter;stroke:rgb(26.666667%,26.666667%,26.666667%);stroke-opacity:1;stroke-miterlimit:10;\" d=\"M 480 154.226562 L 401.960938 180 \"/>\n",
       "<path style=\"fill:none;stroke-width:1;stroke-linecap:butt;stroke-linejoin:miter;stroke:rgb(26.666667%,26.666667%,26.666667%);stroke-opacity:1;stroke-miterlimit:10;\" d=\"M 480 154.226562 L 312.796875 122.066406 \"/>\n",
       "<path style=\"fill:none;stroke-width:1;stroke-linecap:butt;stroke-linejoin:miter;stroke:rgb(26.666667%,26.666667%,26.666667%);stroke-opacity:1;stroke-miterlimit:10;\" d=\"M 480 154.226562 L 452.519531 121.25 \"/>\n",
       "<path style=\"fill:none;stroke-width:1;stroke-linecap:butt;stroke-linejoin:miter;stroke:rgb(26.666667%,26.666667%,26.666667%);stroke-opacity:1;stroke-miterlimit:10;\" d=\"M 480 154.226562 L 306.058594 169.617188 \"/>\n",
       "<path style=\"fill:none;stroke-width:1;stroke-linecap:butt;stroke-linejoin:miter;stroke:rgb(26.666667%,26.666667%,26.666667%);stroke-opacity:1;stroke-miterlimit:10;\" d=\"M 401.960938 180 L 312.796875 122.066406 \"/>\n",
       "<path style=\"fill:none;stroke-width:1;stroke-linecap:butt;stroke-linejoin:miter;stroke:rgb(26.666667%,26.666667%,26.666667%);stroke-opacity:1;stroke-miterlimit:10;\" d=\"M 401.960938 180 L 452.519531 121.25 \"/>\n",
       "<path style=\"fill:none;stroke-width:1;stroke-linecap:butt;stroke-linejoin:miter;stroke:rgb(26.666667%,26.666667%,26.666667%);stroke-opacity:1;stroke-miterlimit:10;\" d=\"M 401.960938 180 L 306.058594 169.617188 \"/>\n",
       "<path style=\"fill:none;stroke-width:1;stroke-linecap:butt;stroke-linejoin:miter;stroke:rgb(26.666667%,26.666667%,26.666667%);stroke-opacity:1;stroke-miterlimit:10;\" d=\"M 312.796875 122.066406 L 452.519531 121.25 \"/>\n",
       "<path style=\"fill:none;stroke-width:1;stroke-linecap:butt;stroke-linejoin:miter;stroke:rgb(26.666667%,26.666667%,26.666667%);stroke-opacity:1;stroke-miterlimit:10;\" d=\"M 312.796875 122.066406 L 306.058594 169.617188 \"/>\n",
       "<path style=\"fill:none;stroke-width:1;stroke-linecap:butt;stroke-linejoin:miter;stroke:rgb(26.666667%,26.666667%,26.666667%);stroke-opacity:1;stroke-miterlimit:10;\" d=\"M 452.519531 121.25 L 306.058594 169.617188 \"/>\n",
       "<path style=\"fill:none;stroke-width:1;stroke-linecap:butt;stroke-linejoin:miter;stroke:rgb(26.666667%,26.666667%,26.666667%);stroke-opacity:1;stroke-miterlimit:10;\" d=\"M 47.480469 78.75 L 20 45.773438 \"/>\n",
       "<path style=\"fill:none;stroke-width:1;stroke-linecap:butt;stroke-linejoin:miter;stroke:rgb(26.666667%,26.666667%,26.666667%);stroke-opacity:1;stroke-miterlimit:10;\" d=\"M 47.480469 78.75 L 98.039062 20 \"/>\n",
       "<path style=\"fill:none;stroke-width:1;stroke-linecap:butt;stroke-linejoin:miter;stroke:rgb(26.666667%,26.666667%,26.666667%);stroke-opacity:1;stroke-miterlimit:10;\" d=\"M 47.480469 78.75 L 193.941406 30.382812 \"/>\n",
       "<path style=\"fill:none;stroke-width:1;stroke-linecap:butt;stroke-linejoin:miter;stroke:rgb(26.666667%,26.666667%,26.666667%);stroke-opacity:1;stroke-miterlimit:10;\" d=\"M 47.480469 78.75 L 187.203125 77.933594 \"/>\n",
       "<path style=\"fill:none;stroke-width:1;stroke-linecap:butt;stroke-linejoin:miter;stroke:rgb(26.666667%,26.666667%,26.666667%);stroke-opacity:1;stroke-miterlimit:10;\" d=\"M 20 45.773438 L 98.039062 20 \"/>\n",
       "<path style=\"fill:none;stroke-width:1;stroke-linecap:butt;stroke-linejoin:miter;stroke:rgb(26.666667%,26.666667%,26.666667%);stroke-opacity:1;stroke-miterlimit:10;\" d=\"M 20 45.773438 L 193.941406 30.382812 \"/>\n",
       "<path style=\"fill:none;stroke-width:1;stroke-linecap:butt;stroke-linejoin:miter;stroke:rgb(26.666667%,26.666667%,26.666667%);stroke-opacity:1;stroke-miterlimit:10;\" d=\"M 20 45.773438 L 187.203125 77.933594 \"/>\n",
       "<path style=\"fill:none;stroke-width:1;stroke-linecap:butt;stroke-linejoin:miter;stroke:rgb(26.666667%,26.666667%,26.666667%);stroke-opacity:1;stroke-miterlimit:10;\" d=\"M 98.039062 20 L 193.941406 30.382812 \"/>\n",
       "<path style=\"fill:none;stroke-width:1;stroke-linecap:butt;stroke-linejoin:miter;stroke:rgb(26.666667%,26.666667%,26.666667%);stroke-opacity:1;stroke-miterlimit:10;\" d=\"M 98.039062 20 L 187.203125 77.933594 \"/>\n",
       "<path style=\"fill:none;stroke-width:1;stroke-linecap:butt;stroke-linejoin:miter;stroke:rgb(26.666667%,26.666667%,26.666667%);stroke-opacity:1;stroke-miterlimit:10;\" d=\"M 193.941406 30.382812 L 187.203125 77.933594 \"/>\n",
       "<path style=\"fill:none;stroke-width:1;stroke-linecap:butt;stroke-linejoin:miter;stroke:rgb(26.666667%,26.666667%,26.666667%);stroke-opacity:1;stroke-miterlimit:10;\" d=\"M 312.796875 122.066406 L 187.203125 77.933594 \"/>\n",
       "<path style=\"fill-rule:nonzero;fill:rgb(0%,23.529412%,18.823529%);fill-opacity:1;stroke-width:1;stroke-linecap:butt;stroke-linejoin:miter;stroke:rgb(0%,0%,0%);stroke-opacity:1;stroke-miterlimit:10;\" d=\"M 490 154.226562 C 490 159.75 485.523438 164.226562 480 164.226562 C 474.476562 164.226562 470 159.75 470 154.226562 C 470 148.703125 474.476562 144.226562 480 144.226562 C 485.523438 144.226562 490 148.703125 490 154.226562 \"/>\n",
       "<path style=\"fill-rule:nonzero;fill:rgb(92.54902%,84.705882%,64.705882%);fill-opacity:1;stroke-width:1;stroke-linecap:butt;stroke-linejoin:miter;stroke:rgb(0%,0%,0%);stroke-opacity:1;stroke-miterlimit:10;\" d=\"M 411.960938 180 C 411.960938 185.523438 407.484375 190 401.960938 190 C 396.4375 190 391.960938 185.523438 391.960938 180 C 391.960938 174.476562 396.4375 170 401.960938 170 C 407.484375 170 411.960938 174.476562 411.960938 180 \"/>\n",
       "<path style=\"fill-rule:nonzero;fill:rgb(96.470588%,92.941176%,83.529412%);fill-opacity:1;stroke-width:1;stroke-linecap:butt;stroke-linejoin:miter;stroke:rgb(0%,0%,0%);stroke-opacity:1;stroke-miterlimit:10;\" d=\"M 322.796875 122.066406 C 322.796875 127.589844 318.320312 132.066406 312.796875 132.066406 C 307.273438 132.066406 302.796875 127.589844 302.796875 122.066406 C 302.796875 116.546875 307.273438 112.066406 312.796875 112.066406 C 318.320312 112.066406 322.796875 116.546875 322.796875 122.066406 \"/>\n",
       "<path style=\"fill-rule:nonzero;fill:rgb(92.156863%,83.921569%,63.529412%);fill-opacity:1;stroke-width:1;stroke-linecap:butt;stroke-linejoin:miter;stroke:rgb(0%,0%,0%);stroke-opacity:1;stroke-miterlimit:10;\" d=\"M 462.519531 121.25 C 462.519531 126.773438 458.039062 131.25 452.519531 131.25 C 446.996094 131.25 442.519531 126.773438 442.519531 121.25 C 442.519531 115.726562 446.996094 111.25 452.519531 111.25 C 458.039062 111.25 462.519531 115.726562 462.519531 121.25 \"/>\n",
       "<path style=\"fill-rule:nonzero;fill:rgb(92.156863%,83.921569%,63.529412%);fill-opacity:1;stroke-width:1;stroke-linecap:butt;stroke-linejoin:miter;stroke:rgb(0%,0%,0%);stroke-opacity:1;stroke-miterlimit:10;\" d=\"M 316.058594 169.617188 C 316.058594 175.140625 311.582031 179.617188 306.058594 179.617188 C 300.535156 179.617188 296.058594 175.140625 296.058594 169.617188 C 296.058594 164.09375 300.535156 159.617188 306.058594 159.617188 C 311.582031 159.617188 316.058594 164.09375 316.058594 169.617188 \"/>\n",
       "<path style=\"fill-rule:nonzero;fill:rgb(92.941176%,95.294118%,94.901961%);fill-opacity:1;stroke-width:1;stroke-linecap:butt;stroke-linejoin:miter;stroke:rgb(0%,0%,0%);stroke-opacity:1;stroke-miterlimit:10;\" d=\"M 57.480469 78.75 C 57.480469 84.273438 53.003906 88.75 47.480469 88.75 C 41.960938 88.75 37.480469 84.273438 37.480469 78.75 C 37.480469 73.226562 41.960938 68.75 47.480469 68.75 C 53.003906 68.75 57.480469 73.226562 57.480469 78.75 \"/>\n",
       "<path style=\"fill-rule:nonzero;fill:rgb(92.941176%,95.294118%,94.901961%);fill-opacity:1;stroke-width:1;stroke-linecap:butt;stroke-linejoin:miter;stroke:rgb(0%,0%,0%);stroke-opacity:1;stroke-miterlimit:10;\" d=\"M 30 45.773438 C 30 51.296875 25.523438 55.773438 20 55.773438 C 14.476562 55.773438 10 51.296875 10 45.773438 C 10 40.25 14.476562 35.773438 20 35.773438 C 25.523438 35.773438 30 40.25 30 45.773438 \"/>\n",
       "<path style=\"fill-rule:nonzero;fill:rgb(92.941176%,95.294118%,94.901961%);fill-opacity:1;stroke-width:1;stroke-linecap:butt;stroke-linejoin:miter;stroke:rgb(0%,0%,0%);stroke-opacity:1;stroke-miterlimit:10;\" d=\"M 108.039062 20 C 108.039062 25.523438 103.5625 30 98.039062 30 C 92.515625 30 88.039062 25.523438 88.039062 20 C 88.039062 14.476562 92.515625 10 98.039062 10 C 103.5625 10 108.039062 14.476562 108.039062 20 \"/>\n",
       "<path style=\"fill-rule:nonzero;fill:rgb(92.941176%,95.294118%,94.901961%);fill-opacity:1;stroke-width:1;stroke-linecap:butt;stroke-linejoin:miter;stroke:rgb(0%,0%,0%);stroke-opacity:1;stroke-miterlimit:10;\" d=\"M 203.941406 30.382812 C 203.941406 35.90625 199.464844 40.382812 193.941406 40.382812 C 188.417969 40.382812 183.941406 35.90625 183.941406 30.382812 C 183.941406 24.859375 188.417969 20.382812 193.941406 20.382812 C 199.464844 20.382812 203.941406 24.859375 203.941406 30.382812 \"/>\n",
       "<path style=\"fill-rule:nonzero;fill:rgb(96.470588%,92.941176%,83.529412%);fill-opacity:1;stroke-width:1;stroke-linecap:butt;stroke-linejoin:miter;stroke:rgb(0%,0%,0%);stroke-opacity:1;stroke-miterlimit:10;\" d=\"M 197.203125 77.933594 C 197.203125 83.453125 192.726562 87.933594 187.203125 87.933594 C 181.679688 87.933594 177.203125 83.453125 177.203125 77.933594 C 177.203125 72.410156 181.679688 67.933594 187.203125 67.933594 C 192.726562 67.933594 197.203125 72.410156 197.203125 77.933594 \"/>\n",
       "</g>\n",
       "</svg>\n"
      ],
      "text/plain": [
       "<igraph.drawing.Plot at 0x126893130>"
      ]
     },
     "execution_count": 11,
     "metadata": {
      "image/svg+xml": {
       "isolated": true
      }
     },
     "output_type": "execute_result"
    }
   ],
   "source": [
    "set_evec_colors(g, v[:, 2])\n",
    "ig.plot(g, layout = layout, bbox=(0, 0, 500, 200))"
   ]
  },
  {
   "cell_type": "code",
   "execution_count": 12,
   "metadata": {},
   "outputs": [
    {
     "data": {
      "image/svg+xml": [
       "<?xml version=\"1.0\" encoding=\"UTF-8\"?>\n",
       "<svg xmlns=\"http://www.w3.org/2000/svg\" xmlns:xlink=\"http://www.w3.org/1999/xlink\" width=\"500pt\" height=\"200pt\" viewBox=\"0 0 500 200\" version=\"1.1\">\n",
       "<g id=\"surface26\">\n",
       "<rect x=\"0\" y=\"0\" width=\"500\" height=\"200\" style=\"fill:rgb(100%,100%,100%);fill-opacity:1;stroke:none;\"/>\n",
       "<path style=\"fill:none;stroke-width:1;stroke-linecap:butt;stroke-linejoin:miter;stroke:rgb(26.666667%,26.666667%,26.666667%);stroke-opacity:1;stroke-miterlimit:10;\" d=\"M 480 154.226562 L 401.960938 180 \"/>\n",
       "<path style=\"fill:none;stroke-width:1;stroke-linecap:butt;stroke-linejoin:miter;stroke:rgb(26.666667%,26.666667%,26.666667%);stroke-opacity:1;stroke-miterlimit:10;\" d=\"M 480 154.226562 L 312.796875 122.066406 \"/>\n",
       "<path style=\"fill:none;stroke-width:1;stroke-linecap:butt;stroke-linejoin:miter;stroke:rgb(26.666667%,26.666667%,26.666667%);stroke-opacity:1;stroke-miterlimit:10;\" d=\"M 480 154.226562 L 452.519531 121.25 \"/>\n",
       "<path style=\"fill:none;stroke-width:1;stroke-linecap:butt;stroke-linejoin:miter;stroke:rgb(26.666667%,26.666667%,26.666667%);stroke-opacity:1;stroke-miterlimit:10;\" d=\"M 480 154.226562 L 306.058594 169.617188 \"/>\n",
       "<path style=\"fill:none;stroke-width:1;stroke-linecap:butt;stroke-linejoin:miter;stroke:rgb(26.666667%,26.666667%,26.666667%);stroke-opacity:1;stroke-miterlimit:10;\" d=\"M 401.960938 180 L 312.796875 122.066406 \"/>\n",
       "<path style=\"fill:none;stroke-width:1;stroke-linecap:butt;stroke-linejoin:miter;stroke:rgb(26.666667%,26.666667%,26.666667%);stroke-opacity:1;stroke-miterlimit:10;\" d=\"M 401.960938 180 L 452.519531 121.25 \"/>\n",
       "<path style=\"fill:none;stroke-width:1;stroke-linecap:butt;stroke-linejoin:miter;stroke:rgb(26.666667%,26.666667%,26.666667%);stroke-opacity:1;stroke-miterlimit:10;\" d=\"M 401.960938 180 L 306.058594 169.617188 \"/>\n",
       "<path style=\"fill:none;stroke-width:1;stroke-linecap:butt;stroke-linejoin:miter;stroke:rgb(26.666667%,26.666667%,26.666667%);stroke-opacity:1;stroke-miterlimit:10;\" d=\"M 312.796875 122.066406 L 452.519531 121.25 \"/>\n",
       "<path style=\"fill:none;stroke-width:1;stroke-linecap:butt;stroke-linejoin:miter;stroke:rgb(26.666667%,26.666667%,26.666667%);stroke-opacity:1;stroke-miterlimit:10;\" d=\"M 312.796875 122.066406 L 306.058594 169.617188 \"/>\n",
       "<path style=\"fill:none;stroke-width:1;stroke-linecap:butt;stroke-linejoin:miter;stroke:rgb(26.666667%,26.666667%,26.666667%);stroke-opacity:1;stroke-miterlimit:10;\" d=\"M 452.519531 121.25 L 306.058594 169.617188 \"/>\n",
       "<path style=\"fill:none;stroke-width:1;stroke-linecap:butt;stroke-linejoin:miter;stroke:rgb(26.666667%,26.666667%,26.666667%);stroke-opacity:1;stroke-miterlimit:10;\" d=\"M 47.480469 78.75 L 20 45.773438 \"/>\n",
       "<path style=\"fill:none;stroke-width:1;stroke-linecap:butt;stroke-linejoin:miter;stroke:rgb(26.666667%,26.666667%,26.666667%);stroke-opacity:1;stroke-miterlimit:10;\" d=\"M 47.480469 78.75 L 98.039062 20 \"/>\n",
       "<path style=\"fill:none;stroke-width:1;stroke-linecap:butt;stroke-linejoin:miter;stroke:rgb(26.666667%,26.666667%,26.666667%);stroke-opacity:1;stroke-miterlimit:10;\" d=\"M 47.480469 78.75 L 193.941406 30.382812 \"/>\n",
       "<path style=\"fill:none;stroke-width:1;stroke-linecap:butt;stroke-linejoin:miter;stroke:rgb(26.666667%,26.666667%,26.666667%);stroke-opacity:1;stroke-miterlimit:10;\" d=\"M 47.480469 78.75 L 187.203125 77.933594 \"/>\n",
       "<path style=\"fill:none;stroke-width:1;stroke-linecap:butt;stroke-linejoin:miter;stroke:rgb(26.666667%,26.666667%,26.666667%);stroke-opacity:1;stroke-miterlimit:10;\" d=\"M 20 45.773438 L 98.039062 20 \"/>\n",
       "<path style=\"fill:none;stroke-width:1;stroke-linecap:butt;stroke-linejoin:miter;stroke:rgb(26.666667%,26.666667%,26.666667%);stroke-opacity:1;stroke-miterlimit:10;\" d=\"M 20 45.773438 L 193.941406 30.382812 \"/>\n",
       "<path style=\"fill:none;stroke-width:1;stroke-linecap:butt;stroke-linejoin:miter;stroke:rgb(26.666667%,26.666667%,26.666667%);stroke-opacity:1;stroke-miterlimit:10;\" d=\"M 20 45.773438 L 187.203125 77.933594 \"/>\n",
       "<path style=\"fill:none;stroke-width:1;stroke-linecap:butt;stroke-linejoin:miter;stroke:rgb(26.666667%,26.666667%,26.666667%);stroke-opacity:1;stroke-miterlimit:10;\" d=\"M 98.039062 20 L 193.941406 30.382812 \"/>\n",
       "<path style=\"fill:none;stroke-width:1;stroke-linecap:butt;stroke-linejoin:miter;stroke:rgb(26.666667%,26.666667%,26.666667%);stroke-opacity:1;stroke-miterlimit:10;\" d=\"M 98.039062 20 L 187.203125 77.933594 \"/>\n",
       "<path style=\"fill:none;stroke-width:1;stroke-linecap:butt;stroke-linejoin:miter;stroke:rgb(26.666667%,26.666667%,26.666667%);stroke-opacity:1;stroke-miterlimit:10;\" d=\"M 193.941406 30.382812 L 187.203125 77.933594 \"/>\n",
       "<path style=\"fill:none;stroke-width:1;stroke-linecap:butt;stroke-linejoin:miter;stroke:rgb(26.666667%,26.666667%,26.666667%);stroke-opacity:1;stroke-miterlimit:10;\" d=\"M 312.796875 122.066406 L 187.203125 77.933594 \"/>\n",
       "<path style=\"fill-rule:nonzero;fill:rgb(95.686275%,96.078431%,96.078431%);fill-opacity:1;stroke-width:1;stroke-linecap:butt;stroke-linejoin:miter;stroke:rgb(0%,0%,0%);stroke-opacity:1;stroke-miterlimit:10;\" d=\"M 490 154.226562 C 490 159.75 485.523438 164.226562 480 164.226562 C 474.476562 164.226562 470 159.75 470 154.226562 C 470 148.703125 474.476562 144.226562 480 144.226562 C 485.523438 144.226562 490 148.703125 490 154.226562 \"/>\n",
       "<path style=\"fill-rule:nonzero;fill:rgb(92.156863%,95.294118%,94.901961%);fill-opacity:1;stroke-width:1;stroke-linecap:butt;stroke-linejoin:miter;stroke:rgb(0%,0%,0%);stroke-opacity:1;stroke-miterlimit:10;\" d=\"M 411.960938 180 C 411.960938 185.523438 407.484375 190 401.960938 190 C 396.4375 190 391.960938 185.523438 391.960938 180 C 391.960938 174.476562 396.4375 170 401.960938 170 C 407.484375 170 411.960938 174.476562 411.960938 180 \"/>\n",
       "<path style=\"fill-rule:nonzero;fill:rgb(96.078431%,94.901961%,91.764706%);fill-opacity:1;stroke-width:1;stroke-linecap:butt;stroke-linejoin:miter;stroke:rgb(0%,0%,0%);stroke-opacity:1;stroke-miterlimit:10;\" d=\"M 322.796875 122.066406 C 322.796875 127.589844 318.320312 132.066406 312.796875 132.066406 C 307.273438 132.066406 302.796875 127.589844 302.796875 122.066406 C 302.796875 116.546875 307.273438 112.066406 312.796875 112.066406 C 318.320312 112.066406 322.796875 116.546875 322.796875 122.066406 \"/>\n",
       "<path style=\"fill-rule:nonzero;fill:rgb(87.843137%,76.862745%,50.588235%);fill-opacity:1;stroke-width:1;stroke-linecap:butt;stroke-linejoin:miter;stroke:rgb(0%,0%,0%);stroke-opacity:1;stroke-miterlimit:10;\" d=\"M 462.519531 121.25 C 462.519531 126.773438 458.039062 131.25 452.519531 131.25 C 446.996094 131.25 442.519531 126.773438 442.519531 121.25 C 442.519531 115.726562 446.996094 111.25 452.519531 111.25 C 458.039062 111.25 462.519531 115.726562 462.519531 121.25 \"/>\n",
       "<path style=\"fill-rule:nonzero;fill:rgb(51.764706%,81.176471%,76.470588%);fill-opacity:1;stroke-width:1;stroke-linecap:butt;stroke-linejoin:miter;stroke:rgb(0%,0%,0%);stroke-opacity:1;stroke-miterlimit:10;\" d=\"M 316.058594 169.617188 C 316.058594 175.140625 311.582031 179.617188 306.058594 179.617188 C 300.535156 179.617188 296.058594 175.140625 296.058594 169.617188 C 296.058594 164.09375 300.535156 159.617188 306.058594 159.617188 C 311.582031 159.617188 316.058594 164.09375 316.058594 169.617188 \"/>\n",
       "<path style=\"fill-rule:nonzero;fill:rgb(0.392157%,34.509804%,30.980392%);fill-opacity:1;stroke-width:1;stroke-linecap:butt;stroke-linejoin:miter;stroke:rgb(0%,0%,0%);stroke-opacity:1;stroke-miterlimit:10;\" d=\"M 57.480469 78.75 C 57.480469 84.273438 53.003906 88.75 47.480469 88.75 C 41.960938 88.75 37.480469 84.273438 37.480469 78.75 C 37.480469 73.226562 41.960938 68.75 47.480469 68.75 C 53.003906 68.75 57.480469 73.226562 57.480469 78.75 \"/>\n",
       "<path style=\"fill-rule:nonzero;fill:rgb(90.588235%,81.176471%,58.039216%);fill-opacity:1;stroke-width:1;stroke-linecap:butt;stroke-linejoin:miter;stroke:rgb(0%,0%,0%);stroke-opacity:1;stroke-miterlimit:10;\" d=\"M 30 45.773438 C 30 51.296875 25.523438 55.773438 20 55.773438 C 14.476562 55.773438 10 51.296875 10 45.773438 C 10 40.25 14.476562 35.773438 20 35.773438 C 25.523438 35.773438 30 40.25 30 45.773438 \"/>\n",
       "<path style=\"fill-rule:nonzero;fill:rgb(92.941176%,85.098039%,65.882353%);fill-opacity:1;stroke-width:1;stroke-linecap:butt;stroke-linejoin:miter;stroke:rgb(0%,0%,0%);stroke-opacity:1;stroke-miterlimit:10;\" d=\"M 108.039062 20 C 108.039062 25.523438 103.5625 30 98.039062 30 C 92.515625 30 88.039062 25.523438 88.039062 20 C 88.039062 14.476562 92.515625 10 98.039062 10 C 103.5625 10 108.039062 14.476562 108.039062 20 \"/>\n",
       "<path style=\"fill-rule:nonzero;fill:rgb(95.686275%,89.803922%,74.509804%);fill-opacity:1;stroke-width:1;stroke-linecap:butt;stroke-linejoin:miter;stroke:rgb(0%,0%,0%);stroke-opacity:1;stroke-miterlimit:10;\" d=\"M 203.941406 30.382812 C 203.941406 35.90625 199.464844 40.382812 193.941406 40.382812 C 188.417969 40.382812 183.941406 35.90625 183.941406 30.382812 C 183.941406 24.859375 188.417969 20.382812 193.941406 20.382812 C 199.464844 20.382812 203.941406 24.859375 203.941406 30.382812 \"/>\n",
       "<path style=\"fill-rule:nonzero;fill:rgb(96.078431%,94.901961%,91.764706%);fill-opacity:1;stroke-width:1;stroke-linecap:butt;stroke-linejoin:miter;stroke:rgb(0%,0%,0%);stroke-opacity:1;stroke-miterlimit:10;\" d=\"M 197.203125 77.933594 C 197.203125 83.453125 192.726562 87.933594 187.203125 87.933594 C 181.679688 87.933594 177.203125 83.453125 177.203125 77.933594 C 177.203125 72.410156 181.679688 67.933594 187.203125 67.933594 C 192.726562 67.933594 197.203125 72.410156 197.203125 77.933594 \"/>\n",
       "</g>\n",
       "</svg>\n"
      ],
      "text/plain": [
       "<igraph.drawing.Plot at 0x1268932b0>"
      ]
     },
     "execution_count": 12,
     "metadata": {
      "image/svg+xml": {
       "isolated": true
      }
     },
     "output_type": "execute_result"
    }
   ],
   "source": [
    "set_evec_colors(g, v[:, 3])\n",
    "ig.plot(g, layout = layout, bbox=(0, 0, 500, 200))"
   ]
  },
  {
   "cell_type": "code",
   "execution_count": 13,
   "metadata": {},
   "outputs": [
    {
     "data": {
      "image/svg+xml": [
       "<?xml version=\"1.0\" encoding=\"UTF-8\"?>\n",
       "<svg xmlns=\"http://www.w3.org/2000/svg\" xmlns:xlink=\"http://www.w3.org/1999/xlink\" width=\"500pt\" height=\"200pt\" viewBox=\"0 0 500 200\" version=\"1.1\">\n",
       "<g id=\"surface32\">\n",
       "<rect x=\"0\" y=\"0\" width=\"500\" height=\"200\" style=\"fill:rgb(100%,100%,100%);fill-opacity:1;stroke:none;\"/>\n",
       "<path style=\"fill:none;stroke-width:1;stroke-linecap:butt;stroke-linejoin:miter;stroke:rgb(26.666667%,26.666667%,26.666667%);stroke-opacity:1;stroke-miterlimit:10;\" d=\"M 480 154.226562 L 401.960938 180 \"/>\n",
       "<path style=\"fill:none;stroke-width:1;stroke-linecap:butt;stroke-linejoin:miter;stroke:rgb(26.666667%,26.666667%,26.666667%);stroke-opacity:1;stroke-miterlimit:10;\" d=\"M 480 154.226562 L 312.796875 122.066406 \"/>\n",
       "<path style=\"fill:none;stroke-width:1;stroke-linecap:butt;stroke-linejoin:miter;stroke:rgb(26.666667%,26.666667%,26.666667%);stroke-opacity:1;stroke-miterlimit:10;\" d=\"M 480 154.226562 L 452.519531 121.25 \"/>\n",
       "<path style=\"fill:none;stroke-width:1;stroke-linecap:butt;stroke-linejoin:miter;stroke:rgb(26.666667%,26.666667%,26.666667%);stroke-opacity:1;stroke-miterlimit:10;\" d=\"M 480 154.226562 L 306.058594 169.617188 \"/>\n",
       "<path style=\"fill:none;stroke-width:1;stroke-linecap:butt;stroke-linejoin:miter;stroke:rgb(26.666667%,26.666667%,26.666667%);stroke-opacity:1;stroke-miterlimit:10;\" d=\"M 401.960938 180 L 312.796875 122.066406 \"/>\n",
       "<path style=\"fill:none;stroke-width:1;stroke-linecap:butt;stroke-linejoin:miter;stroke:rgb(26.666667%,26.666667%,26.666667%);stroke-opacity:1;stroke-miterlimit:10;\" d=\"M 401.960938 180 L 452.519531 121.25 \"/>\n",
       "<path style=\"fill:none;stroke-width:1;stroke-linecap:butt;stroke-linejoin:miter;stroke:rgb(26.666667%,26.666667%,26.666667%);stroke-opacity:1;stroke-miterlimit:10;\" d=\"M 401.960938 180 L 306.058594 169.617188 \"/>\n",
       "<path style=\"fill:none;stroke-width:1;stroke-linecap:butt;stroke-linejoin:miter;stroke:rgb(26.666667%,26.666667%,26.666667%);stroke-opacity:1;stroke-miterlimit:10;\" d=\"M 312.796875 122.066406 L 452.519531 121.25 \"/>\n",
       "<path style=\"fill:none;stroke-width:1;stroke-linecap:butt;stroke-linejoin:miter;stroke:rgb(26.666667%,26.666667%,26.666667%);stroke-opacity:1;stroke-miterlimit:10;\" d=\"M 312.796875 122.066406 L 306.058594 169.617188 \"/>\n",
       "<path style=\"fill:none;stroke-width:1;stroke-linecap:butt;stroke-linejoin:miter;stroke:rgb(26.666667%,26.666667%,26.666667%);stroke-opacity:1;stroke-miterlimit:10;\" d=\"M 452.519531 121.25 L 306.058594 169.617188 \"/>\n",
       "<path style=\"fill:none;stroke-width:1;stroke-linecap:butt;stroke-linejoin:miter;stroke:rgb(26.666667%,26.666667%,26.666667%);stroke-opacity:1;stroke-miterlimit:10;\" d=\"M 47.480469 78.75 L 20 45.773438 \"/>\n",
       "<path style=\"fill:none;stroke-width:1;stroke-linecap:butt;stroke-linejoin:miter;stroke:rgb(26.666667%,26.666667%,26.666667%);stroke-opacity:1;stroke-miterlimit:10;\" d=\"M 47.480469 78.75 L 98.039062 20 \"/>\n",
       "<path style=\"fill:none;stroke-width:1;stroke-linecap:butt;stroke-linejoin:miter;stroke:rgb(26.666667%,26.666667%,26.666667%);stroke-opacity:1;stroke-miterlimit:10;\" d=\"M 47.480469 78.75 L 193.941406 30.382812 \"/>\n",
       "<path style=\"fill:none;stroke-width:1;stroke-linecap:butt;stroke-linejoin:miter;stroke:rgb(26.666667%,26.666667%,26.666667%);stroke-opacity:1;stroke-miterlimit:10;\" d=\"M 47.480469 78.75 L 187.203125 77.933594 \"/>\n",
       "<path style=\"fill:none;stroke-width:1;stroke-linecap:butt;stroke-linejoin:miter;stroke:rgb(26.666667%,26.666667%,26.666667%);stroke-opacity:1;stroke-miterlimit:10;\" d=\"M 20 45.773438 L 98.039062 20 \"/>\n",
       "<path style=\"fill:none;stroke-width:1;stroke-linecap:butt;stroke-linejoin:miter;stroke:rgb(26.666667%,26.666667%,26.666667%);stroke-opacity:1;stroke-miterlimit:10;\" d=\"M 20 45.773438 L 193.941406 30.382812 \"/>\n",
       "<path style=\"fill:none;stroke-width:1;stroke-linecap:butt;stroke-linejoin:miter;stroke:rgb(26.666667%,26.666667%,26.666667%);stroke-opacity:1;stroke-miterlimit:10;\" d=\"M 20 45.773438 L 187.203125 77.933594 \"/>\n",
       "<path style=\"fill:none;stroke-width:1;stroke-linecap:butt;stroke-linejoin:miter;stroke:rgb(26.666667%,26.666667%,26.666667%);stroke-opacity:1;stroke-miterlimit:10;\" d=\"M 98.039062 20 L 193.941406 30.382812 \"/>\n",
       "<path style=\"fill:none;stroke-width:1;stroke-linecap:butt;stroke-linejoin:miter;stroke:rgb(26.666667%,26.666667%,26.666667%);stroke-opacity:1;stroke-miterlimit:10;\" d=\"M 98.039062 20 L 187.203125 77.933594 \"/>\n",
       "<path style=\"fill:none;stroke-width:1;stroke-linecap:butt;stroke-linejoin:miter;stroke:rgb(26.666667%,26.666667%,26.666667%);stroke-opacity:1;stroke-miterlimit:10;\" d=\"M 193.941406 30.382812 L 187.203125 77.933594 \"/>\n",
       "<path style=\"fill:none;stroke-width:1;stroke-linecap:butt;stroke-linejoin:miter;stroke:rgb(26.666667%,26.666667%,26.666667%);stroke-opacity:1;stroke-miterlimit:10;\" d=\"M 312.796875 122.066406 L 187.203125 77.933594 \"/>\n",
       "<path style=\"fill-rule:nonzero;fill:rgb(0%,23.529412%,18.823529%);fill-opacity:1;stroke-width:1;stroke-linecap:butt;stroke-linejoin:miter;stroke:rgb(0%,0%,0%);stroke-opacity:1;stroke-miterlimit:10;\" d=\"M 490 154.226562 C 490 159.75 485.523438 164.226562 480 164.226562 C 474.476562 164.226562 470 159.75 470 154.226562 C 470 148.703125 474.476562 144.226562 480 144.226562 C 485.523438 144.226562 490 148.703125 490 154.226562 \"/>\n",
       "<path style=\"fill-rule:nonzero;fill:rgb(92.54902%,84.705882%,64.705882%);fill-opacity:1;stroke-width:1;stroke-linecap:butt;stroke-linejoin:miter;stroke:rgb(0%,0%,0%);stroke-opacity:1;stroke-miterlimit:10;\" d=\"M 411.960938 180 C 411.960938 185.523438 407.484375 190 401.960938 190 C 396.4375 190 391.960938 185.523438 391.960938 180 C 391.960938 174.476562 396.4375 170 401.960938 170 C 407.484375 170 411.960938 174.476562 411.960938 180 \"/>\n",
       "<path style=\"fill-rule:nonzero;fill:rgb(96.470588%,92.941176%,83.529412%);fill-opacity:1;stroke-width:1;stroke-linecap:butt;stroke-linejoin:miter;stroke:rgb(0%,0%,0%);stroke-opacity:1;stroke-miterlimit:10;\" d=\"M 322.796875 122.066406 C 322.796875 127.589844 318.320312 132.066406 312.796875 132.066406 C 307.273438 132.066406 302.796875 127.589844 302.796875 122.066406 C 302.796875 116.546875 307.273438 112.066406 312.796875 112.066406 C 318.320312 112.066406 322.796875 116.546875 322.796875 122.066406 \"/>\n",
       "<path style=\"fill-rule:nonzero;fill:rgb(92.156863%,83.921569%,63.529412%);fill-opacity:1;stroke-width:1;stroke-linecap:butt;stroke-linejoin:miter;stroke:rgb(0%,0%,0%);stroke-opacity:1;stroke-miterlimit:10;\" d=\"M 462.519531 121.25 C 462.519531 126.773438 458.039062 131.25 452.519531 131.25 C 446.996094 131.25 442.519531 126.773438 442.519531 121.25 C 442.519531 115.726562 446.996094 111.25 452.519531 111.25 C 458.039062 111.25 462.519531 115.726562 462.519531 121.25 \"/>\n",
       "<path style=\"fill-rule:nonzero;fill:rgb(92.156863%,83.921569%,63.529412%);fill-opacity:1;stroke-width:1;stroke-linecap:butt;stroke-linejoin:miter;stroke:rgb(0%,0%,0%);stroke-opacity:1;stroke-miterlimit:10;\" d=\"M 316.058594 169.617188 C 316.058594 175.140625 311.582031 179.617188 306.058594 179.617188 C 300.535156 179.617188 296.058594 175.140625 296.058594 169.617188 C 296.058594 164.09375 300.535156 159.617188 306.058594 159.617188 C 311.582031 159.617188 316.058594 164.09375 316.058594 169.617188 \"/>\n",
       "<path style=\"fill-rule:nonzero;fill:rgb(92.941176%,95.294118%,94.901961%);fill-opacity:1;stroke-width:1;stroke-linecap:butt;stroke-linejoin:miter;stroke:rgb(0%,0%,0%);stroke-opacity:1;stroke-miterlimit:10;\" d=\"M 57.480469 78.75 C 57.480469 84.273438 53.003906 88.75 47.480469 88.75 C 41.960938 88.75 37.480469 84.273438 37.480469 78.75 C 37.480469 73.226562 41.960938 68.75 47.480469 68.75 C 53.003906 68.75 57.480469 73.226562 57.480469 78.75 \"/>\n",
       "<path style=\"fill-rule:nonzero;fill:rgb(92.941176%,95.294118%,94.901961%);fill-opacity:1;stroke-width:1;stroke-linecap:butt;stroke-linejoin:miter;stroke:rgb(0%,0%,0%);stroke-opacity:1;stroke-miterlimit:10;\" d=\"M 30 45.773438 C 30 51.296875 25.523438 55.773438 20 55.773438 C 14.476562 55.773438 10 51.296875 10 45.773438 C 10 40.25 14.476562 35.773438 20 35.773438 C 25.523438 35.773438 30 40.25 30 45.773438 \"/>\n",
       "<path style=\"fill-rule:nonzero;fill:rgb(92.941176%,95.294118%,94.901961%);fill-opacity:1;stroke-width:1;stroke-linecap:butt;stroke-linejoin:miter;stroke:rgb(0%,0%,0%);stroke-opacity:1;stroke-miterlimit:10;\" d=\"M 108.039062 20 C 108.039062 25.523438 103.5625 30 98.039062 30 C 92.515625 30 88.039062 25.523438 88.039062 20 C 88.039062 14.476562 92.515625 10 98.039062 10 C 103.5625 10 108.039062 14.476562 108.039062 20 \"/>\n",
       "<path style=\"fill-rule:nonzero;fill:rgb(92.941176%,95.294118%,94.901961%);fill-opacity:1;stroke-width:1;stroke-linecap:butt;stroke-linejoin:miter;stroke:rgb(0%,0%,0%);stroke-opacity:1;stroke-miterlimit:10;\" d=\"M 203.941406 30.382812 C 203.941406 35.90625 199.464844 40.382812 193.941406 40.382812 C 188.417969 40.382812 183.941406 35.90625 183.941406 30.382812 C 183.941406 24.859375 188.417969 20.382812 193.941406 20.382812 C 199.464844 20.382812 203.941406 24.859375 203.941406 30.382812 \"/>\n",
       "<path style=\"fill-rule:nonzero;fill:rgb(96.470588%,92.941176%,83.529412%);fill-opacity:1;stroke-width:1;stroke-linecap:butt;stroke-linejoin:miter;stroke:rgb(0%,0%,0%);stroke-opacity:1;stroke-miterlimit:10;\" d=\"M 197.203125 77.933594 C 197.203125 83.453125 192.726562 87.933594 187.203125 87.933594 C 181.679688 87.933594 177.203125 83.453125 177.203125 77.933594 C 177.203125 72.410156 181.679688 67.933594 187.203125 67.933594 C 192.726562 67.933594 197.203125 72.410156 197.203125 77.933594 \"/>\n",
       "</g>\n",
       "</svg>\n"
      ],
      "text/plain": [
       "<igraph.drawing.Plot at 0x126893190>"
      ]
     },
     "execution_count": 13,
     "metadata": {
      "image/svg+xml": {
       "isolated": true
      }
     },
     "output_type": "execute_result"
    }
   ],
   "source": [
    "set_evec_colors(g, v[:, 2])\n",
    "ig.plot(g, layout = layout, bbox=(0, 0, 500, 200))"
   ]
  },
  {
   "cell_type": "code",
   "execution_count": 14,
   "metadata": {},
   "outputs": [
    {
     "data": {
      "image/svg+xml": [
       "<?xml version=\"1.0\" encoding=\"UTF-8\"?>\n",
       "<svg xmlns=\"http://www.w3.org/2000/svg\" xmlns:xlink=\"http://www.w3.org/1999/xlink\" width=\"500pt\" height=\"200pt\" viewBox=\"0 0 500 200\" version=\"1.1\">\n",
       "<g id=\"surface38\">\n",
       "<rect x=\"0\" y=\"0\" width=\"500\" height=\"200\" style=\"fill:rgb(100%,100%,100%);fill-opacity:1;stroke:none;\"/>\n",
       "<path style=\"fill:none;stroke-width:1;stroke-linecap:butt;stroke-linejoin:miter;stroke:rgb(26.666667%,26.666667%,26.666667%);stroke-opacity:1;stroke-miterlimit:10;\" d=\"M 480 154.226562 L 401.960938 180 \"/>\n",
       "<path style=\"fill:none;stroke-width:1;stroke-linecap:butt;stroke-linejoin:miter;stroke:rgb(26.666667%,26.666667%,26.666667%);stroke-opacity:1;stroke-miterlimit:10;\" d=\"M 480 154.226562 L 312.796875 122.066406 \"/>\n",
       "<path style=\"fill:none;stroke-width:1;stroke-linecap:butt;stroke-linejoin:miter;stroke:rgb(26.666667%,26.666667%,26.666667%);stroke-opacity:1;stroke-miterlimit:10;\" d=\"M 480 154.226562 L 452.519531 121.25 \"/>\n",
       "<path style=\"fill:none;stroke-width:1;stroke-linecap:butt;stroke-linejoin:miter;stroke:rgb(26.666667%,26.666667%,26.666667%);stroke-opacity:1;stroke-miterlimit:10;\" d=\"M 480 154.226562 L 306.058594 169.617188 \"/>\n",
       "<path style=\"fill:none;stroke-width:1;stroke-linecap:butt;stroke-linejoin:miter;stroke:rgb(26.666667%,26.666667%,26.666667%);stroke-opacity:1;stroke-miterlimit:10;\" d=\"M 401.960938 180 L 312.796875 122.066406 \"/>\n",
       "<path style=\"fill:none;stroke-width:1;stroke-linecap:butt;stroke-linejoin:miter;stroke:rgb(26.666667%,26.666667%,26.666667%);stroke-opacity:1;stroke-miterlimit:10;\" d=\"M 401.960938 180 L 452.519531 121.25 \"/>\n",
       "<path style=\"fill:none;stroke-width:1;stroke-linecap:butt;stroke-linejoin:miter;stroke:rgb(26.666667%,26.666667%,26.666667%);stroke-opacity:1;stroke-miterlimit:10;\" d=\"M 401.960938 180 L 306.058594 169.617188 \"/>\n",
       "<path style=\"fill:none;stroke-width:1;stroke-linecap:butt;stroke-linejoin:miter;stroke:rgb(26.666667%,26.666667%,26.666667%);stroke-opacity:1;stroke-miterlimit:10;\" d=\"M 312.796875 122.066406 L 452.519531 121.25 \"/>\n",
       "<path style=\"fill:none;stroke-width:1;stroke-linecap:butt;stroke-linejoin:miter;stroke:rgb(26.666667%,26.666667%,26.666667%);stroke-opacity:1;stroke-miterlimit:10;\" d=\"M 312.796875 122.066406 L 306.058594 169.617188 \"/>\n",
       "<path style=\"fill:none;stroke-width:1;stroke-linecap:butt;stroke-linejoin:miter;stroke:rgb(26.666667%,26.666667%,26.666667%);stroke-opacity:1;stroke-miterlimit:10;\" d=\"M 452.519531 121.25 L 306.058594 169.617188 \"/>\n",
       "<path style=\"fill:none;stroke-width:1;stroke-linecap:butt;stroke-linejoin:miter;stroke:rgb(26.666667%,26.666667%,26.666667%);stroke-opacity:1;stroke-miterlimit:10;\" d=\"M 47.480469 78.75 L 20 45.773438 \"/>\n",
       "<path style=\"fill:none;stroke-width:1;stroke-linecap:butt;stroke-linejoin:miter;stroke:rgb(26.666667%,26.666667%,26.666667%);stroke-opacity:1;stroke-miterlimit:10;\" d=\"M 47.480469 78.75 L 98.039062 20 \"/>\n",
       "<path style=\"fill:none;stroke-width:1;stroke-linecap:butt;stroke-linejoin:miter;stroke:rgb(26.666667%,26.666667%,26.666667%);stroke-opacity:1;stroke-miterlimit:10;\" d=\"M 47.480469 78.75 L 193.941406 30.382812 \"/>\n",
       "<path style=\"fill:none;stroke-width:1;stroke-linecap:butt;stroke-linejoin:miter;stroke:rgb(26.666667%,26.666667%,26.666667%);stroke-opacity:1;stroke-miterlimit:10;\" d=\"M 47.480469 78.75 L 187.203125 77.933594 \"/>\n",
       "<path style=\"fill:none;stroke-width:1;stroke-linecap:butt;stroke-linejoin:miter;stroke:rgb(26.666667%,26.666667%,26.666667%);stroke-opacity:1;stroke-miterlimit:10;\" d=\"M 20 45.773438 L 98.039062 20 \"/>\n",
       "<path style=\"fill:none;stroke-width:1;stroke-linecap:butt;stroke-linejoin:miter;stroke:rgb(26.666667%,26.666667%,26.666667%);stroke-opacity:1;stroke-miterlimit:10;\" d=\"M 20 45.773438 L 193.941406 30.382812 \"/>\n",
       "<path style=\"fill:none;stroke-width:1;stroke-linecap:butt;stroke-linejoin:miter;stroke:rgb(26.666667%,26.666667%,26.666667%);stroke-opacity:1;stroke-miterlimit:10;\" d=\"M 20 45.773438 L 187.203125 77.933594 \"/>\n",
       "<path style=\"fill:none;stroke-width:1;stroke-linecap:butt;stroke-linejoin:miter;stroke:rgb(26.666667%,26.666667%,26.666667%);stroke-opacity:1;stroke-miterlimit:10;\" d=\"M 98.039062 20 L 193.941406 30.382812 \"/>\n",
       "<path style=\"fill:none;stroke-width:1;stroke-linecap:butt;stroke-linejoin:miter;stroke:rgb(26.666667%,26.666667%,26.666667%);stroke-opacity:1;stroke-miterlimit:10;\" d=\"M 98.039062 20 L 187.203125 77.933594 \"/>\n",
       "<path style=\"fill:none;stroke-width:1;stroke-linecap:butt;stroke-linejoin:miter;stroke:rgb(26.666667%,26.666667%,26.666667%);stroke-opacity:1;stroke-miterlimit:10;\" d=\"M 193.941406 30.382812 L 187.203125 77.933594 \"/>\n",
       "<path style=\"fill:none;stroke-width:1;stroke-linecap:butt;stroke-linejoin:miter;stroke:rgb(26.666667%,26.666667%,26.666667%);stroke-opacity:1;stroke-miterlimit:10;\" d=\"M 312.796875 122.066406 L 187.203125 77.933594 \"/>\n",
       "<path style=\"fill-rule:nonzero;fill:rgb(95.686275%,96.078431%,96.078431%);fill-opacity:1;stroke-width:1;stroke-linecap:butt;stroke-linejoin:miter;stroke:rgb(0%,0%,0%);stroke-opacity:1;stroke-miterlimit:10;\" d=\"M 490 154.226562 C 490 159.75 485.523438 164.226562 480 164.226562 C 474.476562 164.226562 470 159.75 470 154.226562 C 470 148.703125 474.476562 144.226562 480 144.226562 C 485.523438 144.226562 490 148.703125 490 154.226562 \"/>\n",
       "<path style=\"fill-rule:nonzero;fill:rgb(81.568627%,92.54902%,90.980392%);fill-opacity:1;stroke-width:1;stroke-linecap:butt;stroke-linejoin:miter;stroke:rgb(0%,0%,0%);stroke-opacity:1;stroke-miterlimit:10;\" d=\"M 411.960938 180 C 411.960938 185.523438 407.484375 190 401.960938 190 C 396.4375 190 391.960938 185.523438 391.960938 180 C 391.960938 174.476562 396.4375 170 401.960938 170 C 407.484375 170 411.960938 174.476562 411.960938 180 \"/>\n",
       "<path style=\"fill-rule:nonzero;fill:rgb(96.078431%,93.72549%,86.27451%);fill-opacity:1;stroke-width:1;stroke-linecap:butt;stroke-linejoin:miter;stroke:rgb(0%,0%,0%);stroke-opacity:1;stroke-miterlimit:10;\" d=\"M 322.796875 122.066406 C 322.796875 127.589844 318.320312 132.066406 312.796875 132.066406 C 307.273438 132.066406 302.796875 127.589844 302.796875 122.066406 C 302.796875 116.546875 307.273438 112.066406 312.796875 112.066406 C 318.320312 112.066406 322.796875 116.546875 322.796875 122.066406 \"/>\n",
       "<path style=\"fill-rule:nonzero;fill:rgb(96.078431%,95.686275%,94.117647%);fill-opacity:1;stroke-width:1;stroke-linecap:butt;stroke-linejoin:miter;stroke:rgb(0%,0%,0%);stroke-opacity:1;stroke-miterlimit:10;\" d=\"M 462.519531 121.25 C 462.519531 126.773438 458.039062 131.25 452.519531 131.25 C 446.996094 131.25 442.519531 126.773438 442.519531 121.25 C 442.519531 115.726562 446.996094 111.25 452.519531 111.25 C 458.039062 111.25 462.519531 115.726562 462.519531 121.25 \"/>\n",
       "<path style=\"fill-rule:nonzero;fill:rgb(96.078431%,94.901961%,91.764706%);fill-opacity:1;stroke-width:1;stroke-linecap:butt;stroke-linejoin:miter;stroke:rgb(0%,0%,0%);stroke-opacity:1;stroke-miterlimit:10;\" d=\"M 316.058594 169.617188 C 316.058594 175.140625 311.582031 179.617188 306.058594 179.617188 C 300.535156 179.617188 296.058594 175.140625 296.058594 169.617188 C 296.058594 164.09375 300.535156 159.617188 306.058594 159.617188 C 311.582031 159.617188 316.058594 164.09375 316.058594 169.617188 \"/>\n",
       "<path style=\"fill-rule:nonzero;fill:rgb(87.058824%,94.117647%,92.941176%);fill-opacity:1;stroke-width:1;stroke-linecap:butt;stroke-linejoin:miter;stroke:rgb(0%,0%,0%);stroke-opacity:1;stroke-miterlimit:10;\" d=\"M 57.480469 78.75 C 57.480469 84.273438 53.003906 88.75 47.480469 88.75 C 41.960938 88.75 37.480469 84.273438 37.480469 78.75 C 37.480469 73.226562 41.960938 68.75 47.480469 68.75 C 53.003906 68.75 57.480469 73.226562 57.480469 78.75 \"/>\n",
       "<path style=\"fill-rule:nonzero;fill:rgb(4.705882%,44.313725%,41.176471%);fill-opacity:1;stroke-width:1;stroke-linecap:butt;stroke-linejoin:miter;stroke:rgb(0%,0%,0%);stroke-opacity:1;stroke-miterlimit:10;\" d=\"M 30 45.773438 C 30 51.296875 25.523438 55.773438 20 55.773438 C 14.476562 55.773438 10 51.296875 10 45.773438 C 10 40.25 14.476562 35.773438 20 35.773438 C 25.523438 35.773438 30 40.25 30 45.773438 \"/>\n",
       "<path style=\"fill-rule:nonzero;fill:rgb(90.588235%,94.901961%,94.117647%);fill-opacity:1;stroke-width:1;stroke-linecap:butt;stroke-linejoin:miter;stroke:rgb(0%,0%,0%);stroke-opacity:1;stroke-miterlimit:10;\" d=\"M 108.039062 20 C 108.039062 25.523438 103.5625 30 98.039062 30 C 92.515625 30 88.039062 25.523438 88.039062 20 C 88.039062 14.476562 92.515625 10 98.039062 10 C 103.5625 10 108.039062 14.476562 108.039062 20 \"/>\n",
       "<path style=\"fill-rule:nonzero;fill:rgb(52.941176%,30.588235%,3.921569%);fill-opacity:1;stroke-width:1;stroke-linecap:butt;stroke-linejoin:miter;stroke:rgb(0%,0%,0%);stroke-opacity:1;stroke-miterlimit:10;\" d=\"M 203.941406 30.382812 C 203.941406 35.90625 199.464844 40.382812 193.941406 40.382812 C 188.417969 40.382812 183.941406 35.90625 183.941406 30.382812 C 183.941406 24.859375 188.417969 20.382812 193.941406 20.382812 C 199.464844 20.382812 203.941406 24.859375 203.941406 30.382812 \"/>\n",
       "<path style=\"fill-rule:nonzero;fill:rgb(96.078431%,93.72549%,86.27451%);fill-opacity:1;stroke-width:1;stroke-linecap:butt;stroke-linejoin:miter;stroke:rgb(0%,0%,0%);stroke-opacity:1;stroke-miterlimit:10;\" d=\"M 197.203125 77.933594 C 197.203125 83.453125 192.726562 87.933594 187.203125 87.933594 C 181.679688 87.933594 177.203125 83.453125 177.203125 77.933594 C 177.203125 72.410156 181.679688 67.933594 187.203125 67.933594 C 192.726562 67.933594 197.203125 72.410156 197.203125 77.933594 \"/>\n",
       "</g>\n",
       "</svg>\n"
      ],
      "text/plain": [
       "<igraph.drawing.Plot at 0x126893460>"
      ]
     },
     "execution_count": 14,
     "metadata": {
      "image/svg+xml": {
       "isolated": true
      }
     },
     "output_type": "execute_result"
    }
   ],
   "source": [
    "set_evec_colors(g, v[:, 4])\n",
    "ig.plot(g, layout = layout, bbox=(0, 0, 500, 200))"
   ]
  },
  {
   "cell_type": "code",
   "execution_count": 15,
   "metadata": {},
   "outputs": [
    {
     "data": {
      "image/svg+xml": [
       "<?xml version=\"1.0\" encoding=\"UTF-8\"?>\n",
       "<svg xmlns=\"http://www.w3.org/2000/svg\" xmlns:xlink=\"http://www.w3.org/1999/xlink\" width=\"500pt\" height=\"200pt\" viewBox=\"0 0 500 200\" version=\"1.1\">\n",
       "<g id=\"surface44\">\n",
       "<rect x=\"0\" y=\"0\" width=\"500\" height=\"200\" style=\"fill:rgb(100%,100%,100%);fill-opacity:1;stroke:none;\"/>\n",
       "<path style=\"fill:none;stroke-width:1;stroke-linecap:butt;stroke-linejoin:miter;stroke:rgb(26.666667%,26.666667%,26.666667%);stroke-opacity:1;stroke-miterlimit:10;\" d=\"M 480 154.226562 L 401.960938 180 \"/>\n",
       "<path style=\"fill:none;stroke-width:1;stroke-linecap:butt;stroke-linejoin:miter;stroke:rgb(26.666667%,26.666667%,26.666667%);stroke-opacity:1;stroke-miterlimit:10;\" d=\"M 480 154.226562 L 312.796875 122.066406 \"/>\n",
       "<path style=\"fill:none;stroke-width:1;stroke-linecap:butt;stroke-linejoin:miter;stroke:rgb(26.666667%,26.666667%,26.666667%);stroke-opacity:1;stroke-miterlimit:10;\" d=\"M 480 154.226562 L 452.519531 121.25 \"/>\n",
       "<path style=\"fill:none;stroke-width:1;stroke-linecap:butt;stroke-linejoin:miter;stroke:rgb(26.666667%,26.666667%,26.666667%);stroke-opacity:1;stroke-miterlimit:10;\" d=\"M 480 154.226562 L 306.058594 169.617188 \"/>\n",
       "<path style=\"fill:none;stroke-width:1;stroke-linecap:butt;stroke-linejoin:miter;stroke:rgb(26.666667%,26.666667%,26.666667%);stroke-opacity:1;stroke-miterlimit:10;\" d=\"M 401.960938 180 L 312.796875 122.066406 \"/>\n",
       "<path style=\"fill:none;stroke-width:1;stroke-linecap:butt;stroke-linejoin:miter;stroke:rgb(26.666667%,26.666667%,26.666667%);stroke-opacity:1;stroke-miterlimit:10;\" d=\"M 401.960938 180 L 452.519531 121.25 \"/>\n",
       "<path style=\"fill:none;stroke-width:1;stroke-linecap:butt;stroke-linejoin:miter;stroke:rgb(26.666667%,26.666667%,26.666667%);stroke-opacity:1;stroke-miterlimit:10;\" d=\"M 401.960938 180 L 306.058594 169.617188 \"/>\n",
       "<path style=\"fill:none;stroke-width:1;stroke-linecap:butt;stroke-linejoin:miter;stroke:rgb(26.666667%,26.666667%,26.666667%);stroke-opacity:1;stroke-miterlimit:10;\" d=\"M 312.796875 122.066406 L 452.519531 121.25 \"/>\n",
       "<path style=\"fill:none;stroke-width:1;stroke-linecap:butt;stroke-linejoin:miter;stroke:rgb(26.666667%,26.666667%,26.666667%);stroke-opacity:1;stroke-miterlimit:10;\" d=\"M 312.796875 122.066406 L 306.058594 169.617188 \"/>\n",
       "<path style=\"fill:none;stroke-width:1;stroke-linecap:butt;stroke-linejoin:miter;stroke:rgb(26.666667%,26.666667%,26.666667%);stroke-opacity:1;stroke-miterlimit:10;\" d=\"M 452.519531 121.25 L 306.058594 169.617188 \"/>\n",
       "<path style=\"fill:none;stroke-width:1;stroke-linecap:butt;stroke-linejoin:miter;stroke:rgb(26.666667%,26.666667%,26.666667%);stroke-opacity:1;stroke-miterlimit:10;\" d=\"M 47.480469 78.75 L 20 45.773438 \"/>\n",
       "<path style=\"fill:none;stroke-width:1;stroke-linecap:butt;stroke-linejoin:miter;stroke:rgb(26.666667%,26.666667%,26.666667%);stroke-opacity:1;stroke-miterlimit:10;\" d=\"M 47.480469 78.75 L 98.039062 20 \"/>\n",
       "<path style=\"fill:none;stroke-width:1;stroke-linecap:butt;stroke-linejoin:miter;stroke:rgb(26.666667%,26.666667%,26.666667%);stroke-opacity:1;stroke-miterlimit:10;\" d=\"M 47.480469 78.75 L 193.941406 30.382812 \"/>\n",
       "<path style=\"fill:none;stroke-width:1;stroke-linecap:butt;stroke-linejoin:miter;stroke:rgb(26.666667%,26.666667%,26.666667%);stroke-opacity:1;stroke-miterlimit:10;\" d=\"M 47.480469 78.75 L 187.203125 77.933594 \"/>\n",
       "<path style=\"fill:none;stroke-width:1;stroke-linecap:butt;stroke-linejoin:miter;stroke:rgb(26.666667%,26.666667%,26.666667%);stroke-opacity:1;stroke-miterlimit:10;\" d=\"M 20 45.773438 L 98.039062 20 \"/>\n",
       "<path style=\"fill:none;stroke-width:1;stroke-linecap:butt;stroke-linejoin:miter;stroke:rgb(26.666667%,26.666667%,26.666667%);stroke-opacity:1;stroke-miterlimit:10;\" d=\"M 20 45.773438 L 193.941406 30.382812 \"/>\n",
       "<path style=\"fill:none;stroke-width:1;stroke-linecap:butt;stroke-linejoin:miter;stroke:rgb(26.666667%,26.666667%,26.666667%);stroke-opacity:1;stroke-miterlimit:10;\" d=\"M 20 45.773438 L 187.203125 77.933594 \"/>\n",
       "<path style=\"fill:none;stroke-width:1;stroke-linecap:butt;stroke-linejoin:miter;stroke:rgb(26.666667%,26.666667%,26.666667%);stroke-opacity:1;stroke-miterlimit:10;\" d=\"M 98.039062 20 L 193.941406 30.382812 \"/>\n",
       "<path style=\"fill:none;stroke-width:1;stroke-linecap:butt;stroke-linejoin:miter;stroke:rgb(26.666667%,26.666667%,26.666667%);stroke-opacity:1;stroke-miterlimit:10;\" d=\"M 98.039062 20 L 187.203125 77.933594 \"/>\n",
       "<path style=\"fill:none;stroke-width:1;stroke-linecap:butt;stroke-linejoin:miter;stroke:rgb(26.666667%,26.666667%,26.666667%);stroke-opacity:1;stroke-miterlimit:10;\" d=\"M 193.941406 30.382812 L 187.203125 77.933594 \"/>\n",
       "<path style=\"fill:none;stroke-width:1;stroke-linecap:butt;stroke-linejoin:miter;stroke:rgb(26.666667%,26.666667%,26.666667%);stroke-opacity:1;stroke-miterlimit:10;\" d=\"M 312.796875 122.066406 L 187.203125 77.933594 \"/>\n",
       "<path style=\"fill-rule:nonzero;fill:rgb(95.686275%,96.078431%,96.078431%);fill-opacity:1;stroke-width:1;stroke-linecap:butt;stroke-linejoin:miter;stroke:rgb(0%,0%,0%);stroke-opacity:1;stroke-miterlimit:10;\" d=\"M 490 154.226562 C 490 159.75 485.523438 164.226562 480 164.226562 C 474.476562 164.226562 470 159.75 470 154.226562 C 470 148.703125 474.476562 144.226562 480 144.226562 C 485.523438 144.226562 490 148.703125 490 154.226562 \"/>\n",
       "<path style=\"fill-rule:nonzero;fill:rgb(91.372549%,94.901961%,94.509804%);fill-opacity:1;stroke-width:1;stroke-linecap:butt;stroke-linejoin:miter;stroke:rgb(0%,0%,0%);stroke-opacity:1;stroke-miterlimit:10;\" d=\"M 411.960938 180 C 411.960938 185.523438 407.484375 190 401.960938 190 C 396.4375 190 391.960938 185.523438 391.960938 180 C 391.960938 174.476562 396.4375 170 401.960938 170 C 407.484375 170 411.960938 174.476562 411.960938 180 \"/>\n",
       "<path style=\"fill-rule:nonzero;fill:rgb(96.078431%,95.294118%,93.333333%);fill-opacity:1;stroke-width:1;stroke-linecap:butt;stroke-linejoin:miter;stroke:rgb(0%,0%,0%);stroke-opacity:1;stroke-miterlimit:10;\" d=\"M 322.796875 122.066406 C 322.796875 127.589844 318.320312 132.066406 312.796875 132.066406 C 307.273438 132.066406 302.796875 127.589844 302.796875 122.066406 C 302.796875 116.546875 307.273438 112.066406 312.796875 112.066406 C 318.320312 112.066406 322.796875 116.546875 322.796875 122.066406 \"/>\n",
       "<path style=\"fill-rule:nonzero;fill:rgb(91.372549%,94.901961%,94.509804%);fill-opacity:1;stroke-width:1;stroke-linecap:butt;stroke-linejoin:miter;stroke:rgb(0%,0%,0%);stroke-opacity:1;stroke-miterlimit:10;\" d=\"M 462.519531 121.25 C 462.519531 126.773438 458.039062 131.25 452.519531 131.25 C 446.996094 131.25 442.519531 126.773438 442.519531 121.25 C 442.519531 115.726562 446.996094 111.25 452.519531 111.25 C 458.039062 111.25 462.519531 115.726562 462.519531 121.25 \"/>\n",
       "<path style=\"fill-rule:nonzero;fill:rgb(96.078431%,94.117647%,88.627451%);fill-opacity:1;stroke-width:1;stroke-linecap:butt;stroke-linejoin:miter;stroke:rgb(0%,0%,0%);stroke-opacity:1;stroke-miterlimit:10;\" d=\"M 316.058594 169.617188 C 316.058594 175.140625 311.582031 179.617188 306.058594 179.617188 C 300.535156 179.617188 296.058594 175.140625 296.058594 169.617188 C 296.058594 164.09375 300.535156 159.617188 306.058594 159.617188 C 311.582031 159.617188 316.058594 164.09375 316.058594 169.617188 \"/>\n",
       "<path style=\"fill-rule:nonzero;fill:rgb(92.156863%,95.294118%,94.901961%);fill-opacity:1;stroke-width:1;stroke-linecap:butt;stroke-linejoin:miter;stroke:rgb(0%,0%,0%);stroke-opacity:1;stroke-miterlimit:10;\" d=\"M 57.480469 78.75 C 57.480469 84.273438 53.003906 88.75 47.480469 88.75 C 41.960938 88.75 37.480469 84.273438 37.480469 78.75 C 37.480469 73.226562 41.960938 68.75 47.480469 68.75 C 53.003906 68.75 57.480469 73.226562 57.480469 78.75 \"/>\n",
       "<path style=\"fill-rule:nonzero;fill:rgb(79.215686%,59.607843%,28.627451%);fill-opacity:1;stroke-width:1;stroke-linecap:butt;stroke-linejoin:miter;stroke:rgb(0%,0%,0%);stroke-opacity:1;stroke-miterlimit:10;\" d=\"M 30 45.773438 C 30 51.296875 25.523438 55.773438 20 55.773438 C 14.476562 55.773438 10 51.296875 10 45.773438 C 10 40.25 14.476562 35.773438 20 35.773438 C 25.523438 35.773438 30 40.25 30 45.773438 \"/>\n",
       "<path style=\"fill-rule:nonzero;fill:rgb(0%,30.588235%,26.666667%);fill-opacity:1;stroke-width:1;stroke-linecap:butt;stroke-linejoin:miter;stroke:rgb(0%,0%,0%);stroke-opacity:1;stroke-miterlimit:10;\" d=\"M 108.039062 20 C 108.039062 25.523438 103.5625 30 98.039062 30 C 92.515625 30 88.039062 25.523438 88.039062 20 C 88.039062 14.476562 92.515625 10 98.039062 10 C 103.5625 10 108.039062 14.476562 108.039062 20 \"/>\n",
       "<path style=\"fill-rule:nonzero;fill:rgb(87.058824%,75.686275%,48.235294%);fill-opacity:1;stroke-width:1;stroke-linecap:butt;stroke-linejoin:miter;stroke:rgb(0%,0%,0%);stroke-opacity:1;stroke-miterlimit:10;\" d=\"M 203.941406 30.382812 C 203.941406 35.90625 199.464844 40.382812 193.941406 40.382812 C 188.417969 40.382812 183.941406 35.90625 183.941406 30.382812 C 183.941406 24.859375 188.417969 20.382812 193.941406 20.382812 C 199.464844 20.382812 203.941406 24.859375 203.941406 30.382812 \"/>\n",
       "<path style=\"fill-rule:nonzero;fill:rgb(96.078431%,95.294118%,93.333333%);fill-opacity:1;stroke-width:1;stroke-linecap:butt;stroke-linejoin:miter;stroke:rgb(0%,0%,0%);stroke-opacity:1;stroke-miterlimit:10;\" d=\"M 197.203125 77.933594 C 197.203125 83.453125 192.726562 87.933594 187.203125 87.933594 C 181.679688 87.933594 177.203125 83.453125 177.203125 77.933594 C 177.203125 72.410156 181.679688 67.933594 187.203125 67.933594 C 192.726562 67.933594 197.203125 72.410156 197.203125 77.933594 \"/>\n",
       "</g>\n",
       "</svg>\n"
      ],
      "text/plain": [
       "<igraph.drawing.Plot at 0x12687d910>"
      ]
     },
     "execution_count": 15,
     "metadata": {
      "image/svg+xml": {
       "isolated": true
      }
     },
     "output_type": "execute_result"
    }
   ],
   "source": [
    "set_evec_colors(g, v[:, 5])\n",
    "ig.plot(g, layout = layout, bbox=(0, 0, 500, 200))"
   ]
  },
  {
   "cell_type": "code",
   "execution_count": 16,
   "metadata": {},
   "outputs": [
    {
     "data": {
      "image/svg+xml": [
       "<?xml version=\"1.0\" encoding=\"UTF-8\"?>\n",
       "<svg xmlns=\"http://www.w3.org/2000/svg\" xmlns:xlink=\"http://www.w3.org/1999/xlink\" width=\"500pt\" height=\"200pt\" viewBox=\"0 0 500 200\" version=\"1.1\">\n",
       "<g id=\"surface50\">\n",
       "<rect x=\"0\" y=\"0\" width=\"500\" height=\"200\" style=\"fill:rgb(100%,100%,100%);fill-opacity:1;stroke:none;\"/>\n",
       "<path style=\"fill:none;stroke-width:1;stroke-linecap:butt;stroke-linejoin:miter;stroke:rgb(26.666667%,26.666667%,26.666667%);stroke-opacity:1;stroke-miterlimit:10;\" d=\"M 480 154.226562 L 401.960938 180 \"/>\n",
       "<path style=\"fill:none;stroke-width:1;stroke-linecap:butt;stroke-linejoin:miter;stroke:rgb(26.666667%,26.666667%,26.666667%);stroke-opacity:1;stroke-miterlimit:10;\" d=\"M 480 154.226562 L 312.796875 122.066406 \"/>\n",
       "<path style=\"fill:none;stroke-width:1;stroke-linecap:butt;stroke-linejoin:miter;stroke:rgb(26.666667%,26.666667%,26.666667%);stroke-opacity:1;stroke-miterlimit:10;\" d=\"M 480 154.226562 L 452.519531 121.25 \"/>\n",
       "<path style=\"fill:none;stroke-width:1;stroke-linecap:butt;stroke-linejoin:miter;stroke:rgb(26.666667%,26.666667%,26.666667%);stroke-opacity:1;stroke-miterlimit:10;\" d=\"M 480 154.226562 L 306.058594 169.617188 \"/>\n",
       "<path style=\"fill:none;stroke-width:1;stroke-linecap:butt;stroke-linejoin:miter;stroke:rgb(26.666667%,26.666667%,26.666667%);stroke-opacity:1;stroke-miterlimit:10;\" d=\"M 401.960938 180 L 312.796875 122.066406 \"/>\n",
       "<path style=\"fill:none;stroke-width:1;stroke-linecap:butt;stroke-linejoin:miter;stroke:rgb(26.666667%,26.666667%,26.666667%);stroke-opacity:1;stroke-miterlimit:10;\" d=\"M 401.960938 180 L 452.519531 121.25 \"/>\n",
       "<path style=\"fill:none;stroke-width:1;stroke-linecap:butt;stroke-linejoin:miter;stroke:rgb(26.666667%,26.666667%,26.666667%);stroke-opacity:1;stroke-miterlimit:10;\" d=\"M 401.960938 180 L 306.058594 169.617188 \"/>\n",
       "<path style=\"fill:none;stroke-width:1;stroke-linecap:butt;stroke-linejoin:miter;stroke:rgb(26.666667%,26.666667%,26.666667%);stroke-opacity:1;stroke-miterlimit:10;\" d=\"M 312.796875 122.066406 L 452.519531 121.25 \"/>\n",
       "<path style=\"fill:none;stroke-width:1;stroke-linecap:butt;stroke-linejoin:miter;stroke:rgb(26.666667%,26.666667%,26.666667%);stroke-opacity:1;stroke-miterlimit:10;\" d=\"M 312.796875 122.066406 L 306.058594 169.617188 \"/>\n",
       "<path style=\"fill:none;stroke-width:1;stroke-linecap:butt;stroke-linejoin:miter;stroke:rgb(26.666667%,26.666667%,26.666667%);stroke-opacity:1;stroke-miterlimit:10;\" d=\"M 452.519531 121.25 L 306.058594 169.617188 \"/>\n",
       "<path style=\"fill:none;stroke-width:1;stroke-linecap:butt;stroke-linejoin:miter;stroke:rgb(26.666667%,26.666667%,26.666667%);stroke-opacity:1;stroke-miterlimit:10;\" d=\"M 47.480469 78.75 L 20 45.773438 \"/>\n",
       "<path style=\"fill:none;stroke-width:1;stroke-linecap:butt;stroke-linejoin:miter;stroke:rgb(26.666667%,26.666667%,26.666667%);stroke-opacity:1;stroke-miterlimit:10;\" d=\"M 47.480469 78.75 L 98.039062 20 \"/>\n",
       "<path style=\"fill:none;stroke-width:1;stroke-linecap:butt;stroke-linejoin:miter;stroke:rgb(26.666667%,26.666667%,26.666667%);stroke-opacity:1;stroke-miterlimit:10;\" d=\"M 47.480469 78.75 L 193.941406 30.382812 \"/>\n",
       "<path style=\"fill:none;stroke-width:1;stroke-linecap:butt;stroke-linejoin:miter;stroke:rgb(26.666667%,26.666667%,26.666667%);stroke-opacity:1;stroke-miterlimit:10;\" d=\"M 47.480469 78.75 L 187.203125 77.933594 \"/>\n",
       "<path style=\"fill:none;stroke-width:1;stroke-linecap:butt;stroke-linejoin:miter;stroke:rgb(26.666667%,26.666667%,26.666667%);stroke-opacity:1;stroke-miterlimit:10;\" d=\"M 20 45.773438 L 98.039062 20 \"/>\n",
       "<path style=\"fill:none;stroke-width:1;stroke-linecap:butt;stroke-linejoin:miter;stroke:rgb(26.666667%,26.666667%,26.666667%);stroke-opacity:1;stroke-miterlimit:10;\" d=\"M 20 45.773438 L 193.941406 30.382812 \"/>\n",
       "<path style=\"fill:none;stroke-width:1;stroke-linecap:butt;stroke-linejoin:miter;stroke:rgb(26.666667%,26.666667%,26.666667%);stroke-opacity:1;stroke-miterlimit:10;\" d=\"M 20 45.773438 L 187.203125 77.933594 \"/>\n",
       "<path style=\"fill:none;stroke-width:1;stroke-linecap:butt;stroke-linejoin:miter;stroke:rgb(26.666667%,26.666667%,26.666667%);stroke-opacity:1;stroke-miterlimit:10;\" d=\"M 98.039062 20 L 193.941406 30.382812 \"/>\n",
       "<path style=\"fill:none;stroke-width:1;stroke-linecap:butt;stroke-linejoin:miter;stroke:rgb(26.666667%,26.666667%,26.666667%);stroke-opacity:1;stroke-miterlimit:10;\" d=\"M 98.039062 20 L 187.203125 77.933594 \"/>\n",
       "<path style=\"fill:none;stroke-width:1;stroke-linecap:butt;stroke-linejoin:miter;stroke:rgb(26.666667%,26.666667%,26.666667%);stroke-opacity:1;stroke-miterlimit:10;\" d=\"M 193.941406 30.382812 L 187.203125 77.933594 \"/>\n",
       "<path style=\"fill:none;stroke-width:1;stroke-linecap:butt;stroke-linejoin:miter;stroke:rgb(26.666667%,26.666667%,26.666667%);stroke-opacity:1;stroke-miterlimit:10;\" d=\"M 312.796875 122.066406 L 187.203125 77.933594 \"/>\n",
       "<path style=\"fill-rule:nonzero;fill:rgb(96.470588%,92.54902%,82.745098%);fill-opacity:1;stroke-width:1;stroke-linecap:butt;stroke-linejoin:miter;stroke:rgb(0%,0%,0%);stroke-opacity:1;stroke-miterlimit:10;\" d=\"M 490 154.226562 C 490 159.75 485.523438 164.226562 480 164.226562 C 474.476562 164.226562 470 159.75 470 154.226562 C 470 148.703125 474.476562 144.226562 480 144.226562 C 485.523438 144.226562 490 148.703125 490 154.226562 \"/>\n",
       "<path style=\"fill-rule:nonzero;fill:rgb(96.470588%,92.54902%,82.745098%);fill-opacity:1;stroke-width:1;stroke-linecap:butt;stroke-linejoin:miter;stroke:rgb(0%,0%,0%);stroke-opacity:1;stroke-miterlimit:10;\" d=\"M 411.960938 180 C 411.960938 185.523438 407.484375 190 401.960938 190 C 396.4375 190 391.960938 185.523438 391.960938 180 C 391.960938 174.476562 396.4375 170 401.960938 170 C 407.484375 170 411.960938 174.476562 411.960938 180 \"/>\n",
       "<path style=\"fill-rule:nonzero;fill:rgb(3.921569%,43.529412%,40.392157%);fill-opacity:1;stroke-width:1;stroke-linecap:butt;stroke-linejoin:miter;stroke:rgb(0%,0%,0%);stroke-opacity:1;stroke-miterlimit:10;\" d=\"M 322.796875 122.066406 C 322.796875 127.589844 318.320312 132.066406 312.796875 132.066406 C 307.273438 132.066406 302.796875 127.589844 302.796875 122.066406 C 302.796875 116.546875 307.273438 112.066406 312.796875 112.066406 C 318.320312 112.066406 322.796875 116.546875 322.796875 122.066406 \"/>\n",
       "<path style=\"fill-rule:nonzero;fill:rgb(96.470588%,92.54902%,82.745098%);fill-opacity:1;stroke-width:1;stroke-linecap:butt;stroke-linejoin:miter;stroke:rgb(0%,0%,0%);stroke-opacity:1;stroke-miterlimit:10;\" d=\"M 462.519531 121.25 C 462.519531 126.773438 458.039062 131.25 452.519531 131.25 C 446.996094 131.25 442.519531 126.773438 442.519531 121.25 C 442.519531 115.726562 446.996094 111.25 452.519531 111.25 C 458.039062 111.25 462.519531 115.726562 462.519531 121.25 \"/>\n",
       "<path style=\"fill-rule:nonzero;fill:rgb(96.470588%,92.54902%,82.745098%);fill-opacity:1;stroke-width:1;stroke-linecap:butt;stroke-linejoin:miter;stroke:rgb(0%,0%,0%);stroke-opacity:1;stroke-miterlimit:10;\" d=\"M 316.058594 169.617188 C 316.058594 175.140625 311.582031 179.617188 306.058594 179.617188 C 300.535156 179.617188 296.058594 175.140625 296.058594 169.617188 C 296.058594 164.09375 300.535156 159.617188 306.058594 159.617188 C 311.582031 159.617188 316.058594 164.09375 316.058594 169.617188 \"/>\n",
       "<path style=\"fill-rule:nonzero;fill:rgb(83.529412%,92.941176%,91.764706%);fill-opacity:1;stroke-width:1;stroke-linecap:butt;stroke-linejoin:miter;stroke:rgb(0%,0%,0%);stroke-opacity:1;stroke-miterlimit:10;\" d=\"M 57.480469 78.75 C 57.480469 84.273438 53.003906 88.75 47.480469 88.75 C 41.960938 88.75 37.480469 84.273438 37.480469 78.75 C 37.480469 73.226562 41.960938 68.75 47.480469 68.75 C 53.003906 68.75 57.480469 73.226562 57.480469 78.75 \"/>\n",
       "<path style=\"fill-rule:nonzero;fill:rgb(83.529412%,92.941176%,91.764706%);fill-opacity:1;stroke-width:1;stroke-linecap:butt;stroke-linejoin:miter;stroke:rgb(0%,0%,0%);stroke-opacity:1;stroke-miterlimit:10;\" d=\"M 30 45.773438 C 30 51.296875 25.523438 55.773438 20 55.773438 C 14.476562 55.773438 10 51.296875 10 45.773438 C 10 40.25 14.476562 35.773438 20 35.773438 C 25.523438 35.773438 30 40.25 30 45.773438 \"/>\n",
       "<path style=\"fill-rule:nonzero;fill:rgb(83.529412%,92.941176%,91.764706%);fill-opacity:1;stroke-width:1;stroke-linecap:butt;stroke-linejoin:miter;stroke:rgb(0%,0%,0%);stroke-opacity:1;stroke-miterlimit:10;\" d=\"M 108.039062 20 C 108.039062 25.523438 103.5625 30 98.039062 30 C 92.515625 30 88.039062 25.523438 88.039062 20 C 88.039062 14.476562 92.515625 10 98.039062 10 C 103.5625 10 108.039062 14.476562 108.039062 20 \"/>\n",
       "<path style=\"fill-rule:nonzero;fill:rgb(83.529412%,92.941176%,91.764706%);fill-opacity:1;stroke-width:1;stroke-linecap:butt;stroke-linejoin:miter;stroke:rgb(0%,0%,0%);stroke-opacity:1;stroke-miterlimit:10;\" d=\"M 203.941406 30.382812 C 203.941406 35.90625 199.464844 40.382812 193.941406 40.382812 C 188.417969 40.382812 183.941406 35.90625 183.941406 30.382812 C 183.941406 24.859375 188.417969 20.382812 193.941406 20.382812 C 199.464844 20.382812 203.941406 24.859375 203.941406 30.382812 \"/>\n",
       "<path style=\"fill-rule:nonzero;fill:rgb(58.431373%,34.901961%,6.27451%);fill-opacity:1;stroke-width:1;stroke-linecap:butt;stroke-linejoin:miter;stroke:rgb(0%,0%,0%);stroke-opacity:1;stroke-miterlimit:10;\" d=\"M 197.203125 77.933594 C 197.203125 83.453125 192.726562 87.933594 187.203125 87.933594 C 181.679688 87.933594 177.203125 83.453125 177.203125 77.933594 C 177.203125 72.410156 181.679688 67.933594 187.203125 67.933594 C 192.726562 67.933594 197.203125 72.410156 197.203125 77.933594 \"/>\n",
       "</g>\n",
       "</svg>\n"
      ],
      "text/plain": [
       "<igraph.drawing.Plot at 0x126883280>"
      ]
     },
     "execution_count": 16,
     "metadata": {
      "image/svg+xml": {
       "isolated": true
      }
     },
     "output_type": "execute_result"
    }
   ],
   "source": [
    "set_evec_colors(g, v[:, 9])\n",
    "ig.plot(g, layout = layout, bbox=(0, 0, 500, 200))"
   ]
  },
  {
   "cell_type": "code",
   "execution_count": null,
   "metadata": {},
   "outputs": [],
   "source": []
  }
 ],
 "metadata": {
  "kernelspec": {
   "display_name": "Python 3",
   "language": "python",
   "name": "python3"
  },
  "language_info": {
   "codemirror_mode": {
    "name": "ipython",
    "version": 3
   },
   "file_extension": ".py",
   "mimetype": "text/x-python",
   "name": "python",
   "nbconvert_exporter": "python",
   "pygments_lexer": "ipython3",
   "version": "3.8.2"
  }
 },
 "nbformat": 4,
 "nbformat_minor": 4
}
