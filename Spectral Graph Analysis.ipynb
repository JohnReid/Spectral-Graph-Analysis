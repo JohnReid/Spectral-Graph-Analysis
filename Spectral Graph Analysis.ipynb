{
 "cells": [
  {
   "cell_type": "code",
   "execution_count": 18,
   "metadata": {},
   "outputs": [],
   "source": [
    "import itertools\n",
    "import igraph as ig\n",
    "import numpy as np\n",
    "import numpy.linalg as la\n",
    "import matplotlib as mpl\n",
    "import matplotlib.pyplot as plt\n",
    "from matplotlib import colors\n",
    "from matplotlib import cm\n",
    "import seaborn as sns\n",
    "%matplotlib inline"
   ]
  },
  {
   "cell_type": "code",
   "execution_count": 2,
   "metadata": {},
   "outputs": [],
   "source": [
    "def add_clique(g, clique=0, clique_size=5):\n",
    "    vertex_names = [f'clique-{clique}-vertex-{v}' for v in range(clique_size)]\n",
    "    for name in vertex_names:\n",
    "        g.add_vertex(name)\n",
    "    for u, v in itertools.combinations(vertex_names, r=2):\n",
    "        g.add_edge(u, v)\n",
    "    return vertex_names\n",
    "\n",
    "\n",
    "def two_clique_graph():\n",
    "    g = ig.Graph()\n",
    "    clique0vertices = add_clique(g, 0, 5)\n",
    "    clique1vertices = add_clique(g, 1, 5)\n",
    "    g.add_edge(np.random.choice(clique0vertices), np.random.choice(clique1vertices))\n",
    "    return g\n",
    "    \n",
    "    \n",
    "def five_clique_graph():\n",
    "    g = ig.Graph()\n",
    "    clique_vertices = [add_clique(g, clique, 5) for clique in range(5)]\n",
    "    for clique in range(4):\n",
    "        g.add_edge(np.random.choice(clique_vertices[clique]), np.random.choice(clique_vertices[clique + 1]))\n",
    "    return g"
   ]
  },
  {
   "cell_type": "code",
   "execution_count": 3,
   "metadata": {},
   "outputs": [],
   "source": [
    "g = two_clique_graph()\n",
    "# g = five_clique_graph()"
   ]
  },
  {
   "cell_type": "code",
   "execution_count": 4,
   "metadata": {},
   "outputs": [
    {
     "data": {
      "image/svg+xml": [
       "<?xml version=\"1.0\" encoding=\"UTF-8\"?>\n",
       "<svg xmlns=\"http://www.w3.org/2000/svg\" xmlns:xlink=\"http://www.w3.org/1999/xlink\" width=\"600pt\" height=\"600pt\" viewBox=\"0 0 600 600\" version=\"1.1\">\n",
       "<g id=\"surface2\">\n",
       "<rect x=\"0\" y=\"0\" width=\"600\" height=\"600\" style=\"fill:rgb(100%,100%,100%);fill-opacity:1;stroke:none;\"/>\n",
       "<path style=\"fill:none;stroke-width:1;stroke-linecap:butt;stroke-linejoin:miter;stroke:rgb(26.666667%,26.666667%,26.666667%);stroke-opacity:1;stroke-miterlimit:10;\" d=\"M 580 494.023438 L 549.289062 379.773438 \"/>\n",
       "<path style=\"fill:none;stroke-width:1;stroke-linecap:butt;stroke-linejoin:miter;stroke:rgb(26.666667%,26.666667%,26.666667%);stroke-opacity:1;stroke-miterlimit:10;\" d=\"M 580 494.023438 L 362.402344 541.128906 \"/>\n",
       "<path style=\"fill:none;stroke-width:1;stroke-linecap:butt;stroke-linejoin:miter;stroke:rgb(26.666667%,26.666667%,26.666667%);stroke-opacity:1;stroke-miterlimit:10;\" d=\"M 580 494.023438 L 480.417969 580 \"/>\n",
       "<path style=\"fill:none;stroke-width:1;stroke-linecap:butt;stroke-linejoin:miter;stroke:rgb(26.666667%,26.666667%,26.666667%);stroke-opacity:1;stroke-miterlimit:10;\" d=\"M 580 494.023438 L 375.695312 377.933594 \"/>\n",
       "<path style=\"fill:none;stroke-width:1;stroke-linecap:butt;stroke-linejoin:miter;stroke:rgb(26.666667%,26.666667%,26.666667%);stroke-opacity:1;stroke-miterlimit:10;\" d=\"M 549.289062 379.773438 L 362.402344 541.128906 \"/>\n",
       "<path style=\"fill:none;stroke-width:1;stroke-linecap:butt;stroke-linejoin:miter;stroke:rgb(26.666667%,26.666667%,26.666667%);stroke-opacity:1;stroke-miterlimit:10;\" d=\"M 549.289062 379.773438 L 480.417969 580 \"/>\n",
       "<path style=\"fill:none;stroke-width:1;stroke-linecap:butt;stroke-linejoin:miter;stroke:rgb(26.666667%,26.666667%,26.666667%);stroke-opacity:1;stroke-miterlimit:10;\" d=\"M 549.289062 379.773438 L 375.695312 377.933594 \"/>\n",
       "<path style=\"fill:none;stroke-width:1;stroke-linecap:butt;stroke-linejoin:miter;stroke:rgb(26.666667%,26.666667%,26.666667%);stroke-opacity:1;stroke-miterlimit:10;\" d=\"M 362.402344 541.128906 L 480.417969 580 \"/>\n",
       "<path style=\"fill:none;stroke-width:1;stroke-linecap:butt;stroke-linejoin:miter;stroke:rgb(26.666667%,26.666667%,26.666667%);stroke-opacity:1;stroke-miterlimit:10;\" d=\"M 362.402344 541.128906 L 375.695312 377.933594 \"/>\n",
       "<path style=\"fill:none;stroke-width:1;stroke-linecap:butt;stroke-linejoin:miter;stroke:rgb(26.666667%,26.666667%,26.666667%);stroke-opacity:1;stroke-miterlimit:10;\" d=\"M 480.417969 580 L 375.695312 377.933594 \"/>\n",
       "<path style=\"fill:none;stroke-width:1;stroke-linecap:butt;stroke-linejoin:miter;stroke:rgb(26.666667%,26.666667%,26.666667%);stroke-opacity:1;stroke-miterlimit:10;\" d=\"M 50.710938 220.226562 L 20 105.976562 \"/>\n",
       "<path style=\"fill:none;stroke-width:1;stroke-linecap:butt;stroke-linejoin:miter;stroke:rgb(26.666667%,26.666667%,26.666667%);stroke-opacity:1;stroke-miterlimit:10;\" d=\"M 50.710938 220.226562 L 119.582031 20 \"/>\n",
       "<path style=\"fill:none;stroke-width:1;stroke-linecap:butt;stroke-linejoin:miter;stroke:rgb(26.666667%,26.666667%,26.666667%);stroke-opacity:1;stroke-miterlimit:10;\" d=\"M 50.710938 220.226562 L 237.597656 58.871094 \"/>\n",
       "<path style=\"fill:none;stroke-width:1;stroke-linecap:butt;stroke-linejoin:miter;stroke:rgb(26.666667%,26.666667%,26.666667%);stroke-opacity:1;stroke-miterlimit:10;\" d=\"M 50.710938 220.226562 L 224.304688 222.066406 \"/>\n",
       "<path style=\"fill:none;stroke-width:1;stroke-linecap:butt;stroke-linejoin:miter;stroke:rgb(26.666667%,26.666667%,26.666667%);stroke-opacity:1;stroke-miterlimit:10;\" d=\"M 20 105.976562 L 119.582031 20 \"/>\n",
       "<path style=\"fill:none;stroke-width:1;stroke-linecap:butt;stroke-linejoin:miter;stroke:rgb(26.666667%,26.666667%,26.666667%);stroke-opacity:1;stroke-miterlimit:10;\" d=\"M 20 105.976562 L 237.597656 58.871094 \"/>\n",
       "<path style=\"fill:none;stroke-width:1;stroke-linecap:butt;stroke-linejoin:miter;stroke:rgb(26.666667%,26.666667%,26.666667%);stroke-opacity:1;stroke-miterlimit:10;\" d=\"M 20 105.976562 L 224.304688 222.066406 \"/>\n",
       "<path style=\"fill:none;stroke-width:1;stroke-linecap:butt;stroke-linejoin:miter;stroke:rgb(26.666667%,26.666667%,26.666667%);stroke-opacity:1;stroke-miterlimit:10;\" d=\"M 119.582031 20 L 237.597656 58.871094 \"/>\n",
       "<path style=\"fill:none;stroke-width:1;stroke-linecap:butt;stroke-linejoin:miter;stroke:rgb(26.666667%,26.666667%,26.666667%);stroke-opacity:1;stroke-miterlimit:10;\" d=\"M 119.582031 20 L 224.304688 222.066406 \"/>\n",
       "<path style=\"fill:none;stroke-width:1;stroke-linecap:butt;stroke-linejoin:miter;stroke:rgb(26.666667%,26.666667%,26.666667%);stroke-opacity:1;stroke-miterlimit:10;\" d=\"M 237.597656 58.871094 L 224.304688 222.066406 \"/>\n",
       "<path style=\"fill:none;stroke-width:1;stroke-linecap:butt;stroke-linejoin:miter;stroke:rgb(26.666667%,26.666667%,26.666667%);stroke-opacity:1;stroke-miterlimit:10;\" d=\"M 375.695312 377.933594 L 224.304688 222.066406 \"/>\n",
       "<path style=\"fill-rule:nonzero;fill:rgb(100%,0%,0%);fill-opacity:1;stroke-width:1;stroke-linecap:butt;stroke-linejoin:miter;stroke:rgb(0%,0%,0%);stroke-opacity:1;stroke-miterlimit:10;\" d=\"M 590 494.023438 C 590 499.546875 585.523438 504.023438 580 504.023438 C 574.476562 504.023438 570 499.546875 570 494.023438 C 570 488.5 574.476562 484.023438 580 484.023438 C 585.523438 484.023438 590 488.5 590 494.023438 \"/>\n",
       "<path style=\"fill-rule:nonzero;fill:rgb(100%,0%,0%);fill-opacity:1;stroke-width:1;stroke-linecap:butt;stroke-linejoin:miter;stroke:rgb(0%,0%,0%);stroke-opacity:1;stroke-miterlimit:10;\" d=\"M 559.289062 379.773438 C 559.289062 385.292969 554.808594 389.773438 549.289062 389.773438 C 543.765625 389.773438 539.289062 385.292969 539.289062 379.773438 C 539.289062 374.25 543.765625 369.773438 549.289062 369.773438 C 554.808594 369.773438 559.289062 374.25 559.289062 379.773438 \"/>\n",
       "<path style=\"fill-rule:nonzero;fill:rgb(100%,0%,0%);fill-opacity:1;stroke-width:1;stroke-linecap:butt;stroke-linejoin:miter;stroke:rgb(0%,0%,0%);stroke-opacity:1;stroke-miterlimit:10;\" d=\"M 372.402344 541.128906 C 372.402344 546.652344 367.925781 551.128906 362.402344 551.128906 C 356.878906 551.128906 352.402344 546.652344 352.402344 541.128906 C 352.402344 535.605469 356.878906 531.128906 362.402344 531.128906 C 367.925781 531.128906 372.402344 535.605469 372.402344 541.128906 \"/>\n",
       "<path style=\"fill-rule:nonzero;fill:rgb(100%,0%,0%);fill-opacity:1;stroke-width:1;stroke-linecap:butt;stroke-linejoin:miter;stroke:rgb(0%,0%,0%);stroke-opacity:1;stroke-miterlimit:10;\" d=\"M 490.417969 580 C 490.417969 585.523438 485.941406 590 480.417969 590 C 474.894531 590 470.417969 585.523438 470.417969 580 C 470.417969 574.476562 474.894531 570 480.417969 570 C 485.941406 570 490.417969 574.476562 490.417969 580 \"/>\n",
       "<path style=\"fill-rule:nonzero;fill:rgb(100%,0%,0%);fill-opacity:1;stroke-width:1;stroke-linecap:butt;stroke-linejoin:miter;stroke:rgb(0%,0%,0%);stroke-opacity:1;stroke-miterlimit:10;\" d=\"M 385.695312 377.933594 C 385.695312 383.457031 381.21875 387.933594 375.695312 387.933594 C 370.171875 387.933594 365.695312 383.457031 365.695312 377.933594 C 365.695312 372.410156 370.171875 367.933594 375.695312 367.933594 C 381.21875 367.933594 385.695312 372.410156 385.695312 377.933594 \"/>\n",
       "<path style=\"fill-rule:nonzero;fill:rgb(100%,0%,0%);fill-opacity:1;stroke-width:1;stroke-linecap:butt;stroke-linejoin:miter;stroke:rgb(0%,0%,0%);stroke-opacity:1;stroke-miterlimit:10;\" d=\"M 60.710938 220.226562 C 60.710938 225.75 56.234375 230.226562 50.710938 230.226562 C 45.191406 230.226562 40.710938 225.75 40.710938 220.226562 C 40.710938 214.707031 45.191406 210.226562 50.710938 210.226562 C 56.234375 210.226562 60.710938 214.707031 60.710938 220.226562 \"/>\n",
       "<path style=\"fill-rule:nonzero;fill:rgb(100%,0%,0%);fill-opacity:1;stroke-width:1;stroke-linecap:butt;stroke-linejoin:miter;stroke:rgb(0%,0%,0%);stroke-opacity:1;stroke-miterlimit:10;\" d=\"M 30 105.976562 C 30 111.5 25.523438 115.976562 20 115.976562 C 14.476562 115.976562 10 111.5 10 105.976562 C 10 100.453125 14.476562 95.976562 20 95.976562 C 25.523438 95.976562 30 100.453125 30 105.976562 \"/>\n",
       "<path style=\"fill-rule:nonzero;fill:rgb(100%,0%,0%);fill-opacity:1;stroke-width:1;stroke-linecap:butt;stroke-linejoin:miter;stroke:rgb(0%,0%,0%);stroke-opacity:1;stroke-miterlimit:10;\" d=\"M 129.582031 20 C 129.582031 25.523438 125.105469 30 119.582031 30 C 114.058594 30 109.582031 25.523438 109.582031 20 C 109.582031 14.476562 114.058594 10 119.582031 10 C 125.105469 10 129.582031 14.476562 129.582031 20 \"/>\n",
       "<path style=\"fill-rule:nonzero;fill:rgb(100%,0%,0%);fill-opacity:1;stroke-width:1;stroke-linecap:butt;stroke-linejoin:miter;stroke:rgb(0%,0%,0%);stroke-opacity:1;stroke-miterlimit:10;\" d=\"M 247.597656 58.871094 C 247.597656 64.394531 243.121094 68.871094 237.597656 68.871094 C 232.074219 68.871094 227.597656 64.394531 227.597656 58.871094 C 227.597656 53.347656 232.074219 48.871094 237.597656 48.871094 C 243.121094 48.871094 247.597656 53.347656 247.597656 58.871094 \"/>\n",
       "<path style=\"fill-rule:nonzero;fill:rgb(100%,0%,0%);fill-opacity:1;stroke-width:1;stroke-linecap:butt;stroke-linejoin:miter;stroke:rgb(0%,0%,0%);stroke-opacity:1;stroke-miterlimit:10;\" d=\"M 234.304688 222.066406 C 234.304688 227.589844 229.828125 232.066406 224.304688 232.066406 C 218.78125 232.066406 214.304688 227.589844 214.304688 222.066406 C 214.304688 216.542969 218.78125 212.066406 224.304688 212.066406 C 229.828125 212.066406 234.304688 216.542969 234.304688 222.066406 \"/>\n",
       "</g>\n",
       "</svg>\n"
      ],
      "text/plain": [
       "<igraph.drawing.Plot at 0x1127ed7c0>"
      ]
     },
     "execution_count": 4,
     "metadata": {
      "image/svg+xml": {
       "isolated": true
      }
     },
     "output_type": "execute_result"
    }
   ],
   "source": [
    "layout = g.layout_auto()\n",
    "ig.plot(g, layout = layout)"
   ]
  },
  {
   "cell_type": "markdown",
   "metadata": {},
   "source": [
    "Adjacency matrix, $W$"
   ]
  },
  {
   "cell_type": "code",
   "execution_count": 5,
   "metadata": {},
   "outputs": [
    {
     "data": {
      "image/png": "[encoded data removed]",
      "text/plain": [
       "<Figure size 432x288 with 2 Axes>"
      ]
     },
     "metadata": {
      "needs_background": "light"
     },
     "output_type": "display_data"
    }
   ],
   "source": [
    "fig, ax = plt.subplots()\n",
    "type(g.get_adjacency().data)\n",
    "ax = sns.heatmap(g.get_adjacency().data, ax=ax, center=0, cmap='BrBG')"
   ]
  },
  {
   "cell_type": "markdown",
   "metadata": {},
   "source": [
    "## Graph Laplacian\n",
    "\n",
    "Unnormalised form\n",
    "\n",
    "$$L = D - W$$\n",
    "\n",
    "or the symmetric normalised Laplacian (same on degree homogeneous (regular) graphs)\n",
    "\n",
    "$$L_\\text{sym} = D^{-\\frac{1}{2}} L D^{-\\frac{1}{2}} = I - D^{-\\frac{1}{2}} L D^{-\\frac{1}{2}}$$\n",
    "\n",
    "or the normalised Laplacian associated with random walks\n",
    "\n",
    "$$L_\\text{rw} = D^{-1} W$$\n",
    "\n",
    "### Smoothness\n",
    "\n",
    "Why are we so interested in this graph Laplacian?\n",
    "Given a vector of values $\\mathbf{x}$ (one dimension for each vertex in the graph), the Laplacian quadratic form\n",
    "\n",
    "$$\\mathbf{x}^T L \\mathbf{x} = \\sum_{(i, j) \\in E(G)} (x_i - x_j)^2$$\n",
    "\n",
    "can be seen as a measure of how smooth $\\mathbf{x}$ is over the graph.\n",
    "So if we take the eigendecomposition of the Laplacian\n",
    "\n",
    "$$L = Q \\Lambda Q^{-1}$$\n",
    "\n",
    "we can see that the eigenvectors with smallest eigenvalues are the smoothest over the graph (as defined by the quadratic form above)."
   ]
  },
  {
   "cell_type": "code",
   "execution_count": 6,
   "metadata": {},
   "outputs": [
    {
     "data": {
      "image/png": "[encoded data removed]",
      "text/plain": [
       "<Figure size 432x288 with 2 Axes>"
      ]
     },
     "metadata": {
      "needs_background": "light"
     },
     "output_type": "display_data"
    }
   ],
   "source": [
    "L = g.laplacian()\n",
    "fig, ax = plt.subplots()\n",
    "ax = sns.heatmap(L, ax=ax, center=0, cmap='BrBG')"
   ]
  },
  {
   "cell_type": "markdown",
   "metadata": {},
   "source": [
    "## Spectral analysis\n",
    "\n",
    "Solve the eigenproblem\n",
    "$$L \\mathbf{x} = \\lambda \\mathbf{x}$$\n",
    "\n",
    "Note that the sum of each row of $L$ = 0. Hence any constant vector $\\mathbf{1}$ is an eigenvector with eigenvalue $\\lambda = 0$.\n",
    "\n",
    "### Fiedler eigenvector\n",
    "Suppose the graph had two connected components.\n",
    "How could we easily find another eigenvector orthogonal to the first?\n",
    "Note here the Laplacian will have a block diagonal structure.\n",
    "\n",
    "### Generalised eigenproblem\n",
    "Note sometimes people solve the generalised eigenproblem\n",
    "$$L \\mathbf{x} = \\lambda D \\mathbf{x}$$\n",
    "but this is just the same as substituting\n",
    "$$L' = D^{-1} L$$"
   ]
  },
  {
   "cell_type": "code",
   "execution_count": 7,
   "metadata": {},
   "outputs": [
    {
     "data": {
      "image/png": "[encoded data removed]",
      "text/plain": [
       "<Figure size 432x288 with 1 Axes>"
      ]
     },
     "metadata": {
      "needs_background": "light"
     },
     "output_type": "display_data"
    }
   ],
   "source": [
    "w, v = la.eigh(L)\n",
    "fig, ax = plt.subplots()\n",
    "ax.bar(np.arange(len(L)), w)\n",
    "_ = ax.set_title('Eigenvalues')"
   ]
  },
  {
   "cell_type": "code",
   "execution_count": 8,
   "metadata": {},
   "outputs": [],
   "source": [
    "vmax = np.abs(v).max()\n",
    "cmap = cm.get_cmap('BrBG')"
   ]
  },
  {
   "cell_type": "code",
   "execution_count": 9,
   "metadata": {},
   "outputs": [],
   "source": [
    "def set_evec_colors(g, v):\n",
    "    scaled_evec = (v / vmax + 1) / 2\n",
    "    g.vs['color'] = list(map(colors.rgb2hex, cmap(scaled_evec)))"
   ]
  },
  {
   "cell_type": "code",
   "execution_count": 10,
   "metadata": {},
   "outputs": [
    {
     "data": {
      "image/svg+xml": [
       "<?xml version=\"1.0\" encoding=\"UTF-8\"?>\n",
       "<svg xmlns=\"http://www.w3.org/2000/svg\" xmlns:xlink=\"http://www.w3.org/1999/xlink\" width=\"500pt\" height=\"200pt\" viewBox=\"0 0 500 200\" version=\"1.1\">\n",
       "<g id=\"surface8\">\n",
       "<rect x=\"0\" y=\"0\" width=\"500\" height=\"200\" style=\"fill:rgb(100%,100%,100%);fill-opacity:1;stroke:none;\"/>\n",
       "<path style=\"fill:none;stroke-width:1;stroke-linecap:butt;stroke-linejoin:miter;stroke:rgb(26.666667%,26.666667%,26.666667%);stroke-opacity:1;stroke-miterlimit:10;\" d=\"M 480 155.433594 L 454.773438 122.792969 \"/>\n",
       "<path style=\"fill:none;stroke-width:1;stroke-linecap:butt;stroke-linejoin:miter;stroke:rgb(26.666667%,26.666667%,26.666667%);stroke-opacity:1;stroke-miterlimit:10;\" d=\"M 480 155.433594 L 301.261719 168.894531 \"/>\n",
       "<path style=\"fill:none;stroke-width:1;stroke-linecap:butt;stroke-linejoin:miter;stroke:rgb(26.666667%,26.666667%,26.666667%);stroke-opacity:1;stroke-miterlimit:10;\" d=\"M 480 155.433594 L 398.203125 180 \"/>\n",
       "<path style=\"fill:none;stroke-width:1;stroke-linecap:butt;stroke-linejoin:miter;stroke:rgb(26.666667%,26.666667%,26.666667%);stroke-opacity:1;stroke-miterlimit:10;\" d=\"M 480 155.433594 L 312.179688 122.265625 \"/>\n",
       "<path style=\"fill:none;stroke-width:1;stroke-linecap:butt;stroke-linejoin:miter;stroke:rgb(26.666667%,26.666667%,26.666667%);stroke-opacity:1;stroke-miterlimit:10;\" d=\"M 454.773438 122.792969 L 301.261719 168.894531 \"/>\n",
       "<path style=\"fill:none;stroke-width:1;stroke-linecap:butt;stroke-linejoin:miter;stroke:rgb(26.666667%,26.666667%,26.666667%);stroke-opacity:1;stroke-miterlimit:10;\" d=\"M 454.773438 122.792969 L 398.203125 180 \"/>\n",
       "<path style=\"fill:none;stroke-width:1;stroke-linecap:butt;stroke-linejoin:miter;stroke:rgb(26.666667%,26.666667%,26.666667%);stroke-opacity:1;stroke-miterlimit:10;\" d=\"M 454.773438 122.792969 L 312.179688 122.265625 \"/>\n",
       "<path style=\"fill:none;stroke-width:1;stroke-linecap:butt;stroke-linejoin:miter;stroke:rgb(26.666667%,26.666667%,26.666667%);stroke-opacity:1;stroke-miterlimit:10;\" d=\"M 301.261719 168.894531 L 398.203125 180 \"/>\n",
       "<path style=\"fill:none;stroke-width:1;stroke-linecap:butt;stroke-linejoin:miter;stroke:rgb(26.666667%,26.666667%,26.666667%);stroke-opacity:1;stroke-miterlimit:10;\" d=\"M 301.261719 168.894531 L 312.179688 122.265625 \"/>\n",
       "<path style=\"fill:none;stroke-width:1;stroke-linecap:butt;stroke-linejoin:miter;stroke:rgb(26.666667%,26.666667%,26.666667%);stroke-opacity:1;stroke-miterlimit:10;\" d=\"M 398.203125 180 L 312.179688 122.265625 \"/>\n",
       "<path style=\"fill:none;stroke-width:1;stroke-linecap:butt;stroke-linejoin:miter;stroke:rgb(26.666667%,26.666667%,26.666667%);stroke-opacity:1;stroke-miterlimit:10;\" d=\"M 45.226562 77.207031 L 20 44.566406 \"/>\n",
       "<path style=\"fill:none;stroke-width:1;stroke-linecap:butt;stroke-linejoin:miter;stroke:rgb(26.666667%,26.666667%,26.666667%);stroke-opacity:1;stroke-miterlimit:10;\" d=\"M 45.226562 77.207031 L 101.796875 20 \"/>\n",
       "<path style=\"fill:none;stroke-width:1;stroke-linecap:butt;stroke-linejoin:miter;stroke:rgb(26.666667%,26.666667%,26.666667%);stroke-opacity:1;stroke-miterlimit:10;\" d=\"M 45.226562 77.207031 L 198.738281 31.105469 \"/>\n",
       "<path style=\"fill:none;stroke-width:1;stroke-linecap:butt;stroke-linejoin:miter;stroke:rgb(26.666667%,26.666667%,26.666667%);stroke-opacity:1;stroke-miterlimit:10;\" d=\"M 45.226562 77.207031 L 187.820312 77.734375 \"/>\n",
       "<path style=\"fill:none;stroke-width:1;stroke-linecap:butt;stroke-linejoin:miter;stroke:rgb(26.666667%,26.666667%,26.666667%);stroke-opacity:1;stroke-miterlimit:10;\" d=\"M 20 44.566406 L 101.796875 20 \"/>\n",
       "<path style=\"fill:none;stroke-width:1;stroke-linecap:butt;stroke-linejoin:miter;stroke:rgb(26.666667%,26.666667%,26.666667%);stroke-opacity:1;stroke-miterlimit:10;\" d=\"M 20 44.566406 L 198.738281 31.105469 \"/>\n",
       "<path style=\"fill:none;stroke-width:1;stroke-linecap:butt;stroke-linejoin:miter;stroke:rgb(26.666667%,26.666667%,26.666667%);stroke-opacity:1;stroke-miterlimit:10;\" d=\"M 20 44.566406 L 187.820312 77.734375 \"/>\n",
       "<path style=\"fill:none;stroke-width:1;stroke-linecap:butt;stroke-linejoin:miter;stroke:rgb(26.666667%,26.666667%,26.666667%);stroke-opacity:1;stroke-miterlimit:10;\" d=\"M 101.796875 20 L 198.738281 31.105469 \"/>\n",
       "<path style=\"fill:none;stroke-width:1;stroke-linecap:butt;stroke-linejoin:miter;stroke:rgb(26.666667%,26.666667%,26.666667%);stroke-opacity:1;stroke-miterlimit:10;\" d=\"M 101.796875 20 L 187.820312 77.734375 \"/>\n",
       "<path style=\"fill:none;stroke-width:1;stroke-linecap:butt;stroke-linejoin:miter;stroke:rgb(26.666667%,26.666667%,26.666667%);stroke-opacity:1;stroke-miterlimit:10;\" d=\"M 198.738281 31.105469 L 187.820312 77.734375 \"/>\n",
       "<path style=\"fill:none;stroke-width:1;stroke-linecap:butt;stroke-linejoin:miter;stroke:rgb(26.666667%,26.666667%,26.666667%);stroke-opacity:1;stroke-miterlimit:10;\" d=\"M 312.179688 122.265625 L 187.820312 77.734375 \"/>\n",
       "<path style=\"fill-rule:nonzero;fill:rgb(56.078431%,82.745098%,78.823529%);fill-opacity:1;stroke-width:1;stroke-linecap:butt;stroke-linejoin:miter;stroke:rgb(0%,0%,0%);stroke-opacity:1;stroke-miterlimit:10;\" d=\"M 490 155.433594 C 490 160.957031 485.523438 165.433594 480 165.433594 C 474.476562 165.433594 470 160.957031 470 155.433594 C 470 149.910156 474.476562 145.433594 480 145.433594 C 485.523438 145.433594 490 149.910156 490 155.433594 \"/>\n",
       "<path style=\"fill-rule:nonzero;fill:rgb(56.078431%,82.745098%,78.823529%);fill-opacity:1;stroke-width:1;stroke-linecap:butt;stroke-linejoin:miter;stroke:rgb(0%,0%,0%);stroke-opacity:1;stroke-miterlimit:10;\" d=\"M 464.773438 122.792969 C 464.773438 128.316406 460.292969 132.792969 454.773438 132.792969 C 449.25 132.792969 444.773438 128.316406 444.773438 122.792969 C 444.773438 117.269531 449.25 112.792969 454.773438 112.792969 C 460.292969 112.792969 464.773438 117.269531 464.773438 122.792969 \"/>\n",
       "<path style=\"fill-rule:nonzero;fill:rgb(56.078431%,82.745098%,78.823529%);fill-opacity:1;stroke-width:1;stroke-linecap:butt;stroke-linejoin:miter;stroke:rgb(0%,0%,0%);stroke-opacity:1;stroke-miterlimit:10;\" d=\"M 311.261719 168.894531 C 311.261719 174.417969 306.78125 178.894531 301.261719 178.894531 C 295.738281 178.894531 291.261719 174.417969 291.261719 168.894531 C 291.261719 163.371094 295.738281 158.894531 301.261719 158.894531 C 306.78125 158.894531 311.261719 163.371094 311.261719 168.894531 \"/>\n",
       "<path style=\"fill-rule:nonzero;fill:rgb(56.078431%,82.745098%,78.823529%);fill-opacity:1;stroke-width:1;stroke-linecap:butt;stroke-linejoin:miter;stroke:rgb(0%,0%,0%);stroke-opacity:1;stroke-miterlimit:10;\" d=\"M 408.203125 180 C 408.203125 185.523438 403.722656 190 398.203125 190 C 392.679688 190 388.203125 185.523438 388.203125 180 C 388.203125 174.476562 392.679688 170 398.203125 170 C 403.722656 170 408.203125 174.476562 408.203125 180 \"/>\n",
       "<path style=\"fill-rule:nonzero;fill:rgb(56.078431%,82.745098%,78.823529%);fill-opacity:1;stroke-width:1;stroke-linecap:butt;stroke-linejoin:miter;stroke:rgb(0%,0%,0%);stroke-opacity:1;stroke-miterlimit:10;\" d=\"M 322.179688 122.265625 C 322.179688 127.789062 317.703125 132.265625 312.179688 132.265625 C 306.65625 132.265625 302.179688 127.789062 302.179688 122.265625 C 302.179688 116.742188 306.65625 112.265625 312.179688 112.265625 C 317.703125 112.265625 322.179688 116.742188 322.179688 122.265625 \"/>\n",
       "<path style=\"fill-rule:nonzero;fill:rgb(56.078431%,82.745098%,78.823529%);fill-opacity:1;stroke-width:1;stroke-linecap:butt;stroke-linejoin:miter;stroke:rgb(0%,0%,0%);stroke-opacity:1;stroke-miterlimit:10;\" d=\"M 55.226562 77.207031 C 55.226562 82.730469 50.75 87.207031 45.226562 87.207031 C 39.707031 87.207031 35.226562 82.730469 35.226562 77.207031 C 35.226562 71.683594 39.707031 67.207031 45.226562 67.207031 C 50.75 67.207031 55.226562 71.683594 55.226562 77.207031 \"/>\n",
       "<path style=\"fill-rule:nonzero;fill:rgb(56.078431%,82.745098%,78.823529%);fill-opacity:1;stroke-width:1;stroke-linecap:butt;stroke-linejoin:miter;stroke:rgb(0%,0%,0%);stroke-opacity:1;stroke-miterlimit:10;\" d=\"M 30 44.566406 C 30 50.089844 25.523438 54.566406 20 54.566406 C 14.476562 54.566406 10 50.089844 10 44.566406 C 10 39.042969 14.476562 34.566406 20 34.566406 C 25.523438 34.566406 30 39.042969 30 44.566406 \"/>\n",
       "<path style=\"fill-rule:nonzero;fill:rgb(56.078431%,82.745098%,78.823529%);fill-opacity:1;stroke-width:1;stroke-linecap:butt;stroke-linejoin:miter;stroke:rgb(0%,0%,0%);stroke-opacity:1;stroke-miterlimit:10;\" d=\"M 111.796875 20 C 111.796875 25.523438 107.320312 30 101.796875 30 C 96.277344 30 91.796875 25.523438 91.796875 20 C 91.796875 14.476562 96.277344 10 101.796875 10 C 107.320312 10 111.796875 14.476562 111.796875 20 \"/>\n",
       "<path style=\"fill-rule:nonzero;fill:rgb(56.078431%,82.745098%,78.823529%);fill-opacity:1;stroke-width:1;stroke-linecap:butt;stroke-linejoin:miter;stroke:rgb(0%,0%,0%);stroke-opacity:1;stroke-miterlimit:10;\" d=\"M 208.738281 31.105469 C 208.738281 36.628906 204.261719 41.105469 198.738281 41.105469 C 193.21875 41.105469 188.738281 36.628906 188.738281 31.105469 C 188.738281 25.582031 193.21875 21.105469 198.738281 21.105469 C 204.261719 21.105469 208.738281 25.582031 208.738281 31.105469 \"/>\n",
       "<path style=\"fill-rule:nonzero;fill:rgb(56.078431%,82.745098%,78.823529%);fill-opacity:1;stroke-width:1;stroke-linecap:butt;stroke-linejoin:miter;stroke:rgb(0%,0%,0%);stroke-opacity:1;stroke-miterlimit:10;\" d=\"M 197.820312 77.734375 C 197.820312 83.257812 193.34375 87.734375 187.820312 87.734375 C 182.296875 87.734375 177.820312 83.257812 177.820312 77.734375 C 177.820312 72.210938 182.296875 67.734375 187.820312 67.734375 C 193.34375 67.734375 197.820312 72.210938 197.820312 77.734375 \"/>\n",
       "</g>\n",
       "</svg>\n"
      ],
      "text/plain": [
       "<igraph.drawing.Plot at 0x131743460>"
      ]
     },
     "execution_count": 10,
     "metadata": {
      "image/svg+xml": {
       "isolated": true
      }
     },
     "output_type": "execute_result"
    }
   ],
   "source": [
    "set_evec_colors(g, v[:, 0])\n",
    "ig.plot(g, layout = layout, bbox=(0, 0, 500, 200))"
   ]
  },
  {
   "cell_type": "code",
   "execution_count": 11,
   "metadata": {},
   "outputs": [
    {
     "data": {
      "image/svg+xml": [
       "<?xml version=\"1.0\" encoding=\"UTF-8\"?>\n",
       "<svg xmlns=\"http://www.w3.org/2000/svg\" xmlns:xlink=\"http://www.w3.org/1999/xlink\" width=\"500pt\" height=\"200pt\" viewBox=\"0 0 500 200\" version=\"1.1\">\n",
       "<g id=\"surface14\">\n",
       "<rect x=\"0\" y=\"0\" width=\"500\" height=\"200\" style=\"fill:rgb(100%,100%,100%);fill-opacity:1;stroke:none;\"/>\n",
       "<path style=\"fill:none;stroke-width:1;stroke-linecap:butt;stroke-linejoin:miter;stroke:rgb(26.666667%,26.666667%,26.666667%);stroke-opacity:1;stroke-miterlimit:10;\" d=\"M 480 155.433594 L 454.773438 122.792969 \"/>\n",
       "<path style=\"fill:none;stroke-width:1;stroke-linecap:butt;stroke-linejoin:miter;stroke:rgb(26.666667%,26.666667%,26.666667%);stroke-opacity:1;stroke-miterlimit:10;\" d=\"M 480 155.433594 L 301.261719 168.894531 \"/>\n",
       "<path style=\"fill:none;stroke-width:1;stroke-linecap:butt;stroke-linejoin:miter;stroke:rgb(26.666667%,26.666667%,26.666667%);stroke-opacity:1;stroke-miterlimit:10;\" d=\"M 480 155.433594 L 398.203125 180 \"/>\n",
       "<path style=\"fill:none;stroke-width:1;stroke-linecap:butt;stroke-linejoin:miter;stroke:rgb(26.666667%,26.666667%,26.666667%);stroke-opacity:1;stroke-miterlimit:10;\" d=\"M 480 155.433594 L 312.179688 122.265625 \"/>\n",
       "<path style=\"fill:none;stroke-width:1;stroke-linecap:butt;stroke-linejoin:miter;stroke:rgb(26.666667%,26.666667%,26.666667%);stroke-opacity:1;stroke-miterlimit:10;\" d=\"M 454.773438 122.792969 L 301.261719 168.894531 \"/>\n",
       "<path style=\"fill:none;stroke-width:1;stroke-linecap:butt;stroke-linejoin:miter;stroke:rgb(26.666667%,26.666667%,26.666667%);stroke-opacity:1;stroke-miterlimit:10;\" d=\"M 454.773438 122.792969 L 398.203125 180 \"/>\n",
       "<path style=\"fill:none;stroke-width:1;stroke-linecap:butt;stroke-linejoin:miter;stroke:rgb(26.666667%,26.666667%,26.666667%);stroke-opacity:1;stroke-miterlimit:10;\" d=\"M 454.773438 122.792969 L 312.179688 122.265625 \"/>\n",
       "<path style=\"fill:none;stroke-width:1;stroke-linecap:butt;stroke-linejoin:miter;stroke:rgb(26.666667%,26.666667%,26.666667%);stroke-opacity:1;stroke-miterlimit:10;\" d=\"M 301.261719 168.894531 L 398.203125 180 \"/>\n",
       "<path style=\"fill:none;stroke-width:1;stroke-linecap:butt;stroke-linejoin:miter;stroke:rgb(26.666667%,26.666667%,26.666667%);stroke-opacity:1;stroke-miterlimit:10;\" d=\"M 301.261719 168.894531 L 312.179688 122.265625 \"/>\n",
       "<path style=\"fill:none;stroke-width:1;stroke-linecap:butt;stroke-linejoin:miter;stroke:rgb(26.666667%,26.666667%,26.666667%);stroke-opacity:1;stroke-miterlimit:10;\" d=\"M 398.203125 180 L 312.179688 122.265625 \"/>\n",
       "<path style=\"fill:none;stroke-width:1;stroke-linecap:butt;stroke-linejoin:miter;stroke:rgb(26.666667%,26.666667%,26.666667%);stroke-opacity:1;stroke-miterlimit:10;\" d=\"M 45.226562 77.207031 L 20 44.566406 \"/>\n",
       "<path style=\"fill:none;stroke-width:1;stroke-linecap:butt;stroke-linejoin:miter;stroke:rgb(26.666667%,26.666667%,26.666667%);stroke-opacity:1;stroke-miterlimit:10;\" d=\"M 45.226562 77.207031 L 101.796875 20 \"/>\n",
       "<path style=\"fill:none;stroke-width:1;stroke-linecap:butt;stroke-linejoin:miter;stroke:rgb(26.666667%,26.666667%,26.666667%);stroke-opacity:1;stroke-miterlimit:10;\" d=\"M 45.226562 77.207031 L 198.738281 31.105469 \"/>\n",
       "<path style=\"fill:none;stroke-width:1;stroke-linecap:butt;stroke-linejoin:miter;stroke:rgb(26.666667%,26.666667%,26.666667%);stroke-opacity:1;stroke-miterlimit:10;\" d=\"M 45.226562 77.207031 L 187.820312 77.734375 \"/>\n",
       "<path style=\"fill:none;stroke-width:1;stroke-linecap:butt;stroke-linejoin:miter;stroke:rgb(26.666667%,26.666667%,26.666667%);stroke-opacity:1;stroke-miterlimit:10;\" d=\"M 20 44.566406 L 101.796875 20 \"/>\n",
       "<path style=\"fill:none;stroke-width:1;stroke-linecap:butt;stroke-linejoin:miter;stroke:rgb(26.666667%,26.666667%,26.666667%);stroke-opacity:1;stroke-miterlimit:10;\" d=\"M 20 44.566406 L 198.738281 31.105469 \"/>\n",
       "<path style=\"fill:none;stroke-width:1;stroke-linecap:butt;stroke-linejoin:miter;stroke:rgb(26.666667%,26.666667%,26.666667%);stroke-opacity:1;stroke-miterlimit:10;\" d=\"M 20 44.566406 L 187.820312 77.734375 \"/>\n",
       "<path style=\"fill:none;stroke-width:1;stroke-linecap:butt;stroke-linejoin:miter;stroke:rgb(26.666667%,26.666667%,26.666667%);stroke-opacity:1;stroke-miterlimit:10;\" d=\"M 101.796875 20 L 198.738281 31.105469 \"/>\n",
       "<path style=\"fill:none;stroke-width:1;stroke-linecap:butt;stroke-linejoin:miter;stroke:rgb(26.666667%,26.666667%,26.666667%);stroke-opacity:1;stroke-miterlimit:10;\" d=\"M 101.796875 20 L 187.820312 77.734375 \"/>\n",
       "<path style=\"fill:none;stroke-width:1;stroke-linecap:butt;stroke-linejoin:miter;stroke:rgb(26.666667%,26.666667%,26.666667%);stroke-opacity:1;stroke-miterlimit:10;\" d=\"M 198.738281 31.105469 L 187.820312 77.734375 \"/>\n",
       "<path style=\"fill:none;stroke-width:1;stroke-linecap:butt;stroke-linejoin:miter;stroke:rgb(26.666667%,26.666667%,26.666667%);stroke-opacity:1;stroke-miterlimit:10;\" d=\"M 312.179688 122.265625 L 187.820312 77.734375 \"/>\n",
       "<path style=\"fill-rule:nonzero;fill:rgb(88.235294%,77.647059%,51.764706%);fill-opacity:1;stroke-width:1;stroke-linecap:butt;stroke-linejoin:miter;stroke:rgb(0%,0%,0%);stroke-opacity:1;stroke-miterlimit:10;\" d=\"M 490 155.433594 C 490 160.957031 485.523438 165.433594 480 165.433594 C 474.476562 165.433594 470 160.957031 470 155.433594 C 470 149.910156 474.476562 145.433594 480 145.433594 C 485.523438 145.433594 490 149.910156 490 155.433594 \"/>\n",
       "<path style=\"fill-rule:nonzero;fill:rgb(88.235294%,77.647059%,51.764706%);fill-opacity:1;stroke-width:1;stroke-linecap:butt;stroke-linejoin:miter;stroke:rgb(0%,0%,0%);stroke-opacity:1;stroke-miterlimit:10;\" d=\"M 464.773438 122.792969 C 464.773438 128.316406 460.292969 132.792969 454.773438 132.792969 C 449.25 132.792969 444.773438 128.316406 444.773438 122.792969 C 444.773438 117.269531 449.25 112.792969 454.773438 112.792969 C 460.292969 112.792969 464.773438 117.269531 464.773438 122.792969 \"/>\n",
       "<path style=\"fill-rule:nonzero;fill:rgb(88.235294%,77.647059%,51.764706%);fill-opacity:1;stroke-width:1;stroke-linecap:butt;stroke-linejoin:miter;stroke:rgb(0%,0%,0%);stroke-opacity:1;stroke-miterlimit:10;\" d=\"M 311.261719 168.894531 C 311.261719 174.417969 306.78125 178.894531 301.261719 178.894531 C 295.738281 178.894531 291.261719 174.417969 291.261719 168.894531 C 291.261719 163.371094 295.738281 158.894531 301.261719 158.894531 C 306.78125 158.894531 311.261719 163.371094 311.261719 168.894531 \"/>\n",
       "<path style=\"fill-rule:nonzero;fill:rgb(88.235294%,77.647059%,51.764706%);fill-opacity:1;stroke-width:1;stroke-linecap:butt;stroke-linejoin:miter;stroke:rgb(0%,0%,0%);stroke-opacity:1;stroke-miterlimit:10;\" d=\"M 408.203125 180 C 408.203125 185.523438 403.722656 190 398.203125 190 C 392.679688 190 388.203125 185.523438 388.203125 180 C 388.203125 174.476562 392.679688 170 398.203125 170 C 403.722656 170 408.203125 174.476562 408.203125 180 \"/>\n",
       "<path style=\"fill-rule:nonzero;fill:rgb(93.333333%,85.882353%,66.666667%);fill-opacity:1;stroke-width:1;stroke-linecap:butt;stroke-linejoin:miter;stroke:rgb(0%,0%,0%);stroke-opacity:1;stroke-miterlimit:10;\" d=\"M 322.179688 122.265625 C 322.179688 127.789062 317.703125 132.265625 312.179688 132.265625 C 306.65625 132.265625 302.179688 127.789062 302.179688 122.265625 C 302.179688 116.742188 306.65625 112.265625 312.179688 112.265625 C 317.703125 112.265625 322.179688 116.742188 322.179688 122.265625 \"/>\n",
       "<path style=\"fill-rule:nonzero;fill:rgb(52.941176%,81.568627%,77.254902%);fill-opacity:1;stroke-width:1;stroke-linecap:butt;stroke-linejoin:miter;stroke:rgb(0%,0%,0%);stroke-opacity:1;stroke-miterlimit:10;\" d=\"M 55.226562 77.207031 C 55.226562 82.730469 50.75 87.207031 45.226562 87.207031 C 39.707031 87.207031 35.226562 82.730469 35.226562 77.207031 C 35.226562 71.683594 39.707031 67.207031 45.226562 67.207031 C 50.75 67.207031 55.226562 71.683594 55.226562 77.207031 \"/>\n",
       "<path style=\"fill-rule:nonzero;fill:rgb(52.941176%,81.568627%,77.254902%);fill-opacity:1;stroke-width:1;stroke-linecap:butt;stroke-linejoin:miter;stroke:rgb(0%,0%,0%);stroke-opacity:1;stroke-miterlimit:10;\" d=\"M 30 44.566406 C 30 50.089844 25.523438 54.566406 20 54.566406 C 14.476562 54.566406 10 50.089844 10 44.566406 C 10 39.042969 14.476562 34.566406 20 34.566406 C 25.523438 34.566406 30 39.042969 30 44.566406 \"/>\n",
       "<path style=\"fill-rule:nonzero;fill:rgb(52.941176%,81.568627%,77.254902%);fill-opacity:1;stroke-width:1;stroke-linecap:butt;stroke-linejoin:miter;stroke:rgb(0%,0%,0%);stroke-opacity:1;stroke-miterlimit:10;\" d=\"M 111.796875 20 C 111.796875 25.523438 107.320312 30 101.796875 30 C 96.277344 30 91.796875 25.523438 91.796875 20 C 91.796875 14.476562 96.277344 10 101.796875 10 C 107.320312 10 111.796875 14.476562 111.796875 20 \"/>\n",
       "<path style=\"fill-rule:nonzero;fill:rgb(52.941176%,81.568627%,77.254902%);fill-opacity:1;stroke-width:1;stroke-linecap:butt;stroke-linejoin:miter;stroke:rgb(0%,0%,0%);stroke-opacity:1;stroke-miterlimit:10;\" d=\"M 208.738281 31.105469 C 208.738281 36.628906 204.261719 41.105469 198.738281 41.105469 C 193.21875 41.105469 188.738281 36.628906 188.738281 31.105469 C 188.738281 25.582031 193.21875 21.105469 198.738281 21.105469 C 204.261719 21.105469 208.738281 25.582031 208.738281 31.105469 \"/>\n",
       "<path style=\"fill-rule:nonzero;fill:rgb(68.235294%,87.843137%,84.705882%);fill-opacity:1;stroke-width:1;stroke-linecap:butt;stroke-linejoin:miter;stroke:rgb(0%,0%,0%);stroke-opacity:1;stroke-miterlimit:10;\" d=\"M 197.820312 77.734375 C 197.820312 83.257812 193.34375 87.734375 187.820312 87.734375 C 182.296875 87.734375 177.820312 83.257812 177.820312 77.734375 C 177.820312 72.210938 182.296875 67.734375 187.820312 67.734375 C 193.34375 67.734375 197.820312 72.210938 197.820312 77.734375 \"/>\n",
       "</g>\n",
       "</svg>\n"
      ],
      "text/plain": [
       "<igraph.drawing.Plot at 0x131743490>"
      ]
     },
     "execution_count": 11,
     "metadata": {
      "image/svg+xml": {
       "isolated": true
      }
     },
     "output_type": "execute_result"
    }
   ],
   "source": [
    "set_evec_colors(g, v[:, 1])\n",
    "ig.plot(g, layout = layout, bbox=(0, 0, 500, 200))"
   ]
  },
  {
   "cell_type": "code",
   "execution_count": 12,
   "metadata": {},
   "outputs": [
    {
     "data": {
      "image/svg+xml": [
       "<?xml version=\"1.0\" encoding=\"UTF-8\"?>\n",
       "<svg xmlns=\"http://www.w3.org/2000/svg\" xmlns:xlink=\"http://www.w3.org/1999/xlink\" width=\"500pt\" height=\"200pt\" viewBox=\"0 0 500 200\" version=\"1.1\">\n",
       "<g id=\"surface20\">\n",
       "<rect x=\"0\" y=\"0\" width=\"500\" height=\"200\" style=\"fill:rgb(100%,100%,100%);fill-opacity:1;stroke:none;\"/>\n",
       "<path style=\"fill:none;stroke-width:1;stroke-linecap:butt;stroke-linejoin:miter;stroke:rgb(26.666667%,26.666667%,26.666667%);stroke-opacity:1;stroke-miterlimit:10;\" d=\"M 480 155.433594 L 454.773438 122.792969 \"/>\n",
       "<path style=\"fill:none;stroke-width:1;stroke-linecap:butt;stroke-linejoin:miter;stroke:rgb(26.666667%,26.666667%,26.666667%);stroke-opacity:1;stroke-miterlimit:10;\" d=\"M 480 155.433594 L 301.261719 168.894531 \"/>\n",
       "<path style=\"fill:none;stroke-width:1;stroke-linecap:butt;stroke-linejoin:miter;stroke:rgb(26.666667%,26.666667%,26.666667%);stroke-opacity:1;stroke-miterlimit:10;\" d=\"M 480 155.433594 L 398.203125 180 \"/>\n",
       "<path style=\"fill:none;stroke-width:1;stroke-linecap:butt;stroke-linejoin:miter;stroke:rgb(26.666667%,26.666667%,26.666667%);stroke-opacity:1;stroke-miterlimit:10;\" d=\"M 480 155.433594 L 312.179688 122.265625 \"/>\n",
       "<path style=\"fill:none;stroke-width:1;stroke-linecap:butt;stroke-linejoin:miter;stroke:rgb(26.666667%,26.666667%,26.666667%);stroke-opacity:1;stroke-miterlimit:10;\" d=\"M 454.773438 122.792969 L 301.261719 168.894531 \"/>\n",
       "<path style=\"fill:none;stroke-width:1;stroke-linecap:butt;stroke-linejoin:miter;stroke:rgb(26.666667%,26.666667%,26.666667%);stroke-opacity:1;stroke-miterlimit:10;\" d=\"M 454.773438 122.792969 L 398.203125 180 \"/>\n",
       "<path style=\"fill:none;stroke-width:1;stroke-linecap:butt;stroke-linejoin:miter;stroke:rgb(26.666667%,26.666667%,26.666667%);stroke-opacity:1;stroke-miterlimit:10;\" d=\"M 454.773438 122.792969 L 312.179688 122.265625 \"/>\n",
       "<path style=\"fill:none;stroke-width:1;stroke-linecap:butt;stroke-linejoin:miter;stroke:rgb(26.666667%,26.666667%,26.666667%);stroke-opacity:1;stroke-miterlimit:10;\" d=\"M 301.261719 168.894531 L 398.203125 180 \"/>\n",
       "<path style=\"fill:none;stroke-width:1;stroke-linecap:butt;stroke-linejoin:miter;stroke:rgb(26.666667%,26.666667%,26.666667%);stroke-opacity:1;stroke-miterlimit:10;\" d=\"M 301.261719 168.894531 L 312.179688 122.265625 \"/>\n",
       "<path style=\"fill:none;stroke-width:1;stroke-linecap:butt;stroke-linejoin:miter;stroke:rgb(26.666667%,26.666667%,26.666667%);stroke-opacity:1;stroke-miterlimit:10;\" d=\"M 398.203125 180 L 312.179688 122.265625 \"/>\n",
       "<path style=\"fill:none;stroke-width:1;stroke-linecap:butt;stroke-linejoin:miter;stroke:rgb(26.666667%,26.666667%,26.666667%);stroke-opacity:1;stroke-miterlimit:10;\" d=\"M 45.226562 77.207031 L 20 44.566406 \"/>\n",
       "<path style=\"fill:none;stroke-width:1;stroke-linecap:butt;stroke-linejoin:miter;stroke:rgb(26.666667%,26.666667%,26.666667%);stroke-opacity:1;stroke-miterlimit:10;\" d=\"M 45.226562 77.207031 L 101.796875 20 \"/>\n",
       "<path style=\"fill:none;stroke-width:1;stroke-linecap:butt;stroke-linejoin:miter;stroke:rgb(26.666667%,26.666667%,26.666667%);stroke-opacity:1;stroke-miterlimit:10;\" d=\"M 45.226562 77.207031 L 198.738281 31.105469 \"/>\n",
       "<path style=\"fill:none;stroke-width:1;stroke-linecap:butt;stroke-linejoin:miter;stroke:rgb(26.666667%,26.666667%,26.666667%);stroke-opacity:1;stroke-miterlimit:10;\" d=\"M 45.226562 77.207031 L 187.820312 77.734375 \"/>\n",
       "<path style=\"fill:none;stroke-width:1;stroke-linecap:butt;stroke-linejoin:miter;stroke:rgb(26.666667%,26.666667%,26.666667%);stroke-opacity:1;stroke-miterlimit:10;\" d=\"M 20 44.566406 L 101.796875 20 \"/>\n",
       "<path style=\"fill:none;stroke-width:1;stroke-linecap:butt;stroke-linejoin:miter;stroke:rgb(26.666667%,26.666667%,26.666667%);stroke-opacity:1;stroke-miterlimit:10;\" d=\"M 20 44.566406 L 198.738281 31.105469 \"/>\n",
       "<path style=\"fill:none;stroke-width:1;stroke-linecap:butt;stroke-linejoin:miter;stroke:rgb(26.666667%,26.666667%,26.666667%);stroke-opacity:1;stroke-miterlimit:10;\" d=\"M 20 44.566406 L 187.820312 77.734375 \"/>\n",
       "<path style=\"fill:none;stroke-width:1;stroke-linecap:butt;stroke-linejoin:miter;stroke:rgb(26.666667%,26.666667%,26.666667%);stroke-opacity:1;stroke-miterlimit:10;\" d=\"M 101.796875 20 L 198.738281 31.105469 \"/>\n",
       "<path style=\"fill:none;stroke-width:1;stroke-linecap:butt;stroke-linejoin:miter;stroke:rgb(26.666667%,26.666667%,26.666667%);stroke-opacity:1;stroke-miterlimit:10;\" d=\"M 101.796875 20 L 187.820312 77.734375 \"/>\n",
       "<path style=\"fill:none;stroke-width:1;stroke-linecap:butt;stroke-linejoin:miter;stroke:rgb(26.666667%,26.666667%,26.666667%);stroke-opacity:1;stroke-miterlimit:10;\" d=\"M 198.738281 31.105469 L 187.820312 77.734375 \"/>\n",
       "<path style=\"fill:none;stroke-width:1;stroke-linecap:butt;stroke-linejoin:miter;stroke:rgb(26.666667%,26.666667%,26.666667%);stroke-opacity:1;stroke-miterlimit:10;\" d=\"M 312.179688 122.265625 L 187.820312 77.734375 \"/>\n",
       "<path style=\"fill-rule:nonzero;fill:rgb(96.078431%,96.078431%,95.686275%);fill-opacity:1;stroke-width:1;stroke-linecap:butt;stroke-linejoin:miter;stroke:rgb(0%,0%,0%);stroke-opacity:1;stroke-miterlimit:10;\" d=\"M 490 155.433594 C 490 160.957031 485.523438 165.433594 480 165.433594 C 474.476562 165.433594 470 160.957031 470 155.433594 C 470 149.910156 474.476562 145.433594 480 145.433594 C 485.523438 145.433594 490 149.910156 490 155.433594 \"/>\n",
       "<path style=\"fill-rule:nonzero;fill:rgb(96.078431%,90.588235%,75.294118%);fill-opacity:1;stroke-width:1;stroke-linecap:butt;stroke-linejoin:miter;stroke:rgb(0%,0%,0%);stroke-opacity:1;stroke-miterlimit:10;\" d=\"M 464.773438 122.792969 C 464.773438 128.316406 460.292969 132.792969 454.773438 132.792969 C 449.25 132.792969 444.773438 128.316406 444.773438 122.792969 C 444.773438 117.269531 449.25 112.792969 454.773438 112.792969 C 460.292969 112.792969 464.773438 117.269531 464.773438 122.792969 \"/>\n",
       "<path style=\"fill-rule:nonzero;fill:rgb(8.627451%,47.843137%,44.705882%);fill-opacity:1;stroke-width:1;stroke-linecap:butt;stroke-linejoin:miter;stroke:rgb(0%,0%,0%);stroke-opacity:1;stroke-miterlimit:10;\" d=\"M 311.261719 168.894531 C 311.261719 174.417969 306.78125 178.894531 301.261719 178.894531 C 295.738281 178.894531 291.261719 174.417969 291.261719 168.894531 C 291.261719 163.371094 295.738281 158.894531 301.261719 158.894531 C 306.78125 158.894531 311.261719 163.371094 311.261719 168.894531 \"/>\n",
       "<path style=\"fill-rule:nonzero;fill:rgb(90.588235%,94.901961%,94.117647%);fill-opacity:1;stroke-width:1;stroke-linecap:butt;stroke-linejoin:miter;stroke:rgb(0%,0%,0%);stroke-opacity:1;stroke-miterlimit:10;\" d=\"M 408.203125 180 C 408.203125 185.523438 403.722656 190 398.203125 190 C 392.679688 190 388.203125 185.523438 388.203125 180 C 388.203125 174.476562 392.679688 170 398.203125 170 C 403.722656 170 408.203125 174.476562 408.203125 180 \"/>\n",
       "<path style=\"fill-rule:nonzero;fill:rgb(77.254902%,55.686275%,23.921569%);fill-opacity:1;stroke-width:1;stroke-linecap:butt;stroke-linejoin:miter;stroke:rgb(0%,0%,0%);stroke-opacity:1;stroke-miterlimit:10;\" d=\"M 322.179688 122.265625 C 322.179688 127.789062 317.703125 132.265625 312.179688 132.265625 C 306.65625 132.265625 302.179688 127.789062 302.179688 122.265625 C 302.179688 116.742188 306.65625 112.265625 312.179688 112.265625 C 317.703125 112.265625 322.179688 116.742188 322.179688 122.265625 \"/>\n",
       "<path style=\"fill-rule:nonzero;fill:rgb(65.882353%,86.666667%,83.529412%);fill-opacity:1;stroke-width:1;stroke-linecap:butt;stroke-linejoin:miter;stroke:rgb(0%,0%,0%);stroke-opacity:1;stroke-miterlimit:10;\" d=\"M 55.226562 77.207031 C 55.226562 82.730469 50.75 87.207031 45.226562 87.207031 C 39.707031 87.207031 35.226562 82.730469 35.226562 77.207031 C 35.226562 71.683594 39.707031 67.207031 45.226562 67.207031 C 50.75 67.207031 55.226562 71.683594 55.226562 77.207031 \"/>\n",
       "<path style=\"fill-rule:nonzero;fill:rgb(83.529412%,92.941176%,91.764706%);fill-opacity:1;stroke-width:1;stroke-linecap:butt;stroke-linejoin:miter;stroke:rgb(0%,0%,0%);stroke-opacity:1;stroke-miterlimit:10;\" d=\"M 30 44.566406 C 30 50.089844 25.523438 54.566406 20 54.566406 C 14.476562 54.566406 10 50.089844 10 44.566406 C 10 39.042969 14.476562 34.566406 20 34.566406 C 25.523438 34.566406 30 39.042969 30 44.566406 \"/>\n",
       "<path style=\"fill-rule:nonzero;fill:rgb(87.843137%,94.117647%,93.333333%);fill-opacity:1;stroke-width:1;stroke-linecap:butt;stroke-linejoin:miter;stroke:rgb(0%,0%,0%);stroke-opacity:1;stroke-miterlimit:10;\" d=\"M 111.796875 20 C 111.796875 25.523438 107.320312 30 101.796875 30 C 96.277344 30 91.796875 25.523438 91.796875 20 C 91.796875 14.476562 96.277344 10 101.796875 10 C 107.320312 10 111.796875 14.476562 111.796875 20 \"/>\n",
       "<path style=\"fill-rule:nonzero;fill:rgb(91.372549%,94.901961%,94.509804%);fill-opacity:1;stroke-width:1;stroke-linecap:butt;stroke-linejoin:miter;stroke:rgb(0%,0%,0%);stroke-opacity:1;stroke-miterlimit:10;\" d=\"M 208.738281 31.105469 C 208.738281 36.628906 204.261719 41.105469 198.738281 41.105469 C 193.21875 41.105469 188.738281 36.628906 188.738281 31.105469 C 188.738281 25.582031 193.21875 21.105469 198.738281 21.105469 C 204.261719 21.105469 208.738281 25.582031 208.738281 31.105469 \"/>\n",
       "<path style=\"fill-rule:nonzero;fill:rgb(77.254902%,55.686275%,23.921569%);fill-opacity:1;stroke-width:1;stroke-linecap:butt;stroke-linejoin:miter;stroke:rgb(0%,0%,0%);stroke-opacity:1;stroke-miterlimit:10;\" d=\"M 197.820312 77.734375 C 197.820312 83.257812 193.34375 87.734375 187.820312 87.734375 C 182.296875 87.734375 177.820312 83.257812 177.820312 77.734375 C 177.820312 72.210938 182.296875 67.734375 187.820312 67.734375 C 193.34375 67.734375 197.820312 72.210938 197.820312 77.734375 \"/>\n",
       "</g>\n",
       "</svg>\n"
      ],
      "text/plain": [
       "<igraph.drawing.Plot at 0x131735be0>"
      ]
     },
     "execution_count": 12,
     "metadata": {
      "image/svg+xml": {
       "isolated": true
      }
     },
     "output_type": "execute_result"
    }
   ],
   "source": [
    "set_evec_colors(g, v[:, 2])\n",
    "ig.plot(g, layout = layout, bbox=(0, 0, 500, 200))"
   ]
  },
  {
   "cell_type": "code",
   "execution_count": 13,
   "metadata": {},
   "outputs": [
    {
     "data": {
      "image/svg+xml": [
       "<?xml version=\"1.0\" encoding=\"UTF-8\"?>\n",
       "<svg xmlns=\"http://www.w3.org/2000/svg\" xmlns:xlink=\"http://www.w3.org/1999/xlink\" width=\"500pt\" height=\"200pt\" viewBox=\"0 0 500 200\" version=\"1.1\">\n",
       "<g id=\"surface26\">\n",
       "<rect x=\"0\" y=\"0\" width=\"500\" height=\"200\" style=\"fill:rgb(100%,100%,100%);fill-opacity:1;stroke:none;\"/>\n",
       "<path style=\"fill:none;stroke-width:1;stroke-linecap:butt;stroke-linejoin:miter;stroke:rgb(26.666667%,26.666667%,26.666667%);stroke-opacity:1;stroke-miterlimit:10;\" d=\"M 480 155.433594 L 454.773438 122.792969 \"/>\n",
       "<path style=\"fill:none;stroke-width:1;stroke-linecap:butt;stroke-linejoin:miter;stroke:rgb(26.666667%,26.666667%,26.666667%);stroke-opacity:1;stroke-miterlimit:10;\" d=\"M 480 155.433594 L 301.261719 168.894531 \"/>\n",
       "<path style=\"fill:none;stroke-width:1;stroke-linecap:butt;stroke-linejoin:miter;stroke:rgb(26.666667%,26.666667%,26.666667%);stroke-opacity:1;stroke-miterlimit:10;\" d=\"M 480 155.433594 L 398.203125 180 \"/>\n",
       "<path style=\"fill:none;stroke-width:1;stroke-linecap:butt;stroke-linejoin:miter;stroke:rgb(26.666667%,26.666667%,26.666667%);stroke-opacity:1;stroke-miterlimit:10;\" d=\"M 480 155.433594 L 312.179688 122.265625 \"/>\n",
       "<path style=\"fill:none;stroke-width:1;stroke-linecap:butt;stroke-linejoin:miter;stroke:rgb(26.666667%,26.666667%,26.666667%);stroke-opacity:1;stroke-miterlimit:10;\" d=\"M 454.773438 122.792969 L 301.261719 168.894531 \"/>\n",
       "<path style=\"fill:none;stroke-width:1;stroke-linecap:butt;stroke-linejoin:miter;stroke:rgb(26.666667%,26.666667%,26.666667%);stroke-opacity:1;stroke-miterlimit:10;\" d=\"M 454.773438 122.792969 L 398.203125 180 \"/>\n",
       "<path style=\"fill:none;stroke-width:1;stroke-linecap:butt;stroke-linejoin:miter;stroke:rgb(26.666667%,26.666667%,26.666667%);stroke-opacity:1;stroke-miterlimit:10;\" d=\"M 454.773438 122.792969 L 312.179688 122.265625 \"/>\n",
       "<path style=\"fill:none;stroke-width:1;stroke-linecap:butt;stroke-linejoin:miter;stroke:rgb(26.666667%,26.666667%,26.666667%);stroke-opacity:1;stroke-miterlimit:10;\" d=\"M 301.261719 168.894531 L 398.203125 180 \"/>\n",
       "<path style=\"fill:none;stroke-width:1;stroke-linecap:butt;stroke-linejoin:miter;stroke:rgb(26.666667%,26.666667%,26.666667%);stroke-opacity:1;stroke-miterlimit:10;\" d=\"M 301.261719 168.894531 L 312.179688 122.265625 \"/>\n",
       "<path style=\"fill:none;stroke-width:1;stroke-linecap:butt;stroke-linejoin:miter;stroke:rgb(26.666667%,26.666667%,26.666667%);stroke-opacity:1;stroke-miterlimit:10;\" d=\"M 398.203125 180 L 312.179688 122.265625 \"/>\n",
       "<path style=\"fill:none;stroke-width:1;stroke-linecap:butt;stroke-linejoin:miter;stroke:rgb(26.666667%,26.666667%,26.666667%);stroke-opacity:1;stroke-miterlimit:10;\" d=\"M 45.226562 77.207031 L 20 44.566406 \"/>\n",
       "<path style=\"fill:none;stroke-width:1;stroke-linecap:butt;stroke-linejoin:miter;stroke:rgb(26.666667%,26.666667%,26.666667%);stroke-opacity:1;stroke-miterlimit:10;\" d=\"M 45.226562 77.207031 L 101.796875 20 \"/>\n",
       "<path style=\"fill:none;stroke-width:1;stroke-linecap:butt;stroke-linejoin:miter;stroke:rgb(26.666667%,26.666667%,26.666667%);stroke-opacity:1;stroke-miterlimit:10;\" d=\"M 45.226562 77.207031 L 198.738281 31.105469 \"/>\n",
       "<path style=\"fill:none;stroke-width:1;stroke-linecap:butt;stroke-linejoin:miter;stroke:rgb(26.666667%,26.666667%,26.666667%);stroke-opacity:1;stroke-miterlimit:10;\" d=\"M 45.226562 77.207031 L 187.820312 77.734375 \"/>\n",
       "<path style=\"fill:none;stroke-width:1;stroke-linecap:butt;stroke-linejoin:miter;stroke:rgb(26.666667%,26.666667%,26.666667%);stroke-opacity:1;stroke-miterlimit:10;\" d=\"M 20 44.566406 L 101.796875 20 \"/>\n",
       "<path style=\"fill:none;stroke-width:1;stroke-linecap:butt;stroke-linejoin:miter;stroke:rgb(26.666667%,26.666667%,26.666667%);stroke-opacity:1;stroke-miterlimit:10;\" d=\"M 20 44.566406 L 198.738281 31.105469 \"/>\n",
       "<path style=\"fill:none;stroke-width:1;stroke-linecap:butt;stroke-linejoin:miter;stroke:rgb(26.666667%,26.666667%,26.666667%);stroke-opacity:1;stroke-miterlimit:10;\" d=\"M 20 44.566406 L 187.820312 77.734375 \"/>\n",
       "<path style=\"fill:none;stroke-width:1;stroke-linecap:butt;stroke-linejoin:miter;stroke:rgb(26.666667%,26.666667%,26.666667%);stroke-opacity:1;stroke-miterlimit:10;\" d=\"M 101.796875 20 L 198.738281 31.105469 \"/>\n",
       "<path style=\"fill:none;stroke-width:1;stroke-linecap:butt;stroke-linejoin:miter;stroke:rgb(26.666667%,26.666667%,26.666667%);stroke-opacity:1;stroke-miterlimit:10;\" d=\"M 101.796875 20 L 187.820312 77.734375 \"/>\n",
       "<path style=\"fill:none;stroke-width:1;stroke-linecap:butt;stroke-linejoin:miter;stroke:rgb(26.666667%,26.666667%,26.666667%);stroke-opacity:1;stroke-miterlimit:10;\" d=\"M 198.738281 31.105469 L 187.820312 77.734375 \"/>\n",
       "<path style=\"fill:none;stroke-width:1;stroke-linecap:butt;stroke-linejoin:miter;stroke:rgb(26.666667%,26.666667%,26.666667%);stroke-opacity:1;stroke-miterlimit:10;\" d=\"M 312.179688 122.265625 L 187.820312 77.734375 \"/>\n",
       "<path style=\"fill-rule:nonzero;fill:rgb(0%,23.529412%,18.823529%);fill-opacity:1;stroke-width:1;stroke-linecap:butt;stroke-linejoin:miter;stroke:rgb(0%,0%,0%);stroke-opacity:1;stroke-miterlimit:10;\" d=\"M 490 155.433594 C 490 160.957031 485.523438 165.433594 480 165.433594 C 474.476562 165.433594 470 160.957031 470 155.433594 C 470 149.910156 474.476562 145.433594 480 145.433594 C 485.523438 145.433594 490 149.910156 490 155.433594 \"/>\n",
       "<path style=\"fill-rule:nonzero;fill:rgb(92.54902%,84.705882%,64.705882%);fill-opacity:1;stroke-width:1;stroke-linecap:butt;stroke-linejoin:miter;stroke:rgb(0%,0%,0%);stroke-opacity:1;stroke-miterlimit:10;\" d=\"M 464.773438 122.792969 C 464.773438 128.316406 460.292969 132.792969 454.773438 132.792969 C 449.25 132.792969 444.773438 128.316406 444.773438 122.792969 C 444.773438 117.269531 449.25 112.792969 454.773438 112.792969 C 460.292969 112.792969 464.773438 117.269531 464.773438 122.792969 \"/>\n",
       "<path style=\"fill-rule:nonzero;fill:rgb(92.54902%,84.705882%,64.705882%);fill-opacity:1;stroke-width:1;stroke-linecap:butt;stroke-linejoin:miter;stroke:rgb(0%,0%,0%);stroke-opacity:1;stroke-miterlimit:10;\" d=\"M 311.261719 168.894531 C 311.261719 174.417969 306.78125 178.894531 301.261719 178.894531 C 295.738281 178.894531 291.261719 174.417969 291.261719 168.894531 C 291.261719 163.371094 295.738281 158.894531 301.261719 158.894531 C 306.78125 158.894531 311.261719 163.371094 311.261719 168.894531 \"/>\n",
       "<path style=\"fill-rule:nonzero;fill:rgb(92.156863%,83.921569%,63.529412%);fill-opacity:1;stroke-width:1;stroke-linecap:butt;stroke-linejoin:miter;stroke:rgb(0%,0%,0%);stroke-opacity:1;stroke-miterlimit:10;\" d=\"M 408.203125 180 C 408.203125 185.523438 403.722656 190 398.203125 190 C 392.679688 190 388.203125 185.523438 388.203125 180 C 388.203125 174.476562 392.679688 170 398.203125 170 C 403.722656 170 408.203125 174.476562 408.203125 180 \"/>\n",
       "<path style=\"fill-rule:nonzero;fill:rgb(96.470588%,92.941176%,83.529412%);fill-opacity:1;stroke-width:1;stroke-linecap:butt;stroke-linejoin:miter;stroke:rgb(0%,0%,0%);stroke-opacity:1;stroke-miterlimit:10;\" d=\"M 322.179688 122.265625 C 322.179688 127.789062 317.703125 132.265625 312.179688 132.265625 C 306.65625 132.265625 302.179688 127.789062 302.179688 122.265625 C 302.179688 116.742188 306.65625 112.265625 312.179688 112.265625 C 317.703125 112.265625 322.179688 116.742188 322.179688 122.265625 \"/>\n",
       "<path style=\"fill-rule:nonzero;fill:rgb(92.941176%,95.294118%,94.901961%);fill-opacity:1;stroke-width:1;stroke-linecap:butt;stroke-linejoin:miter;stroke:rgb(0%,0%,0%);stroke-opacity:1;stroke-miterlimit:10;\" d=\"M 55.226562 77.207031 C 55.226562 82.730469 50.75 87.207031 45.226562 87.207031 C 39.707031 87.207031 35.226562 82.730469 35.226562 77.207031 C 35.226562 71.683594 39.707031 67.207031 45.226562 67.207031 C 50.75 67.207031 55.226562 71.683594 55.226562 77.207031 \"/>\n",
       "<path style=\"fill-rule:nonzero;fill:rgb(92.941176%,95.294118%,94.901961%);fill-opacity:1;stroke-width:1;stroke-linecap:butt;stroke-linejoin:miter;stroke:rgb(0%,0%,0%);stroke-opacity:1;stroke-miterlimit:10;\" d=\"M 30 44.566406 C 30 50.089844 25.523438 54.566406 20 54.566406 C 14.476562 54.566406 10 50.089844 10 44.566406 C 10 39.042969 14.476562 34.566406 20 34.566406 C 25.523438 34.566406 30 39.042969 30 44.566406 \"/>\n",
       "<path style=\"fill-rule:nonzero;fill:rgb(92.941176%,95.294118%,94.901961%);fill-opacity:1;stroke-width:1;stroke-linecap:butt;stroke-linejoin:miter;stroke:rgb(0%,0%,0%);stroke-opacity:1;stroke-miterlimit:10;\" d=\"M 111.796875 20 C 111.796875 25.523438 107.320312 30 101.796875 30 C 96.277344 30 91.796875 25.523438 91.796875 20 C 91.796875 14.476562 96.277344 10 101.796875 10 C 107.320312 10 111.796875 14.476562 111.796875 20 \"/>\n",
       "<path style=\"fill-rule:nonzero;fill:rgb(92.941176%,95.294118%,94.901961%);fill-opacity:1;stroke-width:1;stroke-linecap:butt;stroke-linejoin:miter;stroke:rgb(0%,0%,0%);stroke-opacity:1;stroke-miterlimit:10;\" d=\"M 208.738281 31.105469 C 208.738281 36.628906 204.261719 41.105469 198.738281 41.105469 C 193.21875 41.105469 188.738281 36.628906 188.738281 31.105469 C 188.738281 25.582031 193.21875 21.105469 198.738281 21.105469 C 204.261719 21.105469 208.738281 25.582031 208.738281 31.105469 \"/>\n",
       "<path style=\"fill-rule:nonzero;fill:rgb(96.470588%,92.941176%,83.529412%);fill-opacity:1;stroke-width:1;stroke-linecap:butt;stroke-linejoin:miter;stroke:rgb(0%,0%,0%);stroke-opacity:1;stroke-miterlimit:10;\" d=\"M 197.820312 77.734375 C 197.820312 83.257812 193.34375 87.734375 187.820312 87.734375 C 182.296875 87.734375 177.820312 83.257812 177.820312 77.734375 C 177.820312 72.210938 182.296875 67.734375 187.820312 67.734375 C 193.34375 67.734375 197.820312 72.210938 197.820312 77.734375 \"/>\n",
       "</g>\n",
       "</svg>\n"
      ],
      "text/plain": [
       "<igraph.drawing.Plot at 0x131743310>"
      ]
     },
     "execution_count": 13,
     "metadata": {
      "image/svg+xml": {
       "isolated": true
      }
     },
     "output_type": "execute_result"
    }
   ],
   "source": [
    "set_evec_colors(g, v[:, 3])\n",
    "ig.plot(g, layout = layout, bbox=(0, 0, 500, 200))"
   ]
  },
  {
   "cell_type": "code",
   "execution_count": 14,
   "metadata": {},
   "outputs": [
    {
     "data": {
      "image/svg+xml": [
       "<?xml version=\"1.0\" encoding=\"UTF-8\"?>\n",
       "<svg xmlns=\"http://www.w3.org/2000/svg\" xmlns:xlink=\"http://www.w3.org/1999/xlink\" width=\"500pt\" height=\"200pt\" viewBox=\"0 0 500 200\" version=\"1.1\">\n",
       "<g id=\"surface32\">\n",
       "<rect x=\"0\" y=\"0\" width=\"500\" height=\"200\" style=\"fill:rgb(100%,100%,100%);fill-opacity:1;stroke:none;\"/>\n",
       "<path style=\"fill:none;stroke-width:1;stroke-linecap:butt;stroke-linejoin:miter;stroke:rgb(26.666667%,26.666667%,26.666667%);stroke-opacity:1;stroke-miterlimit:10;\" d=\"M 480 155.433594 L 454.773438 122.792969 \"/>\n",
       "<path style=\"fill:none;stroke-width:1;stroke-linecap:butt;stroke-linejoin:miter;stroke:rgb(26.666667%,26.666667%,26.666667%);stroke-opacity:1;stroke-miterlimit:10;\" d=\"M 480 155.433594 L 301.261719 168.894531 \"/>\n",
       "<path style=\"fill:none;stroke-width:1;stroke-linecap:butt;stroke-linejoin:miter;stroke:rgb(26.666667%,26.666667%,26.666667%);stroke-opacity:1;stroke-miterlimit:10;\" d=\"M 480 155.433594 L 398.203125 180 \"/>\n",
       "<path style=\"fill:none;stroke-width:1;stroke-linecap:butt;stroke-linejoin:miter;stroke:rgb(26.666667%,26.666667%,26.666667%);stroke-opacity:1;stroke-miterlimit:10;\" d=\"M 480 155.433594 L 312.179688 122.265625 \"/>\n",
       "<path style=\"fill:none;stroke-width:1;stroke-linecap:butt;stroke-linejoin:miter;stroke:rgb(26.666667%,26.666667%,26.666667%);stroke-opacity:1;stroke-miterlimit:10;\" d=\"M 454.773438 122.792969 L 301.261719 168.894531 \"/>\n",
       "<path style=\"fill:none;stroke-width:1;stroke-linecap:butt;stroke-linejoin:miter;stroke:rgb(26.666667%,26.666667%,26.666667%);stroke-opacity:1;stroke-miterlimit:10;\" d=\"M 454.773438 122.792969 L 398.203125 180 \"/>\n",
       "<path style=\"fill:none;stroke-width:1;stroke-linecap:butt;stroke-linejoin:miter;stroke:rgb(26.666667%,26.666667%,26.666667%);stroke-opacity:1;stroke-miterlimit:10;\" d=\"M 454.773438 122.792969 L 312.179688 122.265625 \"/>\n",
       "<path style=\"fill:none;stroke-width:1;stroke-linecap:butt;stroke-linejoin:miter;stroke:rgb(26.666667%,26.666667%,26.666667%);stroke-opacity:1;stroke-miterlimit:10;\" d=\"M 301.261719 168.894531 L 398.203125 180 \"/>\n",
       "<path style=\"fill:none;stroke-width:1;stroke-linecap:butt;stroke-linejoin:miter;stroke:rgb(26.666667%,26.666667%,26.666667%);stroke-opacity:1;stroke-miterlimit:10;\" d=\"M 301.261719 168.894531 L 312.179688 122.265625 \"/>\n",
       "<path style=\"fill:none;stroke-width:1;stroke-linecap:butt;stroke-linejoin:miter;stroke:rgb(26.666667%,26.666667%,26.666667%);stroke-opacity:1;stroke-miterlimit:10;\" d=\"M 398.203125 180 L 312.179688 122.265625 \"/>\n",
       "<path style=\"fill:none;stroke-width:1;stroke-linecap:butt;stroke-linejoin:miter;stroke:rgb(26.666667%,26.666667%,26.666667%);stroke-opacity:1;stroke-miterlimit:10;\" d=\"M 45.226562 77.207031 L 20 44.566406 \"/>\n",
       "<path style=\"fill:none;stroke-width:1;stroke-linecap:butt;stroke-linejoin:miter;stroke:rgb(26.666667%,26.666667%,26.666667%);stroke-opacity:1;stroke-miterlimit:10;\" d=\"M 45.226562 77.207031 L 101.796875 20 \"/>\n",
       "<path style=\"fill:none;stroke-width:1;stroke-linecap:butt;stroke-linejoin:miter;stroke:rgb(26.666667%,26.666667%,26.666667%);stroke-opacity:1;stroke-miterlimit:10;\" d=\"M 45.226562 77.207031 L 198.738281 31.105469 \"/>\n",
       "<path style=\"fill:none;stroke-width:1;stroke-linecap:butt;stroke-linejoin:miter;stroke:rgb(26.666667%,26.666667%,26.666667%);stroke-opacity:1;stroke-miterlimit:10;\" d=\"M 45.226562 77.207031 L 187.820312 77.734375 \"/>\n",
       "<path style=\"fill:none;stroke-width:1;stroke-linecap:butt;stroke-linejoin:miter;stroke:rgb(26.666667%,26.666667%,26.666667%);stroke-opacity:1;stroke-miterlimit:10;\" d=\"M 20 44.566406 L 101.796875 20 \"/>\n",
       "<path style=\"fill:none;stroke-width:1;stroke-linecap:butt;stroke-linejoin:miter;stroke:rgb(26.666667%,26.666667%,26.666667%);stroke-opacity:1;stroke-miterlimit:10;\" d=\"M 20 44.566406 L 198.738281 31.105469 \"/>\n",
       "<path style=\"fill:none;stroke-width:1;stroke-linecap:butt;stroke-linejoin:miter;stroke:rgb(26.666667%,26.666667%,26.666667%);stroke-opacity:1;stroke-miterlimit:10;\" d=\"M 20 44.566406 L 187.820312 77.734375 \"/>\n",
       "<path style=\"fill:none;stroke-width:1;stroke-linecap:butt;stroke-linejoin:miter;stroke:rgb(26.666667%,26.666667%,26.666667%);stroke-opacity:1;stroke-miterlimit:10;\" d=\"M 101.796875 20 L 198.738281 31.105469 \"/>\n",
       "<path style=\"fill:none;stroke-width:1;stroke-linecap:butt;stroke-linejoin:miter;stroke:rgb(26.666667%,26.666667%,26.666667%);stroke-opacity:1;stroke-miterlimit:10;\" d=\"M 101.796875 20 L 187.820312 77.734375 \"/>\n",
       "<path style=\"fill:none;stroke-width:1;stroke-linecap:butt;stroke-linejoin:miter;stroke:rgb(26.666667%,26.666667%,26.666667%);stroke-opacity:1;stroke-miterlimit:10;\" d=\"M 198.738281 31.105469 L 187.820312 77.734375 \"/>\n",
       "<path style=\"fill:none;stroke-width:1;stroke-linecap:butt;stroke-linejoin:miter;stroke:rgb(26.666667%,26.666667%,26.666667%);stroke-opacity:1;stroke-miterlimit:10;\" d=\"M 312.179688 122.265625 L 187.820312 77.734375 \"/>\n",
       "<path style=\"fill-rule:nonzero;fill:rgb(96.078431%,96.078431%,95.686275%);fill-opacity:1;stroke-width:1;stroke-linecap:butt;stroke-linejoin:miter;stroke:rgb(0%,0%,0%);stroke-opacity:1;stroke-miterlimit:10;\" d=\"M 490 155.433594 C 490 160.957031 485.523438 165.433594 480 165.433594 C 474.476562 165.433594 470 160.957031 470 155.433594 C 470 149.910156 474.476562 145.433594 480 145.433594 C 485.523438 145.433594 490 149.910156 490 155.433594 \"/>\n",
       "<path style=\"fill-rule:nonzero;fill:rgb(96.078431%,90.588235%,75.294118%);fill-opacity:1;stroke-width:1;stroke-linecap:butt;stroke-linejoin:miter;stroke:rgb(0%,0%,0%);stroke-opacity:1;stroke-miterlimit:10;\" d=\"M 464.773438 122.792969 C 464.773438 128.316406 460.292969 132.792969 454.773438 132.792969 C 449.25 132.792969 444.773438 128.316406 444.773438 122.792969 C 444.773438 117.269531 449.25 112.792969 454.773438 112.792969 C 460.292969 112.792969 464.773438 117.269531 464.773438 122.792969 \"/>\n",
       "<path style=\"fill-rule:nonzero;fill:rgb(8.627451%,47.843137%,44.705882%);fill-opacity:1;stroke-width:1;stroke-linecap:butt;stroke-linejoin:miter;stroke:rgb(0%,0%,0%);stroke-opacity:1;stroke-miterlimit:10;\" d=\"M 311.261719 168.894531 C 311.261719 174.417969 306.78125 178.894531 301.261719 178.894531 C 295.738281 178.894531 291.261719 174.417969 291.261719 168.894531 C 291.261719 163.371094 295.738281 158.894531 301.261719 158.894531 C 306.78125 158.894531 311.261719 163.371094 311.261719 168.894531 \"/>\n",
       "<path style=\"fill-rule:nonzero;fill:rgb(90.588235%,94.901961%,94.117647%);fill-opacity:1;stroke-width:1;stroke-linecap:butt;stroke-linejoin:miter;stroke:rgb(0%,0%,0%);stroke-opacity:1;stroke-miterlimit:10;\" d=\"M 408.203125 180 C 408.203125 185.523438 403.722656 190 398.203125 190 C 392.679688 190 388.203125 185.523438 388.203125 180 C 388.203125 174.476562 392.679688 170 398.203125 170 C 403.722656 170 408.203125 174.476562 408.203125 180 \"/>\n",
       "<path style=\"fill-rule:nonzero;fill:rgb(77.254902%,55.686275%,23.921569%);fill-opacity:1;stroke-width:1;stroke-linecap:butt;stroke-linejoin:miter;stroke:rgb(0%,0%,0%);stroke-opacity:1;stroke-miterlimit:10;\" d=\"M 322.179688 122.265625 C 322.179688 127.789062 317.703125 132.265625 312.179688 132.265625 C 306.65625 132.265625 302.179688 127.789062 302.179688 122.265625 C 302.179688 116.742188 306.65625 112.265625 312.179688 112.265625 C 317.703125 112.265625 322.179688 116.742188 322.179688 122.265625 \"/>\n",
       "<path style=\"fill-rule:nonzero;fill:rgb(65.882353%,86.666667%,83.529412%);fill-opacity:1;stroke-width:1;stroke-linecap:butt;stroke-linejoin:miter;stroke:rgb(0%,0%,0%);stroke-opacity:1;stroke-miterlimit:10;\" d=\"M 55.226562 77.207031 C 55.226562 82.730469 50.75 87.207031 45.226562 87.207031 C 39.707031 87.207031 35.226562 82.730469 35.226562 77.207031 C 35.226562 71.683594 39.707031 67.207031 45.226562 67.207031 C 50.75 67.207031 55.226562 71.683594 55.226562 77.207031 \"/>\n",
       "<path style=\"fill-rule:nonzero;fill:rgb(83.529412%,92.941176%,91.764706%);fill-opacity:1;stroke-width:1;stroke-linecap:butt;stroke-linejoin:miter;stroke:rgb(0%,0%,0%);stroke-opacity:1;stroke-miterlimit:10;\" d=\"M 30 44.566406 C 30 50.089844 25.523438 54.566406 20 54.566406 C 14.476562 54.566406 10 50.089844 10 44.566406 C 10 39.042969 14.476562 34.566406 20 34.566406 C 25.523438 34.566406 30 39.042969 30 44.566406 \"/>\n",
       "<path style=\"fill-rule:nonzero;fill:rgb(87.843137%,94.117647%,93.333333%);fill-opacity:1;stroke-width:1;stroke-linecap:butt;stroke-linejoin:miter;stroke:rgb(0%,0%,0%);stroke-opacity:1;stroke-miterlimit:10;\" d=\"M 111.796875 20 C 111.796875 25.523438 107.320312 30 101.796875 30 C 96.277344 30 91.796875 25.523438 91.796875 20 C 91.796875 14.476562 96.277344 10 101.796875 10 C 107.320312 10 111.796875 14.476562 111.796875 20 \"/>\n",
       "<path style=\"fill-rule:nonzero;fill:rgb(91.372549%,94.901961%,94.509804%);fill-opacity:1;stroke-width:1;stroke-linecap:butt;stroke-linejoin:miter;stroke:rgb(0%,0%,0%);stroke-opacity:1;stroke-miterlimit:10;\" d=\"M 208.738281 31.105469 C 208.738281 36.628906 204.261719 41.105469 198.738281 41.105469 C 193.21875 41.105469 188.738281 36.628906 188.738281 31.105469 C 188.738281 25.582031 193.21875 21.105469 198.738281 21.105469 C 204.261719 21.105469 208.738281 25.582031 208.738281 31.105469 \"/>\n",
       "<path style=\"fill-rule:nonzero;fill:rgb(77.254902%,55.686275%,23.921569%);fill-opacity:1;stroke-width:1;stroke-linecap:butt;stroke-linejoin:miter;stroke:rgb(0%,0%,0%);stroke-opacity:1;stroke-miterlimit:10;\" d=\"M 197.820312 77.734375 C 197.820312 83.257812 193.34375 87.734375 187.820312 87.734375 C 182.296875 87.734375 177.820312 83.257812 177.820312 77.734375 C 177.820312 72.210938 182.296875 67.734375 187.820312 67.734375 C 193.34375 67.734375 197.820312 72.210938 197.820312 77.734375 \"/>\n",
       "</g>\n",
       "</svg>\n"
      ],
      "text/plain": [
       "<igraph.drawing.Plot at 0x1317351c0>"
      ]
     },
     "execution_count": 14,
     "metadata": {
      "image/svg+xml": {
       "isolated": true
      }
     },
     "output_type": "execute_result"
    }
   ],
   "source": [
    "set_evec_colors(g, v[:, 2])\n",
    "ig.plot(g, layout = layout, bbox=(0, 0, 500, 200))"
   ]
  },
  {
   "cell_type": "code",
   "execution_count": 15,
   "metadata": {},
   "outputs": [
    {
     "data": {
      "image/svg+xml": [
       "<?xml version=\"1.0\" encoding=\"UTF-8\"?>\n",
       "<svg xmlns=\"http://www.w3.org/2000/svg\" xmlns:xlink=\"http://www.w3.org/1999/xlink\" width=\"500pt\" height=\"200pt\" viewBox=\"0 0 500 200\" version=\"1.1\">\n",
       "<g id=\"surface38\">\n",
       "<rect x=\"0\" y=\"0\" width=\"500\" height=\"200\" style=\"fill:rgb(100%,100%,100%);fill-opacity:1;stroke:none;\"/>\n",
       "<path style=\"fill:none;stroke-width:1;stroke-linecap:butt;stroke-linejoin:miter;stroke:rgb(26.666667%,26.666667%,26.666667%);stroke-opacity:1;stroke-miterlimit:10;\" d=\"M 480 155.433594 L 454.773438 122.792969 \"/>\n",
       "<path style=\"fill:none;stroke-width:1;stroke-linecap:butt;stroke-linejoin:miter;stroke:rgb(26.666667%,26.666667%,26.666667%);stroke-opacity:1;stroke-miterlimit:10;\" d=\"M 480 155.433594 L 301.261719 168.894531 \"/>\n",
       "<path style=\"fill:none;stroke-width:1;stroke-linecap:butt;stroke-linejoin:miter;stroke:rgb(26.666667%,26.666667%,26.666667%);stroke-opacity:1;stroke-miterlimit:10;\" d=\"M 480 155.433594 L 398.203125 180 \"/>\n",
       "<path style=\"fill:none;stroke-width:1;stroke-linecap:butt;stroke-linejoin:miter;stroke:rgb(26.666667%,26.666667%,26.666667%);stroke-opacity:1;stroke-miterlimit:10;\" d=\"M 480 155.433594 L 312.179688 122.265625 \"/>\n",
       "<path style=\"fill:none;stroke-width:1;stroke-linecap:butt;stroke-linejoin:miter;stroke:rgb(26.666667%,26.666667%,26.666667%);stroke-opacity:1;stroke-miterlimit:10;\" d=\"M 454.773438 122.792969 L 301.261719 168.894531 \"/>\n",
       "<path style=\"fill:none;stroke-width:1;stroke-linecap:butt;stroke-linejoin:miter;stroke:rgb(26.666667%,26.666667%,26.666667%);stroke-opacity:1;stroke-miterlimit:10;\" d=\"M 454.773438 122.792969 L 398.203125 180 \"/>\n",
       "<path style=\"fill:none;stroke-width:1;stroke-linecap:butt;stroke-linejoin:miter;stroke:rgb(26.666667%,26.666667%,26.666667%);stroke-opacity:1;stroke-miterlimit:10;\" d=\"M 454.773438 122.792969 L 312.179688 122.265625 \"/>\n",
       "<path style=\"fill:none;stroke-width:1;stroke-linecap:butt;stroke-linejoin:miter;stroke:rgb(26.666667%,26.666667%,26.666667%);stroke-opacity:1;stroke-miterlimit:10;\" d=\"M 301.261719 168.894531 L 398.203125 180 \"/>\n",
       "<path style=\"fill:none;stroke-width:1;stroke-linecap:butt;stroke-linejoin:miter;stroke:rgb(26.666667%,26.666667%,26.666667%);stroke-opacity:1;stroke-miterlimit:10;\" d=\"M 301.261719 168.894531 L 312.179688 122.265625 \"/>\n",
       "<path style=\"fill:none;stroke-width:1;stroke-linecap:butt;stroke-linejoin:miter;stroke:rgb(26.666667%,26.666667%,26.666667%);stroke-opacity:1;stroke-miterlimit:10;\" d=\"M 398.203125 180 L 312.179688 122.265625 \"/>\n",
       "<path style=\"fill:none;stroke-width:1;stroke-linecap:butt;stroke-linejoin:miter;stroke:rgb(26.666667%,26.666667%,26.666667%);stroke-opacity:1;stroke-miterlimit:10;\" d=\"M 45.226562 77.207031 L 20 44.566406 \"/>\n",
       "<path style=\"fill:none;stroke-width:1;stroke-linecap:butt;stroke-linejoin:miter;stroke:rgb(26.666667%,26.666667%,26.666667%);stroke-opacity:1;stroke-miterlimit:10;\" d=\"M 45.226562 77.207031 L 101.796875 20 \"/>\n",
       "<path style=\"fill:none;stroke-width:1;stroke-linecap:butt;stroke-linejoin:miter;stroke:rgb(26.666667%,26.666667%,26.666667%);stroke-opacity:1;stroke-miterlimit:10;\" d=\"M 45.226562 77.207031 L 198.738281 31.105469 \"/>\n",
       "<path style=\"fill:none;stroke-width:1;stroke-linecap:butt;stroke-linejoin:miter;stroke:rgb(26.666667%,26.666667%,26.666667%);stroke-opacity:1;stroke-miterlimit:10;\" d=\"M 45.226562 77.207031 L 187.820312 77.734375 \"/>\n",
       "<path style=\"fill:none;stroke-width:1;stroke-linecap:butt;stroke-linejoin:miter;stroke:rgb(26.666667%,26.666667%,26.666667%);stroke-opacity:1;stroke-miterlimit:10;\" d=\"M 20 44.566406 L 101.796875 20 \"/>\n",
       "<path style=\"fill:none;stroke-width:1;stroke-linecap:butt;stroke-linejoin:miter;stroke:rgb(26.666667%,26.666667%,26.666667%);stroke-opacity:1;stroke-miterlimit:10;\" d=\"M 20 44.566406 L 198.738281 31.105469 \"/>\n",
       "<path style=\"fill:none;stroke-width:1;stroke-linecap:butt;stroke-linejoin:miter;stroke:rgb(26.666667%,26.666667%,26.666667%);stroke-opacity:1;stroke-miterlimit:10;\" d=\"M 20 44.566406 L 187.820312 77.734375 \"/>\n",
       "<path style=\"fill:none;stroke-width:1;stroke-linecap:butt;stroke-linejoin:miter;stroke:rgb(26.666667%,26.666667%,26.666667%);stroke-opacity:1;stroke-miterlimit:10;\" d=\"M 101.796875 20 L 198.738281 31.105469 \"/>\n",
       "<path style=\"fill:none;stroke-width:1;stroke-linecap:butt;stroke-linejoin:miter;stroke:rgb(26.666667%,26.666667%,26.666667%);stroke-opacity:1;stroke-miterlimit:10;\" d=\"M 101.796875 20 L 187.820312 77.734375 \"/>\n",
       "<path style=\"fill:none;stroke-width:1;stroke-linecap:butt;stroke-linejoin:miter;stroke:rgb(26.666667%,26.666667%,26.666667%);stroke-opacity:1;stroke-miterlimit:10;\" d=\"M 198.738281 31.105469 L 187.820312 77.734375 \"/>\n",
       "<path style=\"fill:none;stroke-width:1;stroke-linecap:butt;stroke-linejoin:miter;stroke:rgb(26.666667%,26.666667%,26.666667%);stroke-opacity:1;stroke-miterlimit:10;\" d=\"M 312.179688 122.265625 L 187.820312 77.734375 \"/>\n",
       "<path style=\"fill-rule:nonzero;fill:rgb(95.686275%,96.078431%,96.078431%);fill-opacity:1;stroke-width:1;stroke-linecap:butt;stroke-linejoin:miter;stroke:rgb(0%,0%,0%);stroke-opacity:1;stroke-miterlimit:10;\" d=\"M 490 155.433594 C 490 160.957031 485.523438 165.433594 480 165.433594 C 474.476562 165.433594 470 160.957031 470 155.433594 C 470 149.910156 474.476562 145.433594 480 145.433594 C 485.523438 145.433594 490 149.910156 490 155.433594 \"/>\n",
       "<path style=\"fill-rule:nonzero;fill:rgb(96.470588%,92.941176%,83.529412%);fill-opacity:1;stroke-width:1;stroke-linecap:butt;stroke-linejoin:miter;stroke:rgb(0%,0%,0%);stroke-opacity:1;stroke-miterlimit:10;\" d=\"M 464.773438 122.792969 C 464.773438 128.316406 460.292969 132.792969 454.773438 132.792969 C 449.25 132.792969 444.773438 128.316406 444.773438 122.792969 C 444.773438 117.269531 449.25 112.792969 454.773438 112.792969 C 460.292969 112.792969 464.773438 117.269531 464.773438 122.792969 \"/>\n",
       "<path style=\"fill-rule:nonzero;fill:rgb(92.156863%,95.294118%,94.901961%);fill-opacity:1;stroke-width:1;stroke-linecap:butt;stroke-linejoin:miter;stroke:rgb(0%,0%,0%);stroke-opacity:1;stroke-miterlimit:10;\" d=\"M 311.261719 168.894531 C 311.261719 174.417969 306.78125 178.894531 301.261719 178.894531 C 295.738281 178.894531 291.261719 174.417969 291.261719 168.894531 C 291.261719 163.371094 295.738281 158.894531 301.261719 158.894531 C 306.78125 158.894531 311.261719 163.371094 311.261719 168.894531 \"/>\n",
       "<path style=\"fill-rule:nonzero;fill:rgb(96.078431%,93.72549%,86.27451%);fill-opacity:1;stroke-width:1;stroke-linecap:butt;stroke-linejoin:miter;stroke:rgb(0%,0%,0%);stroke-opacity:1;stroke-miterlimit:10;\" d=\"M 408.203125 180 C 408.203125 185.523438 403.722656 190 398.203125 190 C 392.679688 190 388.203125 185.523438 388.203125 180 C 388.203125 174.476562 392.679688 170 398.203125 170 C 403.722656 170 408.203125 174.476562 408.203125 180 \"/>\n",
       "<path style=\"fill-rule:nonzero;fill:rgb(80%,92.156863%,90.588235%);fill-opacity:1;stroke-width:1;stroke-linecap:butt;stroke-linejoin:miter;stroke:rgb(0%,0%,0%);stroke-opacity:1;stroke-miterlimit:10;\" d=\"M 322.179688 122.265625 C 322.179688 127.789062 317.703125 132.265625 312.179688 132.265625 C 306.65625 132.265625 302.179688 127.789062 302.179688 122.265625 C 302.179688 116.742188 306.65625 112.265625 312.179688 112.265625 C 317.703125 112.265625 322.179688 116.742188 322.179688 122.265625 \"/>\n",
       "<path style=\"fill-rule:nonzero;fill:rgb(7.843137%,47.058824%,43.921569%);fill-opacity:1;stroke-width:1;stroke-linecap:butt;stroke-linejoin:miter;stroke:rgb(0%,0%,0%);stroke-opacity:1;stroke-miterlimit:10;\" d=\"M 55.226562 77.207031 C 55.226562 82.730469 50.75 87.207031 45.226562 87.207031 C 39.707031 87.207031 35.226562 82.730469 35.226562 77.207031 C 35.226562 71.683594 39.707031 67.207031 45.226562 67.207031 C 50.75 67.207031 55.226562 71.683594 55.226562 77.207031 \"/>\n",
       "<path style=\"fill-rule:nonzero;fill:rgb(79.607843%,92.156863%,90.196078%);fill-opacity:1;stroke-width:1;stroke-linecap:butt;stroke-linejoin:miter;stroke:rgb(0%,0%,0%);stroke-opacity:1;stroke-miterlimit:10;\" d=\"M 30 44.566406 C 30 50.089844 25.523438 54.566406 20 54.566406 C 14.476562 54.566406 10 50.089844 10 44.566406 C 10 39.042969 14.476562 34.566406 20 34.566406 C 25.523438 34.566406 30 39.042969 30 44.566406 \"/>\n",
       "<path style=\"fill-rule:nonzero;fill:rgb(63.921569%,40.392157%,10.196078%);fill-opacity:1;stroke-width:1;stroke-linecap:butt;stroke-linejoin:miter;stroke:rgb(0%,0%,0%);stroke-opacity:1;stroke-miterlimit:10;\" d=\"M 111.796875 20 C 111.796875 25.523438 107.320312 30 101.796875 30 C 96.277344 30 91.796875 25.523438 91.796875 20 C 91.796875 14.476562 96.277344 10 101.796875 10 C 107.320312 10 111.796875 14.476562 111.796875 20 \"/>\n",
       "<path style=\"fill-rule:nonzero;fill:rgb(88.627451%,78.039216%,52.941176%);fill-opacity:1;stroke-width:1;stroke-linecap:butt;stroke-linejoin:miter;stroke:rgb(0%,0%,0%);stroke-opacity:1;stroke-miterlimit:10;\" d=\"M 208.738281 31.105469 C 208.738281 36.628906 204.261719 41.105469 198.738281 41.105469 C 193.21875 41.105469 188.738281 36.628906 188.738281 31.105469 C 188.738281 25.582031 193.21875 21.105469 198.738281 21.105469 C 204.261719 21.105469 208.738281 25.582031 208.738281 31.105469 \"/>\n",
       "<path style=\"fill-rule:nonzero;fill:rgb(80%,92.156863%,90.588235%);fill-opacity:1;stroke-width:1;stroke-linecap:butt;stroke-linejoin:miter;stroke:rgb(0%,0%,0%);stroke-opacity:1;stroke-miterlimit:10;\" d=\"M 197.820312 77.734375 C 197.820312 83.257812 193.34375 87.734375 187.820312 87.734375 C 182.296875 87.734375 177.820312 83.257812 177.820312 77.734375 C 177.820312 72.210938 182.296875 67.734375 187.820312 67.734375 C 193.34375 67.734375 197.820312 72.210938 197.820312 77.734375 \"/>\n",
       "</g>\n",
       "</svg>\n"
      ],
      "text/plain": [
       "<igraph.drawing.Plot at 0x1317213d0>"
      ]
     },
     "execution_count": 15,
     "metadata": {
      "image/svg+xml": {
       "isolated": true
      }
     },
     "output_type": "execute_result"
    }
   ],
   "source": [
    "set_evec_colors(g, v[:, 4])\n",
    "ig.plot(g, layout = layout, bbox=(0, 0, 500, 200))"
   ]
  },
  {
   "cell_type": "code",
   "execution_count": 16,
   "metadata": {},
   "outputs": [
    {
     "data": {
      "image/svg+xml": [
       "<?xml version=\"1.0\" encoding=\"UTF-8\"?>\n",
       "<svg xmlns=\"http://www.w3.org/2000/svg\" xmlns:xlink=\"http://www.w3.org/1999/xlink\" width=\"500pt\" height=\"200pt\" viewBox=\"0 0 500 200\" version=\"1.1\">\n",
       "<g id=\"surface44\">\n",
       "<rect x=\"0\" y=\"0\" width=\"500\" height=\"200\" style=\"fill:rgb(100%,100%,100%);fill-opacity:1;stroke:none;\"/>\n",
       "<path style=\"fill:none;stroke-width:1;stroke-linecap:butt;stroke-linejoin:miter;stroke:rgb(26.666667%,26.666667%,26.666667%);stroke-opacity:1;stroke-miterlimit:10;\" d=\"M 480 155.433594 L 454.773438 122.792969 \"/>\n",
       "<path style=\"fill:none;stroke-width:1;stroke-linecap:butt;stroke-linejoin:miter;stroke:rgb(26.666667%,26.666667%,26.666667%);stroke-opacity:1;stroke-miterlimit:10;\" d=\"M 480 155.433594 L 301.261719 168.894531 \"/>\n",
       "<path style=\"fill:none;stroke-width:1;stroke-linecap:butt;stroke-linejoin:miter;stroke:rgb(26.666667%,26.666667%,26.666667%);stroke-opacity:1;stroke-miterlimit:10;\" d=\"M 480 155.433594 L 398.203125 180 \"/>\n",
       "<path style=\"fill:none;stroke-width:1;stroke-linecap:butt;stroke-linejoin:miter;stroke:rgb(26.666667%,26.666667%,26.666667%);stroke-opacity:1;stroke-miterlimit:10;\" d=\"M 480 155.433594 L 312.179688 122.265625 \"/>\n",
       "<path style=\"fill:none;stroke-width:1;stroke-linecap:butt;stroke-linejoin:miter;stroke:rgb(26.666667%,26.666667%,26.666667%);stroke-opacity:1;stroke-miterlimit:10;\" d=\"M 454.773438 122.792969 L 301.261719 168.894531 \"/>\n",
       "<path style=\"fill:none;stroke-width:1;stroke-linecap:butt;stroke-linejoin:miter;stroke:rgb(26.666667%,26.666667%,26.666667%);stroke-opacity:1;stroke-miterlimit:10;\" d=\"M 454.773438 122.792969 L 398.203125 180 \"/>\n",
       "<path style=\"fill:none;stroke-width:1;stroke-linecap:butt;stroke-linejoin:miter;stroke:rgb(26.666667%,26.666667%,26.666667%);stroke-opacity:1;stroke-miterlimit:10;\" d=\"M 454.773438 122.792969 L 312.179688 122.265625 \"/>\n",
       "<path style=\"fill:none;stroke-width:1;stroke-linecap:butt;stroke-linejoin:miter;stroke:rgb(26.666667%,26.666667%,26.666667%);stroke-opacity:1;stroke-miterlimit:10;\" d=\"M 301.261719 168.894531 L 398.203125 180 \"/>\n",
       "<path style=\"fill:none;stroke-width:1;stroke-linecap:butt;stroke-linejoin:miter;stroke:rgb(26.666667%,26.666667%,26.666667%);stroke-opacity:1;stroke-miterlimit:10;\" d=\"M 301.261719 168.894531 L 312.179688 122.265625 \"/>\n",
       "<path style=\"fill:none;stroke-width:1;stroke-linecap:butt;stroke-linejoin:miter;stroke:rgb(26.666667%,26.666667%,26.666667%);stroke-opacity:1;stroke-miterlimit:10;\" d=\"M 398.203125 180 L 312.179688 122.265625 \"/>\n",
       "<path style=\"fill:none;stroke-width:1;stroke-linecap:butt;stroke-linejoin:miter;stroke:rgb(26.666667%,26.666667%,26.666667%);stroke-opacity:1;stroke-miterlimit:10;\" d=\"M 45.226562 77.207031 L 20 44.566406 \"/>\n",
       "<path style=\"fill:none;stroke-width:1;stroke-linecap:butt;stroke-linejoin:miter;stroke:rgb(26.666667%,26.666667%,26.666667%);stroke-opacity:1;stroke-miterlimit:10;\" d=\"M 45.226562 77.207031 L 101.796875 20 \"/>\n",
       "<path style=\"fill:none;stroke-width:1;stroke-linecap:butt;stroke-linejoin:miter;stroke:rgb(26.666667%,26.666667%,26.666667%);stroke-opacity:1;stroke-miterlimit:10;\" d=\"M 45.226562 77.207031 L 198.738281 31.105469 \"/>\n",
       "<path style=\"fill:none;stroke-width:1;stroke-linecap:butt;stroke-linejoin:miter;stroke:rgb(26.666667%,26.666667%,26.666667%);stroke-opacity:1;stroke-miterlimit:10;\" d=\"M 45.226562 77.207031 L 187.820312 77.734375 \"/>\n",
       "<path style=\"fill:none;stroke-width:1;stroke-linecap:butt;stroke-linejoin:miter;stroke:rgb(26.666667%,26.666667%,26.666667%);stroke-opacity:1;stroke-miterlimit:10;\" d=\"M 20 44.566406 L 101.796875 20 \"/>\n",
       "<path style=\"fill:none;stroke-width:1;stroke-linecap:butt;stroke-linejoin:miter;stroke:rgb(26.666667%,26.666667%,26.666667%);stroke-opacity:1;stroke-miterlimit:10;\" d=\"M 20 44.566406 L 198.738281 31.105469 \"/>\n",
       "<path style=\"fill:none;stroke-width:1;stroke-linecap:butt;stroke-linejoin:miter;stroke:rgb(26.666667%,26.666667%,26.666667%);stroke-opacity:1;stroke-miterlimit:10;\" d=\"M 20 44.566406 L 187.820312 77.734375 \"/>\n",
       "<path style=\"fill:none;stroke-width:1;stroke-linecap:butt;stroke-linejoin:miter;stroke:rgb(26.666667%,26.666667%,26.666667%);stroke-opacity:1;stroke-miterlimit:10;\" d=\"M 101.796875 20 L 198.738281 31.105469 \"/>\n",
       "<path style=\"fill:none;stroke-width:1;stroke-linecap:butt;stroke-linejoin:miter;stroke:rgb(26.666667%,26.666667%,26.666667%);stroke-opacity:1;stroke-miterlimit:10;\" d=\"M 101.796875 20 L 187.820312 77.734375 \"/>\n",
       "<path style=\"fill:none;stroke-width:1;stroke-linecap:butt;stroke-linejoin:miter;stroke:rgb(26.666667%,26.666667%,26.666667%);stroke-opacity:1;stroke-miterlimit:10;\" d=\"M 198.738281 31.105469 L 187.820312 77.734375 \"/>\n",
       "<path style=\"fill:none;stroke-width:1;stroke-linecap:butt;stroke-linejoin:miter;stroke:rgb(26.666667%,26.666667%,26.666667%);stroke-opacity:1;stroke-miterlimit:10;\" d=\"M 312.179688 122.265625 L 187.820312 77.734375 \"/>\n",
       "<path style=\"fill-rule:nonzero;fill:rgb(95.686275%,96.078431%,96.078431%);fill-opacity:1;stroke-width:1;stroke-linecap:butt;stroke-linejoin:miter;stroke:rgb(0%,0%,0%);stroke-opacity:1;stroke-miterlimit:10;\" d=\"M 490 155.433594 C 490 160.957031 485.523438 165.433594 480 165.433594 C 474.476562 165.433594 470 160.957031 470 155.433594 C 470 149.910156 474.476562 145.433594 480 145.433594 C 485.523438 145.433594 490 149.910156 490 155.433594 \"/>\n",
       "<path style=\"fill-rule:nonzero;fill:rgb(96.470588%,92.54902%,82.745098%);fill-opacity:1;stroke-width:1;stroke-linecap:butt;stroke-linejoin:miter;stroke:rgb(0%,0%,0%);stroke-opacity:1;stroke-miterlimit:10;\" d=\"M 464.773438 122.792969 C 464.773438 128.316406 460.292969 132.792969 454.773438 132.792969 C 449.25 132.792969 444.773438 128.316406 444.773438 122.792969 C 444.773438 117.269531 449.25 112.792969 454.773438 112.792969 C 460.292969 112.792969 464.773438 117.269531 464.773438 122.792969 \"/>\n",
       "<path style=\"fill-rule:nonzero;fill:rgb(90.196078%,94.509804%,94.117647%);fill-opacity:1;stroke-width:1;stroke-linecap:butt;stroke-linejoin:miter;stroke:rgb(0%,0%,0%);stroke-opacity:1;stroke-miterlimit:10;\" d=\"M 311.261719 168.894531 C 311.261719 174.417969 306.78125 178.894531 301.261719 178.894531 C 295.738281 178.894531 291.261719 174.417969 291.261719 168.894531 C 291.261719 163.371094 295.738281 158.894531 301.261719 158.894531 C 306.78125 158.894531 311.261719 163.371094 311.261719 168.894531 \"/>\n",
       "<path style=\"fill-rule:nonzero;fill:rgb(90.588235%,94.901961%,94.117647%);fill-opacity:1;stroke-width:1;stroke-linecap:butt;stroke-linejoin:miter;stroke:rgb(0%,0%,0%);stroke-opacity:1;stroke-miterlimit:10;\" d=\"M 408.203125 180 C 408.203125 185.523438 403.722656 190 398.203125 190 C 392.679688 190 388.203125 185.523438 388.203125 180 C 388.203125 174.476562 392.679688 170 398.203125 170 C 403.722656 170 408.203125 174.476562 408.203125 180 \"/>\n",
       "<path style=\"fill-rule:nonzero;fill:rgb(94.901961%,95.686275%,95.686275%);fill-opacity:1;stroke-width:1;stroke-linecap:butt;stroke-linejoin:miter;stroke:rgb(0%,0%,0%);stroke-opacity:1;stroke-miterlimit:10;\" d=\"M 322.179688 122.265625 C 322.179688 127.789062 317.703125 132.265625 312.179688 132.265625 C 306.65625 132.265625 302.179688 127.789062 302.179688 122.265625 C 302.179688 116.742188 306.65625 112.265625 312.179688 112.265625 C 317.703125 112.265625 322.179688 116.742188 322.179688 122.265625 \"/>\n",
       "<path style=\"fill-rule:nonzero;fill:rgb(96.470588%,93.333333%,85.882353%);fill-opacity:1;stroke-width:1;stroke-linecap:butt;stroke-linejoin:miter;stroke:rgb(0%,0%,0%);stroke-opacity:1;stroke-miterlimit:10;\" d=\"M 55.226562 77.207031 C 55.226562 82.730469 50.75 87.207031 45.226562 87.207031 C 39.707031 87.207031 35.226562 82.730469 35.226562 77.207031 C 35.226562 71.683594 39.707031 67.207031 45.226562 67.207031 C 50.75 67.207031 55.226562 71.683594 55.226562 77.207031 \"/>\n",
       "<path style=\"fill-rule:nonzero;fill:rgb(96.470588%,90.980392%,76.470588%);fill-opacity:1;stroke-width:1;stroke-linecap:butt;stroke-linejoin:miter;stroke:rgb(0%,0%,0%);stroke-opacity:1;stroke-miterlimit:10;\" d=\"M 30 44.566406 C 30 50.089844 25.523438 54.566406 20 54.566406 C 14.476562 54.566406 10 50.089844 10 44.566406 C 10 39.042969 14.476562 34.566406 20 34.566406 C 25.523438 34.566406 30 39.042969 30 44.566406 \"/>\n",
       "<path style=\"fill-rule:nonzero;fill:rgb(73.333333%,49.019608%,16.470588%);fill-opacity:1;stroke-width:1;stroke-linecap:butt;stroke-linejoin:miter;stroke:rgb(0%,0%,0%);stroke-opacity:1;stroke-miterlimit:10;\" d=\"M 111.796875 20 C 111.796875 25.523438 107.320312 30 101.796875 30 C 96.277344 30 91.796875 25.523438 91.796875 20 C 91.796875 14.476562 96.277344 10 101.796875 10 C 107.320312 10 111.796875 14.476562 111.796875 20 \"/>\n",
       "<path style=\"fill-rule:nonzero;fill:rgb(0%,30.588235%,26.666667%);fill-opacity:1;stroke-width:1;stroke-linecap:butt;stroke-linejoin:miter;stroke:rgb(0%,0%,0%);stroke-opacity:1;stroke-miterlimit:10;\" d=\"M 208.738281 31.105469 C 208.738281 36.628906 204.261719 41.105469 198.738281 41.105469 C 193.21875 41.105469 188.738281 36.628906 188.738281 31.105469 C 188.738281 25.582031 193.21875 21.105469 198.738281 21.105469 C 204.261719 21.105469 208.738281 25.582031 208.738281 31.105469 \"/>\n",
       "<path style=\"fill-rule:nonzero;fill:rgb(94.901961%,95.686275%,95.686275%);fill-opacity:1;stroke-width:1;stroke-linecap:butt;stroke-linejoin:miter;stroke:rgb(0%,0%,0%);stroke-opacity:1;stroke-miterlimit:10;\" d=\"M 197.820312 77.734375 C 197.820312 83.257812 193.34375 87.734375 187.820312 87.734375 C 182.296875 87.734375 177.820312 83.257812 177.820312 77.734375 C 177.820312 72.210938 182.296875 67.734375 187.820312 67.734375 C 193.34375 67.734375 197.820312 72.210938 197.820312 77.734375 \"/>\n",
       "</g>\n",
       "</svg>\n"
      ],
      "text/plain": [
       "<igraph.drawing.Plot at 0x13172f4c0>"
      ]
     },
     "execution_count": 16,
     "metadata": {
      "image/svg+xml": {
       "isolated": true
      }
     },
     "output_type": "execute_result"
    }
   ],
   "source": [
    "set_evec_colors(g, v[:, 5])\n",
    "ig.plot(g, layout = layout, bbox=(0, 0, 500, 200))"
   ]
  },
  {
   "cell_type": "code",
   "execution_count": 17,
   "metadata": {},
   "outputs": [
    {
     "data": {
      "image/svg+xml": [
       "<?xml version=\"1.0\" encoding=\"UTF-8\"?>\n",
       "<svg xmlns=\"http://www.w3.org/2000/svg\" xmlns:xlink=\"http://www.w3.org/1999/xlink\" width=\"500pt\" height=\"200pt\" viewBox=\"0 0 500 200\" version=\"1.1\">\n",
       "<g id=\"surface50\">\n",
       "<rect x=\"0\" y=\"0\" width=\"500\" height=\"200\" style=\"fill:rgb(100%,100%,100%);fill-opacity:1;stroke:none;\"/>\n",
       "<path style=\"fill:none;stroke-width:1;stroke-linecap:butt;stroke-linejoin:miter;stroke:rgb(26.666667%,26.666667%,26.666667%);stroke-opacity:1;stroke-miterlimit:10;\" d=\"M 480 155.433594 L 454.773438 122.792969 \"/>\n",
       "<path style=\"fill:none;stroke-width:1;stroke-linecap:butt;stroke-linejoin:miter;stroke:rgb(26.666667%,26.666667%,26.666667%);stroke-opacity:1;stroke-miterlimit:10;\" d=\"M 480 155.433594 L 301.261719 168.894531 \"/>\n",
       "<path style=\"fill:none;stroke-width:1;stroke-linecap:butt;stroke-linejoin:miter;stroke:rgb(26.666667%,26.666667%,26.666667%);stroke-opacity:1;stroke-miterlimit:10;\" d=\"M 480 155.433594 L 398.203125 180 \"/>\n",
       "<path style=\"fill:none;stroke-width:1;stroke-linecap:butt;stroke-linejoin:miter;stroke:rgb(26.666667%,26.666667%,26.666667%);stroke-opacity:1;stroke-miterlimit:10;\" d=\"M 480 155.433594 L 312.179688 122.265625 \"/>\n",
       "<path style=\"fill:none;stroke-width:1;stroke-linecap:butt;stroke-linejoin:miter;stroke:rgb(26.666667%,26.666667%,26.666667%);stroke-opacity:1;stroke-miterlimit:10;\" d=\"M 454.773438 122.792969 L 301.261719 168.894531 \"/>\n",
       "<path style=\"fill:none;stroke-width:1;stroke-linecap:butt;stroke-linejoin:miter;stroke:rgb(26.666667%,26.666667%,26.666667%);stroke-opacity:1;stroke-miterlimit:10;\" d=\"M 454.773438 122.792969 L 398.203125 180 \"/>\n",
       "<path style=\"fill:none;stroke-width:1;stroke-linecap:butt;stroke-linejoin:miter;stroke:rgb(26.666667%,26.666667%,26.666667%);stroke-opacity:1;stroke-miterlimit:10;\" d=\"M 454.773438 122.792969 L 312.179688 122.265625 \"/>\n",
       "<path style=\"fill:none;stroke-width:1;stroke-linecap:butt;stroke-linejoin:miter;stroke:rgb(26.666667%,26.666667%,26.666667%);stroke-opacity:1;stroke-miterlimit:10;\" d=\"M 301.261719 168.894531 L 398.203125 180 \"/>\n",
       "<path style=\"fill:none;stroke-width:1;stroke-linecap:butt;stroke-linejoin:miter;stroke:rgb(26.666667%,26.666667%,26.666667%);stroke-opacity:1;stroke-miterlimit:10;\" d=\"M 301.261719 168.894531 L 312.179688 122.265625 \"/>\n",
       "<path style=\"fill:none;stroke-width:1;stroke-linecap:butt;stroke-linejoin:miter;stroke:rgb(26.666667%,26.666667%,26.666667%);stroke-opacity:1;stroke-miterlimit:10;\" d=\"M 398.203125 180 L 312.179688 122.265625 \"/>\n",
       "<path style=\"fill:none;stroke-width:1;stroke-linecap:butt;stroke-linejoin:miter;stroke:rgb(26.666667%,26.666667%,26.666667%);stroke-opacity:1;stroke-miterlimit:10;\" d=\"M 45.226562 77.207031 L 20 44.566406 \"/>\n",
       "<path style=\"fill:none;stroke-width:1;stroke-linecap:butt;stroke-linejoin:miter;stroke:rgb(26.666667%,26.666667%,26.666667%);stroke-opacity:1;stroke-miterlimit:10;\" d=\"M 45.226562 77.207031 L 101.796875 20 \"/>\n",
       "<path style=\"fill:none;stroke-width:1;stroke-linecap:butt;stroke-linejoin:miter;stroke:rgb(26.666667%,26.666667%,26.666667%);stroke-opacity:1;stroke-miterlimit:10;\" d=\"M 45.226562 77.207031 L 198.738281 31.105469 \"/>\n",
       "<path style=\"fill:none;stroke-width:1;stroke-linecap:butt;stroke-linejoin:miter;stroke:rgb(26.666667%,26.666667%,26.666667%);stroke-opacity:1;stroke-miterlimit:10;\" d=\"M 45.226562 77.207031 L 187.820312 77.734375 \"/>\n",
       "<path style=\"fill:none;stroke-width:1;stroke-linecap:butt;stroke-linejoin:miter;stroke:rgb(26.666667%,26.666667%,26.666667%);stroke-opacity:1;stroke-miterlimit:10;\" d=\"M 20 44.566406 L 101.796875 20 \"/>\n",
       "<path style=\"fill:none;stroke-width:1;stroke-linecap:butt;stroke-linejoin:miter;stroke:rgb(26.666667%,26.666667%,26.666667%);stroke-opacity:1;stroke-miterlimit:10;\" d=\"M 20 44.566406 L 198.738281 31.105469 \"/>\n",
       "<path style=\"fill:none;stroke-width:1;stroke-linecap:butt;stroke-linejoin:miter;stroke:rgb(26.666667%,26.666667%,26.666667%);stroke-opacity:1;stroke-miterlimit:10;\" d=\"M 20 44.566406 L 187.820312 77.734375 \"/>\n",
       "<path style=\"fill:none;stroke-width:1;stroke-linecap:butt;stroke-linejoin:miter;stroke:rgb(26.666667%,26.666667%,26.666667%);stroke-opacity:1;stroke-miterlimit:10;\" d=\"M 101.796875 20 L 198.738281 31.105469 \"/>\n",
       "<path style=\"fill:none;stroke-width:1;stroke-linecap:butt;stroke-linejoin:miter;stroke:rgb(26.666667%,26.666667%,26.666667%);stroke-opacity:1;stroke-miterlimit:10;\" d=\"M 101.796875 20 L 187.820312 77.734375 \"/>\n",
       "<path style=\"fill:none;stroke-width:1;stroke-linecap:butt;stroke-linejoin:miter;stroke:rgb(26.666667%,26.666667%,26.666667%);stroke-opacity:1;stroke-miterlimit:10;\" d=\"M 198.738281 31.105469 L 187.820312 77.734375 \"/>\n",
       "<path style=\"fill:none;stroke-width:1;stroke-linecap:butt;stroke-linejoin:miter;stroke:rgb(26.666667%,26.666667%,26.666667%);stroke-opacity:1;stroke-miterlimit:10;\" d=\"M 312.179688 122.265625 L 187.820312 77.734375 \"/>\n",
       "<path style=\"fill-rule:nonzero;fill:rgb(96.470588%,92.54902%,82.745098%);fill-opacity:1;stroke-width:1;stroke-linecap:butt;stroke-linejoin:miter;stroke:rgb(0%,0%,0%);stroke-opacity:1;stroke-miterlimit:10;\" d=\"M 490 155.433594 C 490 160.957031 485.523438 165.433594 480 165.433594 C 474.476562 165.433594 470 160.957031 470 155.433594 C 470 149.910156 474.476562 145.433594 480 145.433594 C 485.523438 145.433594 490 149.910156 490 155.433594 \"/>\n",
       "<path style=\"fill-rule:nonzero;fill:rgb(96.470588%,92.54902%,82.745098%);fill-opacity:1;stroke-width:1;stroke-linecap:butt;stroke-linejoin:miter;stroke:rgb(0%,0%,0%);stroke-opacity:1;stroke-miterlimit:10;\" d=\"M 464.773438 122.792969 C 464.773438 128.316406 460.292969 132.792969 454.773438 132.792969 C 449.25 132.792969 444.773438 128.316406 444.773438 122.792969 C 444.773438 117.269531 449.25 112.792969 454.773438 112.792969 C 460.292969 112.792969 464.773438 117.269531 464.773438 122.792969 \"/>\n",
       "<path style=\"fill-rule:nonzero;fill:rgb(96.470588%,92.54902%,82.745098%);fill-opacity:1;stroke-width:1;stroke-linecap:butt;stroke-linejoin:miter;stroke:rgb(0%,0%,0%);stroke-opacity:1;stroke-miterlimit:10;\" d=\"M 311.261719 168.894531 C 311.261719 174.417969 306.78125 178.894531 301.261719 178.894531 C 295.738281 178.894531 291.261719 174.417969 291.261719 168.894531 C 291.261719 163.371094 295.738281 158.894531 301.261719 158.894531 C 306.78125 158.894531 311.261719 163.371094 311.261719 168.894531 \"/>\n",
       "<path style=\"fill-rule:nonzero;fill:rgb(96.470588%,92.54902%,82.745098%);fill-opacity:1;stroke-width:1;stroke-linecap:butt;stroke-linejoin:miter;stroke:rgb(0%,0%,0%);stroke-opacity:1;stroke-miterlimit:10;\" d=\"M 408.203125 180 C 408.203125 185.523438 403.722656 190 398.203125 190 C 392.679688 190 388.203125 185.523438 388.203125 180 C 388.203125 174.476562 392.679688 170 398.203125 170 C 403.722656 170 408.203125 174.476562 408.203125 180 \"/>\n",
       "<path style=\"fill-rule:nonzero;fill:rgb(3.921569%,43.529412%,40.392157%);fill-opacity:1;stroke-width:1;stroke-linecap:butt;stroke-linejoin:miter;stroke:rgb(0%,0%,0%);stroke-opacity:1;stroke-miterlimit:10;\" d=\"M 322.179688 122.265625 C 322.179688 127.789062 317.703125 132.265625 312.179688 132.265625 C 306.65625 132.265625 302.179688 127.789062 302.179688 122.265625 C 302.179688 116.742188 306.65625 112.265625 312.179688 112.265625 C 317.703125 112.265625 322.179688 116.742188 322.179688 122.265625 \"/>\n",
       "<path style=\"fill-rule:nonzero;fill:rgb(83.529412%,92.941176%,91.764706%);fill-opacity:1;stroke-width:1;stroke-linecap:butt;stroke-linejoin:miter;stroke:rgb(0%,0%,0%);stroke-opacity:1;stroke-miterlimit:10;\" d=\"M 55.226562 77.207031 C 55.226562 82.730469 50.75 87.207031 45.226562 87.207031 C 39.707031 87.207031 35.226562 82.730469 35.226562 77.207031 C 35.226562 71.683594 39.707031 67.207031 45.226562 67.207031 C 50.75 67.207031 55.226562 71.683594 55.226562 77.207031 \"/>\n",
       "<path style=\"fill-rule:nonzero;fill:rgb(83.529412%,92.941176%,91.764706%);fill-opacity:1;stroke-width:1;stroke-linecap:butt;stroke-linejoin:miter;stroke:rgb(0%,0%,0%);stroke-opacity:1;stroke-miterlimit:10;\" d=\"M 30 44.566406 C 30 50.089844 25.523438 54.566406 20 54.566406 C 14.476562 54.566406 10 50.089844 10 44.566406 C 10 39.042969 14.476562 34.566406 20 34.566406 C 25.523438 34.566406 30 39.042969 30 44.566406 \"/>\n",
       "<path style=\"fill-rule:nonzero;fill:rgb(83.529412%,92.941176%,91.764706%);fill-opacity:1;stroke-width:1;stroke-linecap:butt;stroke-linejoin:miter;stroke:rgb(0%,0%,0%);stroke-opacity:1;stroke-miterlimit:10;\" d=\"M 111.796875 20 C 111.796875 25.523438 107.320312 30 101.796875 30 C 96.277344 30 91.796875 25.523438 91.796875 20 C 91.796875 14.476562 96.277344 10 101.796875 10 C 107.320312 10 111.796875 14.476562 111.796875 20 \"/>\n",
       "<path style=\"fill-rule:nonzero;fill:rgb(83.529412%,92.941176%,91.764706%);fill-opacity:1;stroke-width:1;stroke-linecap:butt;stroke-linejoin:miter;stroke:rgb(0%,0%,0%);stroke-opacity:1;stroke-miterlimit:10;\" d=\"M 208.738281 31.105469 C 208.738281 36.628906 204.261719 41.105469 198.738281 41.105469 C 193.21875 41.105469 188.738281 36.628906 188.738281 31.105469 C 188.738281 25.582031 193.21875 21.105469 198.738281 21.105469 C 204.261719 21.105469 208.738281 25.582031 208.738281 31.105469 \"/>\n",
       "<path style=\"fill-rule:nonzero;fill:rgb(58.431373%,34.901961%,6.27451%);fill-opacity:1;stroke-width:1;stroke-linecap:butt;stroke-linejoin:miter;stroke:rgb(0%,0%,0%);stroke-opacity:1;stroke-miterlimit:10;\" d=\"M 197.820312 77.734375 C 197.820312 83.257812 193.34375 87.734375 187.820312 87.734375 C 182.296875 87.734375 177.820312 83.257812 177.820312 77.734375 C 177.820312 72.210938 182.296875 67.734375 187.820312 67.734375 C 193.34375 67.734375 197.820312 72.210938 197.820312 77.734375 \"/>\n",
       "</g>\n",
       "</svg>\n"
      ],
      "text/plain": [
       "<igraph.drawing.Plot at 0x13173cb50>"
      ]
     },
     "execution_count": 17,
     "metadata": {
      "image/svg+xml": {
       "isolated": true
      }
     },
     "output_type": "execute_result"
    }
   ],
   "source": [
    "set_evec_colors(g, v[:, 9])\n",
    "ig.plot(g, layout = layout, bbox=(0, 0, 500, 200))"
   ]
  },
  {
   "cell_type": "code",
   "execution_count": null,
   "metadata": {},
   "outputs": [],
   "source": []
  }
 ],
 "metadata": {
  "kernelspec": {
   "display_name": "Python 3",
   "language": "python",
   "name": "python3"
  },
  "language_info": {
   "codemirror_mode": {
    "name": "ipython",
    "version": 3
   },
   "file_extension": ".py",
   "mimetype": "text/x-python",
   "name": "python",
   "nbconvert_exporter": "python",
   "pygments_lexer": "ipython3",
   "version": "3.8.2"
  }
 },
 "nbformat": 4,
 "nbformat_minor": 4
}
