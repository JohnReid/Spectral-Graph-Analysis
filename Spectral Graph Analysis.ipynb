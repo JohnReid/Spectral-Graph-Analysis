{
 "cells": [
  {
   "cell_type": "code",
   "execution_count": 1,
   "metadata": {},
   "outputs": [],
   "source": [
    "import itertools\n",
    "import igraph as ig\n",
    "import numpy as np\n",
    "import numpy.linalg as la\n",
    "import matplotlib as mpl\n",
    "import matplotlib.pyplot as plt\n",
    "from matplotlib import colors\n",
    "from matplotlib import cm\n",
    "import seaborn as sns\n",
    "%matplotlib inline"
   ]
  },
  {
   "cell_type": "code",
   "execution_count": 2,
   "metadata": {},
   "outputs": [],
   "source": [
    "def add_clique(g, clique=0, clique_size=5):\n",
    "    vertex_names = [f'clique-{clique}-vertex-{v}' for v in range(clique_size)]\n",
    "    for name in vertex_names:\n",
    "        g.add_vertex(name)\n",
    "    for u, v in itertools.combinations(vertex_names, r=2):\n",
    "        g.add_edge(u, v)\n",
    "    return vertex_names\n",
    "\n",
    "\n",
    "def two_clique_graph():\n",
    "    g = ig.Graph()\n",
    "    clique0vertices = add_clique(g, 0, 5)\n",
    "    clique1vertices = add_clique(g, 1, 5)\n",
    "    g.add_edge(np.random.choice(clique0vertices), np.random.choice(clique1vertices))\n",
    "    return g\n",
    "    \n",
    "    \n",
    "def five_clique_graph():\n",
    "    g = ig.Graph()\n",
    "    clique_vertices = [add_clique(g, clique, 5) for clique in range(5)]\n",
    "    for clique in range(4):\n",
    "        g.add_edge(np.random.choice(clique_vertices[clique]), np.random.choice(clique_vertices[clique + 1]))\n",
    "    return g"
   ]
  },
  {
   "cell_type": "code",
   "execution_count": 3,
   "metadata": {},
   "outputs": [],
   "source": [
    "g = two_clique_graph()\n",
    "# g = five_clique_graph()"
   ]
  },
  {
   "cell_type": "code",
   "execution_count": 4,
   "metadata": {},
   "outputs": [
    {
     "data": {
      "image/svg+xml": [
       "<?xml version=\"1.0\" encoding=\"UTF-8\"?>\n",
       "<svg xmlns=\"http://www.w3.org/2000/svg\" xmlns:xlink=\"http://www.w3.org/1999/xlink\" width=\"600pt\" height=\"600pt\" viewBox=\"0 0 600 600\" version=\"1.1\">\n",
       "<g id=\"surface2\">\n",
       "<rect x=\"0\" y=\"0\" width=\"600\" height=\"600\" style=\"fill:rgb(100%,100%,100%);fill-opacity:1;stroke:none;\"/>\n",
       "<path style=\"fill:none;stroke-width:1;stroke-linecap:butt;stroke-linejoin:miter;stroke:rgb(26.666667%,26.666667%,26.666667%);stroke-opacity:1;stroke-miterlimit:10;\" d=\"M 580 465.644531 L 513.003906 561.277344 \"/>\n",
       "<path style=\"fill:none;stroke-width:1;stroke-linecap:butt;stroke-linejoin:miter;stroke:rgb(26.666667%,26.666667%,26.666667%);stroke-opacity:1;stroke-miterlimit:10;\" d=\"M 580 465.644531 L 332.820312 388.988281 \"/>\n",
       "<path style=\"fill:none;stroke-width:1;stroke-linecap:butt;stroke-linejoin:miter;stroke:rgb(26.666667%,26.666667%,26.666667%);stroke-opacity:1;stroke-miterlimit:10;\" d=\"M 580 465.644531 L 286.621094 580 \"/>\n",
       "<path style=\"fill:none;stroke-width:1;stroke-linecap:butt;stroke-linejoin:miter;stroke:rgb(26.666667%,26.666667%,26.666667%);stroke-opacity:1;stroke-miterlimit:10;\" d=\"M 580 465.644531 L 155.140625 500.785156 \"/>\n",
       "<path style=\"fill:none;stroke-width:1;stroke-linecap:butt;stroke-linejoin:miter;stroke:rgb(26.666667%,26.666667%,26.666667%);stroke-opacity:1;stroke-miterlimit:10;\" d=\"M 513.003906 561.277344 L 332.820312 388.988281 \"/>\n",
       "<path style=\"fill:none;stroke-width:1;stroke-linecap:butt;stroke-linejoin:miter;stroke:rgb(26.666667%,26.666667%,26.666667%);stroke-opacity:1;stroke-miterlimit:10;\" d=\"M 513.003906 561.277344 L 286.621094 580 \"/>\n",
       "<path style=\"fill:none;stroke-width:1;stroke-linecap:butt;stroke-linejoin:miter;stroke:rgb(26.666667%,26.666667%,26.666667%);stroke-opacity:1;stroke-miterlimit:10;\" d=\"M 513.003906 561.277344 L 155.140625 500.785156 \"/>\n",
       "<path style=\"fill:none;stroke-width:1;stroke-linecap:butt;stroke-linejoin:miter;stroke:rgb(26.666667%,26.666667%,26.666667%);stroke-opacity:1;stroke-miterlimit:10;\" d=\"M 332.820312 388.988281 L 286.621094 580 \"/>\n",
       "<path style=\"fill:none;stroke-width:1;stroke-linecap:butt;stroke-linejoin:miter;stroke:rgb(26.666667%,26.666667%,26.666667%);stroke-opacity:1;stroke-miterlimit:10;\" d=\"M 332.820312 388.988281 L 155.140625 500.785156 \"/>\n",
       "<path style=\"fill:none;stroke-width:1;stroke-linecap:butt;stroke-linejoin:miter;stroke:rgb(26.666667%,26.666667%,26.666667%);stroke-opacity:1;stroke-miterlimit:10;\" d=\"M 286.621094 580 L 155.140625 500.785156 \"/>\n",
       "<path style=\"fill:none;stroke-width:1;stroke-linecap:butt;stroke-linejoin:miter;stroke:rgb(26.666667%,26.666667%,26.666667%);stroke-opacity:1;stroke-miterlimit:10;\" d=\"M 86.996094 38.722656 L 20 134.355469 \"/>\n",
       "<path style=\"fill:none;stroke-width:1;stroke-linecap:butt;stroke-linejoin:miter;stroke:rgb(26.666667%,26.666667%,26.666667%);stroke-opacity:1;stroke-miterlimit:10;\" d=\"M 86.996094 38.722656 L 267.179688 211.011719 \"/>\n",
       "<path style=\"fill:none;stroke-width:1;stroke-linecap:butt;stroke-linejoin:miter;stroke:rgb(26.666667%,26.666667%,26.666667%);stroke-opacity:1;stroke-miterlimit:10;\" d=\"M 86.996094 38.722656 L 313.378906 20 \"/>\n",
       "<path style=\"fill:none;stroke-width:1;stroke-linecap:butt;stroke-linejoin:miter;stroke:rgb(26.666667%,26.666667%,26.666667%);stroke-opacity:1;stroke-miterlimit:10;\" d=\"M 86.996094 38.722656 L 444.859375 99.214844 \"/>\n",
       "<path style=\"fill:none;stroke-width:1;stroke-linecap:butt;stroke-linejoin:miter;stroke:rgb(26.666667%,26.666667%,26.666667%);stroke-opacity:1;stroke-miterlimit:10;\" d=\"M 20 134.355469 L 267.179688 211.011719 \"/>\n",
       "<path style=\"fill:none;stroke-width:1;stroke-linecap:butt;stroke-linejoin:miter;stroke:rgb(26.666667%,26.666667%,26.666667%);stroke-opacity:1;stroke-miterlimit:10;\" d=\"M 20 134.355469 L 313.378906 20 \"/>\n",
       "<path style=\"fill:none;stroke-width:1;stroke-linecap:butt;stroke-linejoin:miter;stroke:rgb(26.666667%,26.666667%,26.666667%);stroke-opacity:1;stroke-miterlimit:10;\" d=\"M 20 134.355469 L 444.859375 99.214844 \"/>\n",
       "<path style=\"fill:none;stroke-width:1;stroke-linecap:butt;stroke-linejoin:miter;stroke:rgb(26.666667%,26.666667%,26.666667%);stroke-opacity:1;stroke-miterlimit:10;\" d=\"M 267.179688 211.011719 L 313.378906 20 \"/>\n",
       "<path style=\"fill:none;stroke-width:1;stroke-linecap:butt;stroke-linejoin:miter;stroke:rgb(26.666667%,26.666667%,26.666667%);stroke-opacity:1;stroke-miterlimit:10;\" d=\"M 267.179688 211.011719 L 444.859375 99.214844 \"/>\n",
       "<path style=\"fill:none;stroke-width:1;stroke-linecap:butt;stroke-linejoin:miter;stroke:rgb(26.666667%,26.666667%,26.666667%);stroke-opacity:1;stroke-miterlimit:10;\" d=\"M 313.378906 20 L 444.859375 99.214844 \"/>\n",
       "<path style=\"fill:none;stroke-width:1;stroke-linecap:butt;stroke-linejoin:miter;stroke:rgb(26.666667%,26.666667%,26.666667%);stroke-opacity:1;stroke-miterlimit:10;\" d=\"M 332.820312 388.988281 L 267.179688 211.011719 \"/>\n",
       "<path style=\"fill-rule:nonzero;fill:rgb(100%,0%,0%);fill-opacity:1;stroke-width:1;stroke-linecap:butt;stroke-linejoin:miter;stroke:rgb(0%,0%,0%);stroke-opacity:1;stroke-miterlimit:10;\" d=\"M 590 465.644531 C 590 471.167969 585.523438 475.644531 580 475.644531 C 574.476562 475.644531 570 471.167969 570 465.644531 C 570 460.121094 574.476562 455.644531 580 455.644531 C 585.523438 455.644531 590 460.121094 590 465.644531 \"/>\n",
       "<path style=\"fill-rule:nonzero;fill:rgb(100%,0%,0%);fill-opacity:1;stroke-width:1;stroke-linecap:butt;stroke-linejoin:miter;stroke:rgb(0%,0%,0%);stroke-opacity:1;stroke-miterlimit:10;\" d=\"M 523.003906 561.277344 C 523.003906 566.800781 518.527344 571.277344 513.003906 571.277344 C 507.480469 571.277344 503.003906 566.800781 503.003906 561.277344 C 503.003906 555.753906 507.480469 551.277344 513.003906 551.277344 C 518.527344 551.277344 523.003906 555.753906 523.003906 561.277344 \"/>\n",
       "<path style=\"fill-rule:nonzero;fill:rgb(100%,0%,0%);fill-opacity:1;stroke-width:1;stroke-linecap:butt;stroke-linejoin:miter;stroke:rgb(0%,0%,0%);stroke-opacity:1;stroke-miterlimit:10;\" d=\"M 342.820312 388.988281 C 342.820312 394.511719 338.34375 398.988281 332.820312 398.988281 C 327.296875 398.988281 322.820312 394.511719 322.820312 388.988281 C 322.820312 383.464844 327.296875 378.988281 332.820312 378.988281 C 338.34375 378.988281 342.820312 383.464844 342.820312 388.988281 \"/>\n",
       "<path style=\"fill-rule:nonzero;fill:rgb(100%,0%,0%);fill-opacity:1;stroke-width:1;stroke-linecap:butt;stroke-linejoin:miter;stroke:rgb(0%,0%,0%);stroke-opacity:1;stroke-miterlimit:10;\" d=\"M 296.621094 580 C 296.621094 585.523438 292.144531 590 286.621094 590 C 281.097656 590 276.621094 585.523438 276.621094 580 C 276.621094 574.476562 281.097656 570 286.621094 570 C 292.144531 570 296.621094 574.476562 296.621094 580 \"/>\n",
       "<path style=\"fill-rule:nonzero;fill:rgb(100%,0%,0%);fill-opacity:1;stroke-width:1;stroke-linecap:butt;stroke-linejoin:miter;stroke:rgb(0%,0%,0%);stroke-opacity:1;stroke-miterlimit:10;\" d=\"M 165.140625 500.785156 C 165.140625 506.308594 160.664062 510.785156 155.140625 510.785156 C 149.617188 510.785156 145.140625 506.308594 145.140625 500.785156 C 145.140625 495.261719 149.617188 490.785156 155.140625 490.785156 C 160.664062 490.785156 165.140625 495.261719 165.140625 500.785156 \"/>\n",
       "<path style=\"fill-rule:nonzero;fill:rgb(100%,0%,0%);fill-opacity:1;stroke-width:1;stroke-linecap:butt;stroke-linejoin:miter;stroke:rgb(0%,0%,0%);stroke-opacity:1;stroke-miterlimit:10;\" d=\"M 96.996094 38.722656 C 96.996094 44.246094 92.519531 48.722656 86.996094 48.722656 C 81.472656 48.722656 76.996094 44.246094 76.996094 38.722656 C 76.996094 33.199219 81.472656 28.722656 86.996094 28.722656 C 92.519531 28.722656 96.996094 33.199219 96.996094 38.722656 \"/>\n",
       "<path style=\"fill-rule:nonzero;fill:rgb(100%,0%,0%);fill-opacity:1;stroke-width:1;stroke-linecap:butt;stroke-linejoin:miter;stroke:rgb(0%,0%,0%);stroke-opacity:1;stroke-miterlimit:10;\" d=\"M 30 134.355469 C 30 139.878906 25.523438 144.355469 20 144.355469 C 14.476562 144.355469 10 139.878906 10 134.355469 C 10 128.832031 14.476562 124.355469 20 124.355469 C 25.523438 124.355469 30 128.832031 30 134.355469 \"/>\n",
       "<path style=\"fill-rule:nonzero;fill:rgb(100%,0%,0%);fill-opacity:1;stroke-width:1;stroke-linecap:butt;stroke-linejoin:miter;stroke:rgb(0%,0%,0%);stroke-opacity:1;stroke-miterlimit:10;\" d=\"M 277.179688 211.011719 C 277.179688 216.535156 272.703125 221.011719 267.179688 221.011719 C 261.65625 221.011719 257.179688 216.535156 257.179688 211.011719 C 257.179688 205.488281 261.65625 201.011719 267.179688 201.011719 C 272.703125 201.011719 277.179688 205.488281 277.179688 211.011719 \"/>\n",
       "<path style=\"fill-rule:nonzero;fill:rgb(100%,0%,0%);fill-opacity:1;stroke-width:1;stroke-linecap:butt;stroke-linejoin:miter;stroke:rgb(0%,0%,0%);stroke-opacity:1;stroke-miterlimit:10;\" d=\"M 323.378906 20 C 323.378906 25.523438 318.902344 30 313.378906 30 C 307.855469 30 303.378906 25.523438 303.378906 20 C 303.378906 14.476562 307.855469 10 313.378906 10 C 318.902344 10 323.378906 14.476562 323.378906 20 \"/>\n",
       "<path style=\"fill-rule:nonzero;fill:rgb(100%,0%,0%);fill-opacity:1;stroke-width:1;stroke-linecap:butt;stroke-linejoin:miter;stroke:rgb(0%,0%,0%);stroke-opacity:1;stroke-miterlimit:10;\" d=\"M 454.859375 99.214844 C 454.859375 104.738281 450.382812 109.214844 444.859375 109.214844 C 439.335938 109.214844 434.859375 104.738281 434.859375 99.214844 C 434.859375 93.691406 439.335938 89.214844 444.859375 89.214844 C 450.382812 89.214844 454.859375 93.691406 454.859375 99.214844 \"/>\n",
       "</g>\n",
       "</svg>\n"
      ],
      "text/plain": [
       "<igraph.drawing.Plot at 0x1102a2eb0>"
      ]
     },
     "execution_count": 4,
     "metadata": {
      "image/svg+xml": {
       "isolated": true
      }
     },
     "output_type": "execute_result"
    }
   ],
   "source": [
    "layout = g.layout_auto()\n",
    "ig.plot(g, layout = layout)"
   ]
  },
  {
   "cell_type": "markdown",
   "metadata": {},
   "source": [
    "Adjacency matrix, $W$"
   ]
  },
  {
   "cell_type": "code",
   "execution_count": 5,
   "metadata": {},
   "outputs": [
    {
     "data": {
      "image/png": "[encoded data removed]",
      "text/plain": [
       "<Figure size 432x288 with 2 Axes>"
      ]
     },
     "metadata": {
      "needs_background": "light"
     },
     "output_type": "display_data"
    }
   ],
   "source": [
    "fig, ax = plt.subplots()\n",
    "type(g.get_adjacency().data)\n",
    "ax = sns.heatmap(g.get_adjacency().data, ax=ax, center=0, cmap='BrBG')"
   ]
  },
  {
   "cell_type": "markdown",
   "metadata": {},
   "source": [
    "## Graph Laplacian\n",
    "\n",
    "Unnormalised form\n",
    "\n",
    "$$L = D - W$$\n",
    "\n",
    "or the symmetric normalised Laplacian (same on degree homogeneous (regular) graphs)\n",
    "\n",
    "$$L_\\text{sym} = D^{-\\frac{1}{2}} L D^{-\\frac{1}{2}} = I - D^{-\\frac{1}{2}} L D^{-\\frac{1}{2}}$$\n",
    "\n",
    "or the normalised Laplacian associated with random walks\n",
    "\n",
    "$$L_\\text{rw} = D^{-1} W$$\n",
    "\n",
    "### Smoothness\n",
    "\n",
    "Why are we so interested in this graph Laplacian?\n",
    "Given a vector of values $\\mathbf{x}$ (one dimension for each vertex in the graph), the Laplacian quadratic form\n",
    "\n",
    "$$\\mathbf{x}^T L \\mathbf{x} = \\sum_{(i, j) \\in E(G)} (x_i - x_j)^2$$\n",
    "\n",
    "can be seen as a measure of how smooth $\\mathbf{x}$ is over the graph.\n",
    "So if we take the eigendecomposition of the Laplacian\n",
    "\n",
    "$$L = Q \\Lambda Q^{-1}$$\n",
    "\n",
    "we can see that the eigenvectors with smallest eigenvalues are the smoothest over the graph (as defined by the quadratic form above)."
   ]
  },
  {
   "cell_type": "code",
   "execution_count": 6,
   "metadata": {},
   "outputs": [
    {
     "data": {
      "image/png": "[encoded data removed]",
      "text/plain": [
       "<Figure size 432x288 with 2 Axes>"
      ]
     },
     "metadata": {
      "needs_background": "light"
     },
     "output_type": "display_data"
    }
   ],
   "source": [
    "L = g.laplacian()\n",
    "fig, ax = plt.subplots()\n",
    "ax = sns.heatmap(L, ax=ax, center=0, cmap='BrBG')"
   ]
  },
  {
   "cell_type": "markdown",
   "metadata": {},
   "source": [
    "## Spectral analysis\n",
    "\n",
    "Solve the eigenproblem\n",
    "$$L \\mathbf{x} = \\lambda \\mathbf{x}$$\n",
    "\n",
    "Note that the sum of each row of $L$ = 0. Hence any constant vector $\\mathbf{1}$ is an eigenvector with eigenvalue $\\lambda = 0$.\n",
    "\n",
    "### Fiedler eigenvector\n",
    "Suppose the graph had two connected components.\n",
    "How could we easily find another eigenvector orthogonal to the first?\n",
    "Note here the Laplacian will have a block diagonal structure.\n",
    "\n",
    "### Generalised eigenproblem\n",
    "Note sometimes people solve the generalised eigenproblem\n",
    "$$L \\mathbf{x} = \\lambda D \\mathbf{x}$$\n",
    "but this is just the same as substituting\n",
    "$$L' = D^{-1} L$$"
   ]
  },
  {
   "cell_type": "code",
   "execution_count": 7,
   "metadata": {},
   "outputs": [
    {
     "data": {
      "image/png": "[encoded data removed]",
      "text/plain": [
       "<Figure size 432x288 with 1 Axes>"
      ]
     },
     "metadata": {
      "needs_background": "light"
     },
     "output_type": "display_data"
    }
   ],
   "source": [
    "w, v = la.eigh(L)\n",
    "fig, ax = plt.subplots()\n",
    "ax.bar(np.arange(len(L)), w)\n",
    "_ = ax.set_title('Eigenvalues')"
   ]
  },
  {
   "cell_type": "code",
   "execution_count": 8,
   "metadata": {},
   "outputs": [],
   "source": [
    "vmax = np.abs(v).max()\n",
    "cmap = cm.get_cmap('BrBG')"
   ]
  },
  {
   "cell_type": "code",
   "execution_count": 9,
   "metadata": {},
   "outputs": [],
   "source": [
    "def set_evec_colors(g, v):\n",
    "    scaled_evec = (v / vmax + 1) / 2\n",
    "    g.vs['color'] = list(map(colors.rgb2hex, cmap(scaled_evec)))"
   ]
  },
  {
   "cell_type": "code",
   "execution_count": 10,
   "metadata": {},
   "outputs": [
    {
     "data": {
      "image/svg+xml": [
       "<?xml version=\"1.0\" encoding=\"UTF-8\"?>\n",
       "<svg xmlns=\"http://www.w3.org/2000/svg\" xmlns:xlink=\"http://www.w3.org/1999/xlink\" width=\"500pt\" height=\"200pt\" viewBox=\"0 0 500 200\" version=\"1.1\">\n",
       "<g id=\"surface8\">\n",
       "<rect x=\"0\" y=\"0\" width=\"500\" height=\"200\" style=\"fill:rgb(100%,100%,100%);fill-opacity:1;stroke:none;\"/>\n",
       "<path style=\"fill:none;stroke-width:1;stroke-linecap:butt;stroke-linejoin:miter;stroke:rgb(26.666667%,26.666667%,26.666667%);stroke-opacity:1;stroke-miterlimit:10;\" d=\"M 480 147.328125 L 424.96875 174.648438 \"/>\n",
       "<path style=\"fill:none;stroke-width:1;stroke-linecap:butt;stroke-linejoin:miter;stroke:rgb(26.666667%,26.666667%,26.666667%);stroke-opacity:1;stroke-miterlimit:10;\" d=\"M 480 147.328125 L 276.960938 125.425781 \"/>\n",
       "<path style=\"fill:none;stroke-width:1;stroke-linecap:butt;stroke-linejoin:miter;stroke:rgb(26.666667%,26.666667%,26.666667%);stroke-opacity:1;stroke-miterlimit:10;\" d=\"M 480 147.328125 L 239.007812 180 \"/>\n",
       "<path style=\"fill:none;stroke-width:1;stroke-linecap:butt;stroke-linejoin:miter;stroke:rgb(26.666667%,26.666667%,26.666667%);stroke-opacity:1;stroke-miterlimit:10;\" d=\"M 480 147.328125 L 131.007812 157.367188 \"/>\n",
       "<path style=\"fill:none;stroke-width:1;stroke-linecap:butt;stroke-linejoin:miter;stroke:rgb(26.666667%,26.666667%,26.666667%);stroke-opacity:1;stroke-miterlimit:10;\" d=\"M 424.96875 174.648438 L 276.960938 125.425781 \"/>\n",
       "<path style=\"fill:none;stroke-width:1;stroke-linecap:butt;stroke-linejoin:miter;stroke:rgb(26.666667%,26.666667%,26.666667%);stroke-opacity:1;stroke-miterlimit:10;\" d=\"M 424.96875 174.648438 L 239.007812 180 \"/>\n",
       "<path style=\"fill:none;stroke-width:1;stroke-linecap:butt;stroke-linejoin:miter;stroke:rgb(26.666667%,26.666667%,26.666667%);stroke-opacity:1;stroke-miterlimit:10;\" d=\"M 424.96875 174.648438 L 131.007812 157.367188 \"/>\n",
       "<path style=\"fill:none;stroke-width:1;stroke-linecap:butt;stroke-linejoin:miter;stroke:rgb(26.666667%,26.666667%,26.666667%);stroke-opacity:1;stroke-miterlimit:10;\" d=\"M 276.960938 125.425781 L 239.007812 180 \"/>\n",
       "<path style=\"fill:none;stroke-width:1;stroke-linecap:butt;stroke-linejoin:miter;stroke:rgb(26.666667%,26.666667%,26.666667%);stroke-opacity:1;stroke-miterlimit:10;\" d=\"M 276.960938 125.425781 L 131.007812 157.367188 \"/>\n",
       "<path style=\"fill:none;stroke-width:1;stroke-linecap:butt;stroke-linejoin:miter;stroke:rgb(26.666667%,26.666667%,26.666667%);stroke-opacity:1;stroke-miterlimit:10;\" d=\"M 239.007812 180 L 131.007812 157.367188 \"/>\n",
       "<path style=\"fill:none;stroke-width:1;stroke-linecap:butt;stroke-linejoin:miter;stroke:rgb(26.666667%,26.666667%,26.666667%);stroke-opacity:1;stroke-miterlimit:10;\" d=\"M 75.03125 25.351562 L 20 52.671875 \"/>\n",
       "<path style=\"fill:none;stroke-width:1;stroke-linecap:butt;stroke-linejoin:miter;stroke:rgb(26.666667%,26.666667%,26.666667%);stroke-opacity:1;stroke-miterlimit:10;\" d=\"M 75.03125 25.351562 L 223.039062 74.574219 \"/>\n",
       "<path style=\"fill:none;stroke-width:1;stroke-linecap:butt;stroke-linejoin:miter;stroke:rgb(26.666667%,26.666667%,26.666667%);stroke-opacity:1;stroke-miterlimit:10;\" d=\"M 75.03125 25.351562 L 260.992188 20 \"/>\n",
       "<path style=\"fill:none;stroke-width:1;stroke-linecap:butt;stroke-linejoin:miter;stroke:rgb(26.666667%,26.666667%,26.666667%);stroke-opacity:1;stroke-miterlimit:10;\" d=\"M 75.03125 25.351562 L 368.992188 42.632812 \"/>\n",
       "<path style=\"fill:none;stroke-width:1;stroke-linecap:butt;stroke-linejoin:miter;stroke:rgb(26.666667%,26.666667%,26.666667%);stroke-opacity:1;stroke-miterlimit:10;\" d=\"M 20 52.671875 L 223.039062 74.574219 \"/>\n",
       "<path style=\"fill:none;stroke-width:1;stroke-linecap:butt;stroke-linejoin:miter;stroke:rgb(26.666667%,26.666667%,26.666667%);stroke-opacity:1;stroke-miterlimit:10;\" d=\"M 20 52.671875 L 260.992188 20 \"/>\n",
       "<path style=\"fill:none;stroke-width:1;stroke-linecap:butt;stroke-linejoin:miter;stroke:rgb(26.666667%,26.666667%,26.666667%);stroke-opacity:1;stroke-miterlimit:10;\" d=\"M 20 52.671875 L 368.992188 42.632812 \"/>\n",
       "<path style=\"fill:none;stroke-width:1;stroke-linecap:butt;stroke-linejoin:miter;stroke:rgb(26.666667%,26.666667%,26.666667%);stroke-opacity:1;stroke-miterlimit:10;\" d=\"M 223.039062 74.574219 L 260.992188 20 \"/>\n",
       "<path style=\"fill:none;stroke-width:1;stroke-linecap:butt;stroke-linejoin:miter;stroke:rgb(26.666667%,26.666667%,26.666667%);stroke-opacity:1;stroke-miterlimit:10;\" d=\"M 223.039062 74.574219 L 368.992188 42.632812 \"/>\n",
       "<path style=\"fill:none;stroke-width:1;stroke-linecap:butt;stroke-linejoin:miter;stroke:rgb(26.666667%,26.666667%,26.666667%);stroke-opacity:1;stroke-miterlimit:10;\" d=\"M 260.992188 20 L 368.992188 42.632812 \"/>\n",
       "<path style=\"fill:none;stroke-width:1;stroke-linecap:butt;stroke-linejoin:miter;stroke:rgb(26.666667%,26.666667%,26.666667%);stroke-opacity:1;stroke-miterlimit:10;\" d=\"M 276.960938 125.425781 L 223.039062 74.574219 \"/>\n",
       "<path style=\"fill-rule:nonzero;fill:rgb(56.078431%,82.745098%,78.823529%);fill-opacity:1;stroke-width:1;stroke-linecap:butt;stroke-linejoin:miter;stroke:rgb(0%,0%,0%);stroke-opacity:1;stroke-miterlimit:10;\" d=\"M 490 147.328125 C 490 152.851562 485.523438 157.328125 480 157.328125 C 474.476562 157.328125 470 152.851562 470 147.328125 C 470 141.804688 474.476562 137.328125 480 137.328125 C 485.523438 137.328125 490 141.804688 490 147.328125 \"/>\n",
       "<path style=\"fill-rule:nonzero;fill:rgb(56.078431%,82.745098%,78.823529%);fill-opacity:1;stroke-width:1;stroke-linecap:butt;stroke-linejoin:miter;stroke:rgb(0%,0%,0%);stroke-opacity:1;stroke-miterlimit:10;\" d=\"M 434.96875 174.648438 C 434.96875 180.171875 430.492188 184.648438 424.96875 184.648438 C 419.445312 184.648438 414.96875 180.171875 414.96875 174.648438 C 414.96875 169.128906 419.445312 164.648438 424.96875 164.648438 C 430.492188 164.648438 434.96875 169.128906 434.96875 174.648438 \"/>\n",
       "<path style=\"fill-rule:nonzero;fill:rgb(56.078431%,82.745098%,78.823529%);fill-opacity:1;stroke-width:1;stroke-linecap:butt;stroke-linejoin:miter;stroke:rgb(0%,0%,0%);stroke-opacity:1;stroke-miterlimit:10;\" d=\"M 286.960938 125.425781 C 286.960938 130.949219 282.480469 135.425781 276.960938 135.425781 C 271.4375 135.425781 266.960938 130.949219 266.960938 125.425781 C 266.960938 119.902344 271.4375 115.425781 276.960938 115.425781 C 282.480469 115.425781 286.960938 119.902344 286.960938 125.425781 \"/>\n",
       "<path style=\"fill-rule:nonzero;fill:rgb(56.078431%,82.745098%,78.823529%);fill-opacity:1;stroke-width:1;stroke-linecap:butt;stroke-linejoin:miter;stroke:rgb(0%,0%,0%);stroke-opacity:1;stroke-miterlimit:10;\" d=\"M 249.007812 180 C 249.007812 185.523438 244.53125 190 239.007812 190 C 233.488281 190 229.007812 185.523438 229.007812 180 C 229.007812 174.476562 233.488281 170 239.007812 170 C 244.53125 170 249.007812 174.476562 249.007812 180 \"/>\n",
       "<path style=\"fill-rule:nonzero;fill:rgb(56.078431%,82.745098%,78.823529%);fill-opacity:1;stroke-width:1;stroke-linecap:butt;stroke-linejoin:miter;stroke:rgb(0%,0%,0%);stroke-opacity:1;stroke-miterlimit:10;\" d=\"M 141.007812 157.367188 C 141.007812 162.890625 136.53125 167.367188 131.007812 167.367188 C 125.484375 167.367188 121.007812 162.890625 121.007812 157.367188 C 121.007812 151.84375 125.484375 147.367188 131.007812 147.367188 C 136.53125 147.367188 141.007812 151.84375 141.007812 157.367188 \"/>\n",
       "<path style=\"fill-rule:nonzero;fill:rgb(56.078431%,82.745098%,78.823529%);fill-opacity:1;stroke-width:1;stroke-linecap:butt;stroke-linejoin:miter;stroke:rgb(0%,0%,0%);stroke-opacity:1;stroke-miterlimit:10;\" d=\"M 85.03125 25.351562 C 85.03125 30.871094 80.554688 35.351562 75.03125 35.351562 C 69.507812 35.351562 65.03125 30.871094 65.03125 25.351562 C 65.03125 19.828125 69.507812 15.351562 75.03125 15.351562 C 80.554688 15.351562 85.03125 19.828125 85.03125 25.351562 \"/>\n",
       "<path style=\"fill-rule:nonzero;fill:rgb(56.078431%,82.745098%,78.823529%);fill-opacity:1;stroke-width:1;stroke-linecap:butt;stroke-linejoin:miter;stroke:rgb(0%,0%,0%);stroke-opacity:1;stroke-miterlimit:10;\" d=\"M 30 52.671875 C 30 58.195312 25.523438 62.671875 20 62.671875 C 14.476562 62.671875 10 58.195312 10 52.671875 C 10 47.148438 14.476562 42.671875 20 42.671875 C 25.523438 42.671875 30 47.148438 30 52.671875 \"/>\n",
       "<path style=\"fill-rule:nonzero;fill:rgb(56.078431%,82.745098%,78.823529%);fill-opacity:1;stroke-width:1;stroke-linecap:butt;stroke-linejoin:miter;stroke:rgb(0%,0%,0%);stroke-opacity:1;stroke-miterlimit:10;\" d=\"M 233.039062 74.574219 C 233.039062 80.097656 228.5625 84.574219 223.039062 84.574219 C 217.519531 84.574219 213.039062 80.097656 213.039062 74.574219 C 213.039062 69.050781 217.519531 64.574219 223.039062 64.574219 C 228.5625 64.574219 233.039062 69.050781 233.039062 74.574219 \"/>\n",
       "<path style=\"fill-rule:nonzero;fill:rgb(56.078431%,82.745098%,78.823529%);fill-opacity:1;stroke-width:1;stroke-linecap:butt;stroke-linejoin:miter;stroke:rgb(0%,0%,0%);stroke-opacity:1;stroke-miterlimit:10;\" d=\"M 270.992188 20 C 270.992188 25.523438 266.511719 30 260.992188 30 C 255.46875 30 250.992188 25.523438 250.992188 20 C 250.992188 14.476562 255.46875 10 260.992188 10 C 266.511719 10 270.992188 14.476562 270.992188 20 \"/>\n",
       "<path style=\"fill-rule:nonzero;fill:rgb(56.078431%,82.745098%,78.823529%);fill-opacity:1;stroke-width:1;stroke-linecap:butt;stroke-linejoin:miter;stroke:rgb(0%,0%,0%);stroke-opacity:1;stroke-miterlimit:10;\" d=\"M 378.992188 42.632812 C 378.992188 48.15625 374.515625 52.632812 368.992188 52.632812 C 363.46875 52.632812 358.992188 48.15625 358.992188 42.632812 C 358.992188 37.109375 363.46875 32.632812 368.992188 32.632812 C 374.515625 32.632812 378.992188 37.109375 378.992188 42.632812 \"/>\n",
       "</g>\n",
       "</svg>\n"
      ],
      "text/plain": [
       "<igraph.drawing.Plot at 0x12f217040>"
      ]
     },
     "execution_count": 10,
     "metadata": {
      "image/svg+xml": {
       "isolated": true
      }
     },
     "output_type": "execute_result"
    }
   ],
   "source": [
    "set_evec_colors(g, v[:, 0])\n",
    "ig.plot(g, layout = layout, bbox=(0, 0, 500, 200))"
   ]
  },
  {
   "cell_type": "code",
   "execution_count": 11,
   "metadata": {},
   "outputs": [
    {
     "data": {
      "image/svg+xml": [
       "<?xml version=\"1.0\" encoding=\"UTF-8\"?>\n",
       "<svg xmlns=\"http://www.w3.org/2000/svg\" xmlns:xlink=\"http://www.w3.org/1999/xlink\" width=\"500pt\" height=\"200pt\" viewBox=\"0 0 500 200\" version=\"1.1\">\n",
       "<g id=\"surface14\">\n",
       "<rect x=\"0\" y=\"0\" width=\"500\" height=\"200\" style=\"fill:rgb(100%,100%,100%);fill-opacity:1;stroke:none;\"/>\n",
       "<path style=\"fill:none;stroke-width:1;stroke-linecap:butt;stroke-linejoin:miter;stroke:rgb(26.666667%,26.666667%,26.666667%);stroke-opacity:1;stroke-miterlimit:10;\" d=\"M 480 147.328125 L 424.96875 174.648438 \"/>\n",
       "<path style=\"fill:none;stroke-width:1;stroke-linecap:butt;stroke-linejoin:miter;stroke:rgb(26.666667%,26.666667%,26.666667%);stroke-opacity:1;stroke-miterlimit:10;\" d=\"M 480 147.328125 L 276.960938 125.425781 \"/>\n",
       "<path style=\"fill:none;stroke-width:1;stroke-linecap:butt;stroke-linejoin:miter;stroke:rgb(26.666667%,26.666667%,26.666667%);stroke-opacity:1;stroke-miterlimit:10;\" d=\"M 480 147.328125 L 239.007812 180 \"/>\n",
       "<path style=\"fill:none;stroke-width:1;stroke-linecap:butt;stroke-linejoin:miter;stroke:rgb(26.666667%,26.666667%,26.666667%);stroke-opacity:1;stroke-miterlimit:10;\" d=\"M 480 147.328125 L 131.007812 157.367188 \"/>\n",
       "<path style=\"fill:none;stroke-width:1;stroke-linecap:butt;stroke-linejoin:miter;stroke:rgb(26.666667%,26.666667%,26.666667%);stroke-opacity:1;stroke-miterlimit:10;\" d=\"M 424.96875 174.648438 L 276.960938 125.425781 \"/>\n",
       "<path style=\"fill:none;stroke-width:1;stroke-linecap:butt;stroke-linejoin:miter;stroke:rgb(26.666667%,26.666667%,26.666667%);stroke-opacity:1;stroke-miterlimit:10;\" d=\"M 424.96875 174.648438 L 239.007812 180 \"/>\n",
       "<path style=\"fill:none;stroke-width:1;stroke-linecap:butt;stroke-linejoin:miter;stroke:rgb(26.666667%,26.666667%,26.666667%);stroke-opacity:1;stroke-miterlimit:10;\" d=\"M 424.96875 174.648438 L 131.007812 157.367188 \"/>\n",
       "<path style=\"fill:none;stroke-width:1;stroke-linecap:butt;stroke-linejoin:miter;stroke:rgb(26.666667%,26.666667%,26.666667%);stroke-opacity:1;stroke-miterlimit:10;\" d=\"M 276.960938 125.425781 L 239.007812 180 \"/>\n",
       "<path style=\"fill:none;stroke-width:1;stroke-linecap:butt;stroke-linejoin:miter;stroke:rgb(26.666667%,26.666667%,26.666667%);stroke-opacity:1;stroke-miterlimit:10;\" d=\"M 276.960938 125.425781 L 131.007812 157.367188 \"/>\n",
       "<path style=\"fill:none;stroke-width:1;stroke-linecap:butt;stroke-linejoin:miter;stroke:rgb(26.666667%,26.666667%,26.666667%);stroke-opacity:1;stroke-miterlimit:10;\" d=\"M 239.007812 180 L 131.007812 157.367188 \"/>\n",
       "<path style=\"fill:none;stroke-width:1;stroke-linecap:butt;stroke-linejoin:miter;stroke:rgb(26.666667%,26.666667%,26.666667%);stroke-opacity:1;stroke-miterlimit:10;\" d=\"M 75.03125 25.351562 L 20 52.671875 \"/>\n",
       "<path style=\"fill:none;stroke-width:1;stroke-linecap:butt;stroke-linejoin:miter;stroke:rgb(26.666667%,26.666667%,26.666667%);stroke-opacity:1;stroke-miterlimit:10;\" d=\"M 75.03125 25.351562 L 223.039062 74.574219 \"/>\n",
       "<path style=\"fill:none;stroke-width:1;stroke-linecap:butt;stroke-linejoin:miter;stroke:rgb(26.666667%,26.666667%,26.666667%);stroke-opacity:1;stroke-miterlimit:10;\" d=\"M 75.03125 25.351562 L 260.992188 20 \"/>\n",
       "<path style=\"fill:none;stroke-width:1;stroke-linecap:butt;stroke-linejoin:miter;stroke:rgb(26.666667%,26.666667%,26.666667%);stroke-opacity:1;stroke-miterlimit:10;\" d=\"M 75.03125 25.351562 L 368.992188 42.632812 \"/>\n",
       "<path style=\"fill:none;stroke-width:1;stroke-linecap:butt;stroke-linejoin:miter;stroke:rgb(26.666667%,26.666667%,26.666667%);stroke-opacity:1;stroke-miterlimit:10;\" d=\"M 20 52.671875 L 223.039062 74.574219 \"/>\n",
       "<path style=\"fill:none;stroke-width:1;stroke-linecap:butt;stroke-linejoin:miter;stroke:rgb(26.666667%,26.666667%,26.666667%);stroke-opacity:1;stroke-miterlimit:10;\" d=\"M 20 52.671875 L 260.992188 20 \"/>\n",
       "<path style=\"fill:none;stroke-width:1;stroke-linecap:butt;stroke-linejoin:miter;stroke:rgb(26.666667%,26.666667%,26.666667%);stroke-opacity:1;stroke-miterlimit:10;\" d=\"M 20 52.671875 L 368.992188 42.632812 \"/>\n",
       "<path style=\"fill:none;stroke-width:1;stroke-linecap:butt;stroke-linejoin:miter;stroke:rgb(26.666667%,26.666667%,26.666667%);stroke-opacity:1;stroke-miterlimit:10;\" d=\"M 223.039062 74.574219 L 260.992188 20 \"/>\n",
       "<path style=\"fill:none;stroke-width:1;stroke-linecap:butt;stroke-linejoin:miter;stroke:rgb(26.666667%,26.666667%,26.666667%);stroke-opacity:1;stroke-miterlimit:10;\" d=\"M 223.039062 74.574219 L 368.992188 42.632812 \"/>\n",
       "<path style=\"fill:none;stroke-width:1;stroke-linecap:butt;stroke-linejoin:miter;stroke:rgb(26.666667%,26.666667%,26.666667%);stroke-opacity:1;stroke-miterlimit:10;\" d=\"M 260.992188 20 L 368.992188 42.632812 \"/>\n",
       "<path style=\"fill:none;stroke-width:1;stroke-linecap:butt;stroke-linejoin:miter;stroke:rgb(26.666667%,26.666667%,26.666667%);stroke-opacity:1;stroke-miterlimit:10;\" d=\"M 276.960938 125.425781 L 223.039062 74.574219 \"/>\n",
       "<path style=\"fill-rule:nonzero;fill:rgb(88.235294%,77.647059%,51.764706%);fill-opacity:1;stroke-width:1;stroke-linecap:butt;stroke-linejoin:miter;stroke:rgb(0%,0%,0%);stroke-opacity:1;stroke-miterlimit:10;\" d=\"M 490 147.328125 C 490 152.851562 485.523438 157.328125 480 157.328125 C 474.476562 157.328125 470 152.851562 470 147.328125 C 470 141.804688 474.476562 137.328125 480 137.328125 C 485.523438 137.328125 490 141.804688 490 147.328125 \"/>\n",
       "<path style=\"fill-rule:nonzero;fill:rgb(88.235294%,77.647059%,51.764706%);fill-opacity:1;stroke-width:1;stroke-linecap:butt;stroke-linejoin:miter;stroke:rgb(0%,0%,0%);stroke-opacity:1;stroke-miterlimit:10;\" d=\"M 434.96875 174.648438 C 434.96875 180.171875 430.492188 184.648438 424.96875 184.648438 C 419.445312 184.648438 414.96875 180.171875 414.96875 174.648438 C 414.96875 169.128906 419.445312 164.648438 424.96875 164.648438 C 430.492188 164.648438 434.96875 169.128906 434.96875 174.648438 \"/>\n",
       "<path style=\"fill-rule:nonzero;fill:rgb(93.333333%,85.882353%,66.666667%);fill-opacity:1;stroke-width:1;stroke-linecap:butt;stroke-linejoin:miter;stroke:rgb(0%,0%,0%);stroke-opacity:1;stroke-miterlimit:10;\" d=\"M 286.960938 125.425781 C 286.960938 130.949219 282.480469 135.425781 276.960938 135.425781 C 271.4375 135.425781 266.960938 130.949219 266.960938 125.425781 C 266.960938 119.902344 271.4375 115.425781 276.960938 115.425781 C 282.480469 115.425781 286.960938 119.902344 286.960938 125.425781 \"/>\n",
       "<path style=\"fill-rule:nonzero;fill:rgb(88.235294%,77.647059%,51.764706%);fill-opacity:1;stroke-width:1;stroke-linecap:butt;stroke-linejoin:miter;stroke:rgb(0%,0%,0%);stroke-opacity:1;stroke-miterlimit:10;\" d=\"M 249.007812 180 C 249.007812 185.523438 244.53125 190 239.007812 190 C 233.488281 190 229.007812 185.523438 229.007812 180 C 229.007812 174.476562 233.488281 170 239.007812 170 C 244.53125 170 249.007812 174.476562 249.007812 180 \"/>\n",
       "<path style=\"fill-rule:nonzero;fill:rgb(88.235294%,77.647059%,51.764706%);fill-opacity:1;stroke-width:1;stroke-linecap:butt;stroke-linejoin:miter;stroke:rgb(0%,0%,0%);stroke-opacity:1;stroke-miterlimit:10;\" d=\"M 141.007812 157.367188 C 141.007812 162.890625 136.53125 167.367188 131.007812 167.367188 C 125.484375 167.367188 121.007812 162.890625 121.007812 157.367188 C 121.007812 151.84375 125.484375 147.367188 131.007812 147.367188 C 136.53125 147.367188 141.007812 151.84375 141.007812 157.367188 \"/>\n",
       "<path style=\"fill-rule:nonzero;fill:rgb(52.941176%,81.568627%,77.254902%);fill-opacity:1;stroke-width:1;stroke-linecap:butt;stroke-linejoin:miter;stroke:rgb(0%,0%,0%);stroke-opacity:1;stroke-miterlimit:10;\" d=\"M 85.03125 25.351562 C 85.03125 30.871094 80.554688 35.351562 75.03125 35.351562 C 69.507812 35.351562 65.03125 30.871094 65.03125 25.351562 C 65.03125 19.828125 69.507812 15.351562 75.03125 15.351562 C 80.554688 15.351562 85.03125 19.828125 85.03125 25.351562 \"/>\n",
       "<path style=\"fill-rule:nonzero;fill:rgb(52.941176%,81.568627%,77.254902%);fill-opacity:1;stroke-width:1;stroke-linecap:butt;stroke-linejoin:miter;stroke:rgb(0%,0%,0%);stroke-opacity:1;stroke-miterlimit:10;\" d=\"M 30 52.671875 C 30 58.195312 25.523438 62.671875 20 62.671875 C 14.476562 62.671875 10 58.195312 10 52.671875 C 10 47.148438 14.476562 42.671875 20 42.671875 C 25.523438 42.671875 30 47.148438 30 52.671875 \"/>\n",
       "<path style=\"fill-rule:nonzero;fill:rgb(68.235294%,87.843137%,84.705882%);fill-opacity:1;stroke-width:1;stroke-linecap:butt;stroke-linejoin:miter;stroke:rgb(0%,0%,0%);stroke-opacity:1;stroke-miterlimit:10;\" d=\"M 233.039062 74.574219 C 233.039062 80.097656 228.5625 84.574219 223.039062 84.574219 C 217.519531 84.574219 213.039062 80.097656 213.039062 74.574219 C 213.039062 69.050781 217.519531 64.574219 223.039062 64.574219 C 228.5625 64.574219 233.039062 69.050781 233.039062 74.574219 \"/>\n",
       "<path style=\"fill-rule:nonzero;fill:rgb(52.941176%,81.568627%,77.254902%);fill-opacity:1;stroke-width:1;stroke-linecap:butt;stroke-linejoin:miter;stroke:rgb(0%,0%,0%);stroke-opacity:1;stroke-miterlimit:10;\" d=\"M 270.992188 20 C 270.992188 25.523438 266.511719 30 260.992188 30 C 255.46875 30 250.992188 25.523438 250.992188 20 C 250.992188 14.476562 255.46875 10 260.992188 10 C 266.511719 10 270.992188 14.476562 270.992188 20 \"/>\n",
       "<path style=\"fill-rule:nonzero;fill:rgb(52.941176%,81.568627%,77.254902%);fill-opacity:1;stroke-width:1;stroke-linecap:butt;stroke-linejoin:miter;stroke:rgb(0%,0%,0%);stroke-opacity:1;stroke-miterlimit:10;\" d=\"M 378.992188 42.632812 C 378.992188 48.15625 374.515625 52.632812 368.992188 52.632812 C 363.46875 52.632812 358.992188 48.15625 358.992188 42.632812 C 358.992188 37.109375 363.46875 32.632812 368.992188 32.632812 C 374.515625 32.632812 378.992188 37.109375 378.992188 42.632812 \"/>\n",
       "</g>\n",
       "</svg>\n"
      ],
      "text/plain": [
       "<igraph.drawing.Plot at 0x12f2178b0>"
      ]
     },
     "execution_count": 11,
     "metadata": {
      "image/svg+xml": {
       "isolated": true
      }
     },
     "output_type": "execute_result"
    }
   ],
   "source": [
    "set_evec_colors(g, v[:, 1])\n",
    "ig.plot(g, layout = layout, bbox=(0, 0, 500, 200))"
   ]
  },
  {
   "cell_type": "code",
   "execution_count": 12,
   "metadata": {},
   "outputs": [
    {
     "data": {
      "image/svg+xml": [
       "<?xml version=\"1.0\" encoding=\"UTF-8\"?>\n",
       "<svg xmlns=\"http://www.w3.org/2000/svg\" xmlns:xlink=\"http://www.w3.org/1999/xlink\" width=\"500pt\" height=\"200pt\" viewBox=\"0 0 500 200\" version=\"1.1\">\n",
       "<g id=\"surface20\">\n",
       "<rect x=\"0\" y=\"0\" width=\"500\" height=\"200\" style=\"fill:rgb(100%,100%,100%);fill-opacity:1;stroke:none;\"/>\n",
       "<path style=\"fill:none;stroke-width:1;stroke-linecap:butt;stroke-linejoin:miter;stroke:rgb(26.666667%,26.666667%,26.666667%);stroke-opacity:1;stroke-miterlimit:10;\" d=\"M 480 147.328125 L 424.96875 174.648438 \"/>\n",
       "<path style=\"fill:none;stroke-width:1;stroke-linecap:butt;stroke-linejoin:miter;stroke:rgb(26.666667%,26.666667%,26.666667%);stroke-opacity:1;stroke-miterlimit:10;\" d=\"M 480 147.328125 L 276.960938 125.425781 \"/>\n",
       "<path style=\"fill:none;stroke-width:1;stroke-linecap:butt;stroke-linejoin:miter;stroke:rgb(26.666667%,26.666667%,26.666667%);stroke-opacity:1;stroke-miterlimit:10;\" d=\"M 480 147.328125 L 239.007812 180 \"/>\n",
       "<path style=\"fill:none;stroke-width:1;stroke-linecap:butt;stroke-linejoin:miter;stroke:rgb(26.666667%,26.666667%,26.666667%);stroke-opacity:1;stroke-miterlimit:10;\" d=\"M 480 147.328125 L 131.007812 157.367188 \"/>\n",
       "<path style=\"fill:none;stroke-width:1;stroke-linecap:butt;stroke-linejoin:miter;stroke:rgb(26.666667%,26.666667%,26.666667%);stroke-opacity:1;stroke-miterlimit:10;\" d=\"M 424.96875 174.648438 L 276.960938 125.425781 \"/>\n",
       "<path style=\"fill:none;stroke-width:1;stroke-linecap:butt;stroke-linejoin:miter;stroke:rgb(26.666667%,26.666667%,26.666667%);stroke-opacity:1;stroke-miterlimit:10;\" d=\"M 424.96875 174.648438 L 239.007812 180 \"/>\n",
       "<path style=\"fill:none;stroke-width:1;stroke-linecap:butt;stroke-linejoin:miter;stroke:rgb(26.666667%,26.666667%,26.666667%);stroke-opacity:1;stroke-miterlimit:10;\" d=\"M 424.96875 174.648438 L 131.007812 157.367188 \"/>\n",
       "<path style=\"fill:none;stroke-width:1;stroke-linecap:butt;stroke-linejoin:miter;stroke:rgb(26.666667%,26.666667%,26.666667%);stroke-opacity:1;stroke-miterlimit:10;\" d=\"M 276.960938 125.425781 L 239.007812 180 \"/>\n",
       "<path style=\"fill:none;stroke-width:1;stroke-linecap:butt;stroke-linejoin:miter;stroke:rgb(26.666667%,26.666667%,26.666667%);stroke-opacity:1;stroke-miterlimit:10;\" d=\"M 276.960938 125.425781 L 131.007812 157.367188 \"/>\n",
       "<path style=\"fill:none;stroke-width:1;stroke-linecap:butt;stroke-linejoin:miter;stroke:rgb(26.666667%,26.666667%,26.666667%);stroke-opacity:1;stroke-miterlimit:10;\" d=\"M 239.007812 180 L 131.007812 157.367188 \"/>\n",
       "<path style=\"fill:none;stroke-width:1;stroke-linecap:butt;stroke-linejoin:miter;stroke:rgb(26.666667%,26.666667%,26.666667%);stroke-opacity:1;stroke-miterlimit:10;\" d=\"M 75.03125 25.351562 L 20 52.671875 \"/>\n",
       "<path style=\"fill:none;stroke-width:1;stroke-linecap:butt;stroke-linejoin:miter;stroke:rgb(26.666667%,26.666667%,26.666667%);stroke-opacity:1;stroke-miterlimit:10;\" d=\"M 75.03125 25.351562 L 223.039062 74.574219 \"/>\n",
       "<path style=\"fill:none;stroke-width:1;stroke-linecap:butt;stroke-linejoin:miter;stroke:rgb(26.666667%,26.666667%,26.666667%);stroke-opacity:1;stroke-miterlimit:10;\" d=\"M 75.03125 25.351562 L 260.992188 20 \"/>\n",
       "<path style=\"fill:none;stroke-width:1;stroke-linecap:butt;stroke-linejoin:miter;stroke:rgb(26.666667%,26.666667%,26.666667%);stroke-opacity:1;stroke-miterlimit:10;\" d=\"M 75.03125 25.351562 L 368.992188 42.632812 \"/>\n",
       "<path style=\"fill:none;stroke-width:1;stroke-linecap:butt;stroke-linejoin:miter;stroke:rgb(26.666667%,26.666667%,26.666667%);stroke-opacity:1;stroke-miterlimit:10;\" d=\"M 20 52.671875 L 223.039062 74.574219 \"/>\n",
       "<path style=\"fill:none;stroke-width:1;stroke-linecap:butt;stroke-linejoin:miter;stroke:rgb(26.666667%,26.666667%,26.666667%);stroke-opacity:1;stroke-miterlimit:10;\" d=\"M 20 52.671875 L 260.992188 20 \"/>\n",
       "<path style=\"fill:none;stroke-width:1;stroke-linecap:butt;stroke-linejoin:miter;stroke:rgb(26.666667%,26.666667%,26.666667%);stroke-opacity:1;stroke-miterlimit:10;\" d=\"M 20 52.671875 L 368.992188 42.632812 \"/>\n",
       "<path style=\"fill:none;stroke-width:1;stroke-linecap:butt;stroke-linejoin:miter;stroke:rgb(26.666667%,26.666667%,26.666667%);stroke-opacity:1;stroke-miterlimit:10;\" d=\"M 223.039062 74.574219 L 260.992188 20 \"/>\n",
       "<path style=\"fill:none;stroke-width:1;stroke-linecap:butt;stroke-linejoin:miter;stroke:rgb(26.666667%,26.666667%,26.666667%);stroke-opacity:1;stroke-miterlimit:10;\" d=\"M 223.039062 74.574219 L 368.992188 42.632812 \"/>\n",
       "<path style=\"fill:none;stroke-width:1;stroke-linecap:butt;stroke-linejoin:miter;stroke:rgb(26.666667%,26.666667%,26.666667%);stroke-opacity:1;stroke-miterlimit:10;\" d=\"M 260.992188 20 L 368.992188 42.632812 \"/>\n",
       "<path style=\"fill:none;stroke-width:1;stroke-linecap:butt;stroke-linejoin:miter;stroke:rgb(26.666667%,26.666667%,26.666667%);stroke-opacity:1;stroke-miterlimit:10;\" d=\"M 276.960938 125.425781 L 223.039062 74.574219 \"/>\n",
       "<path style=\"fill-rule:nonzero;fill:rgb(95.686275%,96.078431%,96.078431%);fill-opacity:1;stroke-width:1;stroke-linecap:butt;stroke-linejoin:miter;stroke:rgb(0%,0%,0%);stroke-opacity:1;stroke-miterlimit:10;\" d=\"M 490 147.328125 C 490 152.851562 485.523438 157.328125 480 157.328125 C 474.476562 157.328125 470 152.851562 470 147.328125 C 470 141.804688 474.476562 137.328125 480 137.328125 C 485.523438 137.328125 490 141.804688 490 147.328125 \"/>\n",
       "<path style=\"fill-rule:nonzero;fill:rgb(87.058824%,75.686275%,48.235294%);fill-opacity:1;stroke-width:1;stroke-linecap:butt;stroke-linejoin:miter;stroke:rgb(0%,0%,0%);stroke-opacity:1;stroke-miterlimit:10;\" d=\"M 434.96875 174.648438 C 434.96875 180.171875 430.492188 184.648438 424.96875 184.648438 C 419.445312 184.648438 414.96875 180.171875 414.96875 174.648438 C 414.96875 169.128906 419.445312 164.648438 424.96875 164.648438 C 430.492188 164.648438 434.96875 169.128906 434.96875 174.648438 \"/>\n",
       "<path style=\"fill-rule:nonzero;fill:rgb(69.411765%,88.235294%,85.490196%);fill-opacity:1;stroke-width:1;stroke-linecap:butt;stroke-linejoin:miter;stroke:rgb(0%,0%,0%);stroke-opacity:1;stroke-miterlimit:10;\" d=\"M 286.960938 125.425781 C 286.960938 130.949219 282.480469 135.425781 276.960938 135.425781 C 271.4375 135.425781 266.960938 130.949219 266.960938 125.425781 C 266.960938 119.902344 271.4375 115.425781 276.960938 115.425781 C 282.480469 115.425781 286.960938 119.902344 286.960938 125.425781 \"/>\n",
       "<path style=\"fill-rule:nonzero;fill:rgb(34.509804%,69.019608%,65.490196%);fill-opacity:1;stroke-width:1;stroke-linecap:butt;stroke-linejoin:miter;stroke:rgb(0%,0%,0%);stroke-opacity:1;stroke-miterlimit:10;\" d=\"M 249.007812 180 C 249.007812 185.523438 244.53125 190 239.007812 190 C 233.488281 190 229.007812 185.523438 229.007812 180 C 229.007812 174.476562 233.488281 170 239.007812 170 C 244.53125 170 249.007812 174.476562 249.007812 180 \"/>\n",
       "<path style=\"fill-rule:nonzero;fill:rgb(89.019608%,78.823529%,53.72549%);fill-opacity:1;stroke-width:1;stroke-linecap:butt;stroke-linejoin:miter;stroke:rgb(0%,0%,0%);stroke-opacity:1;stroke-miterlimit:10;\" d=\"M 141.007812 157.367188 C 141.007812 162.890625 136.53125 167.367188 131.007812 167.367188 C 125.484375 167.367188 121.007812 162.890625 121.007812 157.367188 C 121.007812 151.84375 125.484375 147.367188 131.007812 147.367188 C 136.53125 147.367188 141.007812 151.84375 141.007812 157.367188 \"/>\n",
       "<path style=\"fill-rule:nonzero;fill:rgb(30.980392%,66.666667%,63.137255%);fill-opacity:1;stroke-width:1;stroke-linecap:butt;stroke-linejoin:miter;stroke:rgb(0%,0%,0%);stroke-opacity:1;stroke-miterlimit:10;\" d=\"M 85.03125 25.351562 C 85.03125 30.871094 80.554688 35.351562 75.03125 35.351562 C 69.507812 35.351562 65.03125 30.871094 65.03125 25.351562 C 65.03125 19.828125 69.507812 15.351562 75.03125 15.351562 C 80.554688 15.351562 85.03125 19.828125 85.03125 25.351562 \"/>\n",
       "<path style=\"fill-rule:nonzero;fill:rgb(94.117647%,95.686275%,95.294118%);fill-opacity:1;stroke-width:1;stroke-linecap:butt;stroke-linejoin:miter;stroke:rgb(0%,0%,0%);stroke-opacity:1;stroke-miterlimit:10;\" d=\"M 30 52.671875 C 30 58.195312 25.523438 62.671875 20 62.671875 C 14.476562 62.671875 10 58.195312 10 52.671875 C 10 47.148438 14.476562 42.671875 20 42.671875 C 25.523438 42.671875 30 47.148438 30 52.671875 \"/>\n",
       "<path style=\"fill-rule:nonzero;fill:rgb(69.411765%,88.235294%,85.490196%);fill-opacity:1;stroke-width:1;stroke-linecap:butt;stroke-linejoin:miter;stroke:rgb(0%,0%,0%);stroke-opacity:1;stroke-miterlimit:10;\" d=\"M 233.039062 74.574219 C 233.039062 80.097656 228.5625 84.574219 223.039062 84.574219 C 217.519531 84.574219 213.039062 80.097656 213.039062 74.574219 C 213.039062 69.050781 217.519531 64.574219 223.039062 64.574219 C 228.5625 64.574219 233.039062 69.050781 233.039062 74.574219 \"/>\n",
       "<path style=\"fill-rule:nonzero;fill:rgb(85.098039%,71.764706%,43.529412%);fill-opacity:1;stroke-width:1;stroke-linecap:butt;stroke-linejoin:miter;stroke:rgb(0%,0%,0%);stroke-opacity:1;stroke-miterlimit:10;\" d=\"M 270.992188 20 C 270.992188 25.523438 266.511719 30 260.992188 30 C 255.46875 30 250.992188 25.523438 250.992188 20 C 250.992188 14.476562 255.46875 10 260.992188 10 C 266.511719 10 270.992188 14.476562 270.992188 20 \"/>\n",
       "<path style=\"fill-rule:nonzero;fill:rgb(88.235294%,77.647059%,51.764706%);fill-opacity:1;stroke-width:1;stroke-linecap:butt;stroke-linejoin:miter;stroke:rgb(0%,0%,0%);stroke-opacity:1;stroke-miterlimit:10;\" d=\"M 378.992188 42.632812 C 378.992188 48.15625 374.515625 52.632812 368.992188 52.632812 C 363.46875 52.632812 358.992188 48.15625 358.992188 42.632812 C 358.992188 37.109375 363.46875 32.632812 368.992188 32.632812 C 374.515625 32.632812 378.992188 37.109375 378.992188 42.632812 \"/>\n",
       "</g>\n",
       "</svg>\n"
      ],
      "text/plain": [
       "<igraph.drawing.Plot at 0x12f217340>"
      ]
     },
     "execution_count": 12,
     "metadata": {
      "image/svg+xml": {
       "isolated": true
      }
     },
     "output_type": "execute_result"
    }
   ],
   "source": [
    "set_evec_colors(g, v[:, 2])\n",
    "ig.plot(g, layout = layout, bbox=(0, 0, 500, 200))"
   ]
  },
  {
   "cell_type": "code",
   "execution_count": 13,
   "metadata": {},
   "outputs": [
    {
     "data": {
      "image/svg+xml": [
       "<?xml version=\"1.0\" encoding=\"UTF-8\"?>\n",
       "<svg xmlns=\"http://www.w3.org/2000/svg\" xmlns:xlink=\"http://www.w3.org/1999/xlink\" width=\"500pt\" height=\"200pt\" viewBox=\"0 0 500 200\" version=\"1.1\">\n",
       "<g id=\"surface26\">\n",
       "<rect x=\"0\" y=\"0\" width=\"500\" height=\"200\" style=\"fill:rgb(100%,100%,100%);fill-opacity:1;stroke:none;\"/>\n",
       "<path style=\"fill:none;stroke-width:1;stroke-linecap:butt;stroke-linejoin:miter;stroke:rgb(26.666667%,26.666667%,26.666667%);stroke-opacity:1;stroke-miterlimit:10;\" d=\"M 480 147.328125 L 424.96875 174.648438 \"/>\n",
       "<path style=\"fill:none;stroke-width:1;stroke-linecap:butt;stroke-linejoin:miter;stroke:rgb(26.666667%,26.666667%,26.666667%);stroke-opacity:1;stroke-miterlimit:10;\" d=\"M 480 147.328125 L 276.960938 125.425781 \"/>\n",
       "<path style=\"fill:none;stroke-width:1;stroke-linecap:butt;stroke-linejoin:miter;stroke:rgb(26.666667%,26.666667%,26.666667%);stroke-opacity:1;stroke-miterlimit:10;\" d=\"M 480 147.328125 L 239.007812 180 \"/>\n",
       "<path style=\"fill:none;stroke-width:1;stroke-linecap:butt;stroke-linejoin:miter;stroke:rgb(26.666667%,26.666667%,26.666667%);stroke-opacity:1;stroke-miterlimit:10;\" d=\"M 480 147.328125 L 131.007812 157.367188 \"/>\n",
       "<path style=\"fill:none;stroke-width:1;stroke-linecap:butt;stroke-linejoin:miter;stroke:rgb(26.666667%,26.666667%,26.666667%);stroke-opacity:1;stroke-miterlimit:10;\" d=\"M 424.96875 174.648438 L 276.960938 125.425781 \"/>\n",
       "<path style=\"fill:none;stroke-width:1;stroke-linecap:butt;stroke-linejoin:miter;stroke:rgb(26.666667%,26.666667%,26.666667%);stroke-opacity:1;stroke-miterlimit:10;\" d=\"M 424.96875 174.648438 L 239.007812 180 \"/>\n",
       "<path style=\"fill:none;stroke-width:1;stroke-linecap:butt;stroke-linejoin:miter;stroke:rgb(26.666667%,26.666667%,26.666667%);stroke-opacity:1;stroke-miterlimit:10;\" d=\"M 424.96875 174.648438 L 131.007812 157.367188 \"/>\n",
       "<path style=\"fill:none;stroke-width:1;stroke-linecap:butt;stroke-linejoin:miter;stroke:rgb(26.666667%,26.666667%,26.666667%);stroke-opacity:1;stroke-miterlimit:10;\" d=\"M 276.960938 125.425781 L 239.007812 180 \"/>\n",
       "<path style=\"fill:none;stroke-width:1;stroke-linecap:butt;stroke-linejoin:miter;stroke:rgb(26.666667%,26.666667%,26.666667%);stroke-opacity:1;stroke-miterlimit:10;\" d=\"M 276.960938 125.425781 L 131.007812 157.367188 \"/>\n",
       "<path style=\"fill:none;stroke-width:1;stroke-linecap:butt;stroke-linejoin:miter;stroke:rgb(26.666667%,26.666667%,26.666667%);stroke-opacity:1;stroke-miterlimit:10;\" d=\"M 239.007812 180 L 131.007812 157.367188 \"/>\n",
       "<path style=\"fill:none;stroke-width:1;stroke-linecap:butt;stroke-linejoin:miter;stroke:rgb(26.666667%,26.666667%,26.666667%);stroke-opacity:1;stroke-miterlimit:10;\" d=\"M 75.03125 25.351562 L 20 52.671875 \"/>\n",
       "<path style=\"fill:none;stroke-width:1;stroke-linecap:butt;stroke-linejoin:miter;stroke:rgb(26.666667%,26.666667%,26.666667%);stroke-opacity:1;stroke-miterlimit:10;\" d=\"M 75.03125 25.351562 L 223.039062 74.574219 \"/>\n",
       "<path style=\"fill:none;stroke-width:1;stroke-linecap:butt;stroke-linejoin:miter;stroke:rgb(26.666667%,26.666667%,26.666667%);stroke-opacity:1;stroke-miterlimit:10;\" d=\"M 75.03125 25.351562 L 260.992188 20 \"/>\n",
       "<path style=\"fill:none;stroke-width:1;stroke-linecap:butt;stroke-linejoin:miter;stroke:rgb(26.666667%,26.666667%,26.666667%);stroke-opacity:1;stroke-miterlimit:10;\" d=\"M 75.03125 25.351562 L 368.992188 42.632812 \"/>\n",
       "<path style=\"fill:none;stroke-width:1;stroke-linecap:butt;stroke-linejoin:miter;stroke:rgb(26.666667%,26.666667%,26.666667%);stroke-opacity:1;stroke-miterlimit:10;\" d=\"M 20 52.671875 L 223.039062 74.574219 \"/>\n",
       "<path style=\"fill:none;stroke-width:1;stroke-linecap:butt;stroke-linejoin:miter;stroke:rgb(26.666667%,26.666667%,26.666667%);stroke-opacity:1;stroke-miterlimit:10;\" d=\"M 20 52.671875 L 260.992188 20 \"/>\n",
       "<path style=\"fill:none;stroke-width:1;stroke-linecap:butt;stroke-linejoin:miter;stroke:rgb(26.666667%,26.666667%,26.666667%);stroke-opacity:1;stroke-miterlimit:10;\" d=\"M 20 52.671875 L 368.992188 42.632812 \"/>\n",
       "<path style=\"fill:none;stroke-width:1;stroke-linecap:butt;stroke-linejoin:miter;stroke:rgb(26.666667%,26.666667%,26.666667%);stroke-opacity:1;stroke-miterlimit:10;\" d=\"M 223.039062 74.574219 L 260.992188 20 \"/>\n",
       "<path style=\"fill:none;stroke-width:1;stroke-linecap:butt;stroke-linejoin:miter;stroke:rgb(26.666667%,26.666667%,26.666667%);stroke-opacity:1;stroke-miterlimit:10;\" d=\"M 223.039062 74.574219 L 368.992188 42.632812 \"/>\n",
       "<path style=\"fill:none;stroke-width:1;stroke-linecap:butt;stroke-linejoin:miter;stroke:rgb(26.666667%,26.666667%,26.666667%);stroke-opacity:1;stroke-miterlimit:10;\" d=\"M 260.992188 20 L 368.992188 42.632812 \"/>\n",
       "<path style=\"fill:none;stroke-width:1;stroke-linecap:butt;stroke-linejoin:miter;stroke:rgb(26.666667%,26.666667%,26.666667%);stroke-opacity:1;stroke-miterlimit:10;\" d=\"M 276.960938 125.425781 L 223.039062 74.574219 \"/>\n",
       "<path style=\"fill-rule:nonzero;fill:rgb(96.078431%,96.078431%,95.686275%);fill-opacity:1;stroke-width:1;stroke-linecap:butt;stroke-linejoin:miter;stroke:rgb(0%,0%,0%);stroke-opacity:1;stroke-miterlimit:10;\" d=\"M 490 147.328125 C 490 152.851562 485.523438 157.328125 480 157.328125 C 474.476562 157.328125 470 152.851562 470 147.328125 C 470 141.804688 474.476562 137.328125 480 137.328125 C 485.523438 137.328125 490 141.804688 490 147.328125 \"/>\n",
       "<path style=\"fill-rule:nonzero;fill:rgb(85.098039%,71.764706%,43.529412%);fill-opacity:1;stroke-width:1;stroke-linecap:butt;stroke-linejoin:miter;stroke:rgb(0%,0%,0%);stroke-opacity:1;stroke-miterlimit:10;\" d=\"M 434.96875 174.648438 C 434.96875 180.171875 430.492188 184.648438 424.96875 184.648438 C 419.445312 184.648438 414.96875 180.171875 414.96875 174.648438 C 414.96875 169.128906 419.445312 164.648438 424.96875 164.648438 C 430.492188 164.648438 434.96875 169.128906 434.96875 174.648438 \"/>\n",
       "<path style=\"fill-rule:nonzero;fill:rgb(32.156863%,67.45098%,63.921569%);fill-opacity:1;stroke-width:1;stroke-linecap:butt;stroke-linejoin:miter;stroke:rgb(0%,0%,0%);stroke-opacity:1;stroke-miterlimit:10;\" d=\"M 286.960938 125.425781 C 286.960938 130.949219 282.480469 135.425781 276.960938 135.425781 C 271.4375 135.425781 266.960938 130.949219 266.960938 125.425781 C 266.960938 119.902344 271.4375 115.425781 276.960938 115.425781 C 282.480469 115.425781 286.960938 119.902344 286.960938 125.425781 \"/>\n",
       "<path style=\"fill-rule:nonzero;fill:rgb(86.27451%,73.72549%,45.882353%);fill-opacity:1;stroke-width:1;stroke-linecap:butt;stroke-linejoin:miter;stroke:rgb(0%,0%,0%);stroke-opacity:1;stroke-miterlimit:10;\" d=\"M 249.007812 180 C 249.007812 185.523438 244.53125 190 239.007812 190 C 233.488281 190 229.007812 185.523438 229.007812 180 C 229.007812 174.476562 233.488281 170 239.007812 170 C 244.53125 170 249.007812 174.476562 249.007812 180 \"/>\n",
       "<path style=\"fill-rule:nonzero;fill:rgb(59.607843%,84.313725%,80.392157%);fill-opacity:1;stroke-width:1;stroke-linecap:butt;stroke-linejoin:miter;stroke:rgb(0%,0%,0%);stroke-opacity:1;stroke-miterlimit:10;\" d=\"M 141.007812 157.367188 C 141.007812 162.890625 136.53125 167.367188 131.007812 167.367188 C 125.484375 167.367188 121.007812 162.890625 121.007812 157.367188 C 121.007812 151.84375 125.484375 147.367188 131.007812 147.367188 C 136.53125 147.367188 141.007812 151.84375 141.007812 157.367188 \"/>\n",
       "<path style=\"fill-rule:nonzero;fill:rgb(84.705882%,70.588235%,42.352941%);fill-opacity:1;stroke-width:1;stroke-linecap:butt;stroke-linejoin:miter;stroke:rgb(0%,0%,0%);stroke-opacity:1;stroke-miterlimit:10;\" d=\"M 85.03125 25.351562 C 85.03125 30.871094 80.554688 35.351562 75.03125 35.351562 C 69.507812 35.351562 65.03125 30.871094 65.03125 25.351562 C 65.03125 19.828125 69.507812 15.351562 75.03125 15.351562 C 80.554688 15.351562 85.03125 19.828125 85.03125 25.351562 \"/>\n",
       "<path style=\"fill-rule:nonzero;fill:rgb(78.039216%,91.764706%,89.803922%);fill-opacity:1;stroke-width:1;stroke-linecap:butt;stroke-linejoin:miter;stroke:rgb(0%,0%,0%);stroke-opacity:1;stroke-miterlimit:10;\" d=\"M 30 52.671875 C 30 58.195312 25.523438 62.671875 20 62.671875 C 14.476562 62.671875 10 58.195312 10 52.671875 C 10 47.148438 14.476562 42.671875 20 42.671875 C 25.523438 42.671875 30 47.148438 30 52.671875 \"/>\n",
       "<path style=\"fill-rule:nonzero;fill:rgb(32.156863%,67.45098%,63.921569%);fill-opacity:1;stroke-width:1;stroke-linecap:butt;stroke-linejoin:miter;stroke:rgb(0%,0%,0%);stroke-opacity:1;stroke-miterlimit:10;\" d=\"M 233.039062 74.574219 C 233.039062 80.097656 228.5625 84.574219 223.039062 84.574219 C 217.519531 84.574219 213.039062 80.097656 213.039062 74.574219 C 213.039062 69.050781 217.519531 64.574219 223.039062 64.574219 C 228.5625 64.574219 233.039062 69.050781 233.039062 74.574219 \"/>\n",
       "<path style=\"fill-rule:nonzero;fill:rgb(96.470588%,93.333333%,85.882353%);fill-opacity:1;stroke-width:1;stroke-linecap:butt;stroke-linejoin:miter;stroke:rgb(0%,0%,0%);stroke-opacity:1;stroke-miterlimit:10;\" d=\"M 270.992188 20 C 270.992188 25.523438 266.511719 30 260.992188 30 C 255.46875 30 250.992188 25.523438 250.992188 20 C 250.992188 14.476562 255.46875 10 260.992188 10 C 266.511719 10 270.992188 14.476562 270.992188 20 \"/>\n",
       "<path style=\"fill-rule:nonzero;fill:rgb(96.470588%,91.764706%,79.607843%);fill-opacity:1;stroke-width:1;stroke-linecap:butt;stroke-linejoin:miter;stroke:rgb(0%,0%,0%);stroke-opacity:1;stroke-miterlimit:10;\" d=\"M 378.992188 42.632812 C 378.992188 48.15625 374.515625 52.632812 368.992188 52.632812 C 363.46875 52.632812 358.992188 48.15625 358.992188 42.632812 C 358.992188 37.109375 363.46875 32.632812 368.992188 32.632812 C 374.515625 32.632812 378.992188 37.109375 378.992188 42.632812 \"/>\n",
       "</g>\n",
       "</svg>\n"
      ],
      "text/plain": [
       "<igraph.drawing.Plot at 0x12f1f0880>"
      ]
     },
     "execution_count": 13,
     "metadata": {
      "image/svg+xml": {
       "isolated": true
      }
     },
     "output_type": "execute_result"
    }
   ],
   "source": [
    "set_evec_colors(g, v[:, 3])\n",
    "ig.plot(g, layout = layout, bbox=(0, 0, 500, 200))"
   ]
  },
  {
   "cell_type": "code",
   "execution_count": 14,
   "metadata": {},
   "outputs": [
    {
     "data": {
      "image/svg+xml": [
       "<?xml version=\"1.0\" encoding=\"UTF-8\"?>\n",
       "<svg xmlns=\"http://www.w3.org/2000/svg\" xmlns:xlink=\"http://www.w3.org/1999/xlink\" width=\"500pt\" height=\"200pt\" viewBox=\"0 0 500 200\" version=\"1.1\">\n",
       "<g id=\"surface32\">\n",
       "<rect x=\"0\" y=\"0\" width=\"500\" height=\"200\" style=\"fill:rgb(100%,100%,100%);fill-opacity:1;stroke:none;\"/>\n",
       "<path style=\"fill:none;stroke-width:1;stroke-linecap:butt;stroke-linejoin:miter;stroke:rgb(26.666667%,26.666667%,26.666667%);stroke-opacity:1;stroke-miterlimit:10;\" d=\"M 480 147.328125 L 424.96875 174.648438 \"/>\n",
       "<path style=\"fill:none;stroke-width:1;stroke-linecap:butt;stroke-linejoin:miter;stroke:rgb(26.666667%,26.666667%,26.666667%);stroke-opacity:1;stroke-miterlimit:10;\" d=\"M 480 147.328125 L 276.960938 125.425781 \"/>\n",
       "<path style=\"fill:none;stroke-width:1;stroke-linecap:butt;stroke-linejoin:miter;stroke:rgb(26.666667%,26.666667%,26.666667%);stroke-opacity:1;stroke-miterlimit:10;\" d=\"M 480 147.328125 L 239.007812 180 \"/>\n",
       "<path style=\"fill:none;stroke-width:1;stroke-linecap:butt;stroke-linejoin:miter;stroke:rgb(26.666667%,26.666667%,26.666667%);stroke-opacity:1;stroke-miterlimit:10;\" d=\"M 480 147.328125 L 131.007812 157.367188 \"/>\n",
       "<path style=\"fill:none;stroke-width:1;stroke-linecap:butt;stroke-linejoin:miter;stroke:rgb(26.666667%,26.666667%,26.666667%);stroke-opacity:1;stroke-miterlimit:10;\" d=\"M 424.96875 174.648438 L 276.960938 125.425781 \"/>\n",
       "<path style=\"fill:none;stroke-width:1;stroke-linecap:butt;stroke-linejoin:miter;stroke:rgb(26.666667%,26.666667%,26.666667%);stroke-opacity:1;stroke-miterlimit:10;\" d=\"M 424.96875 174.648438 L 239.007812 180 \"/>\n",
       "<path style=\"fill:none;stroke-width:1;stroke-linecap:butt;stroke-linejoin:miter;stroke:rgb(26.666667%,26.666667%,26.666667%);stroke-opacity:1;stroke-miterlimit:10;\" d=\"M 424.96875 174.648438 L 131.007812 157.367188 \"/>\n",
       "<path style=\"fill:none;stroke-width:1;stroke-linecap:butt;stroke-linejoin:miter;stroke:rgb(26.666667%,26.666667%,26.666667%);stroke-opacity:1;stroke-miterlimit:10;\" d=\"M 276.960938 125.425781 L 239.007812 180 \"/>\n",
       "<path style=\"fill:none;stroke-width:1;stroke-linecap:butt;stroke-linejoin:miter;stroke:rgb(26.666667%,26.666667%,26.666667%);stroke-opacity:1;stroke-miterlimit:10;\" d=\"M 276.960938 125.425781 L 131.007812 157.367188 \"/>\n",
       "<path style=\"fill:none;stroke-width:1;stroke-linecap:butt;stroke-linejoin:miter;stroke:rgb(26.666667%,26.666667%,26.666667%);stroke-opacity:1;stroke-miterlimit:10;\" d=\"M 239.007812 180 L 131.007812 157.367188 \"/>\n",
       "<path style=\"fill:none;stroke-width:1;stroke-linecap:butt;stroke-linejoin:miter;stroke:rgb(26.666667%,26.666667%,26.666667%);stroke-opacity:1;stroke-miterlimit:10;\" d=\"M 75.03125 25.351562 L 20 52.671875 \"/>\n",
       "<path style=\"fill:none;stroke-width:1;stroke-linecap:butt;stroke-linejoin:miter;stroke:rgb(26.666667%,26.666667%,26.666667%);stroke-opacity:1;stroke-miterlimit:10;\" d=\"M 75.03125 25.351562 L 223.039062 74.574219 \"/>\n",
       "<path style=\"fill:none;stroke-width:1;stroke-linecap:butt;stroke-linejoin:miter;stroke:rgb(26.666667%,26.666667%,26.666667%);stroke-opacity:1;stroke-miterlimit:10;\" d=\"M 75.03125 25.351562 L 260.992188 20 \"/>\n",
       "<path style=\"fill:none;stroke-width:1;stroke-linecap:butt;stroke-linejoin:miter;stroke:rgb(26.666667%,26.666667%,26.666667%);stroke-opacity:1;stroke-miterlimit:10;\" d=\"M 75.03125 25.351562 L 368.992188 42.632812 \"/>\n",
       "<path style=\"fill:none;stroke-width:1;stroke-linecap:butt;stroke-linejoin:miter;stroke:rgb(26.666667%,26.666667%,26.666667%);stroke-opacity:1;stroke-miterlimit:10;\" d=\"M 20 52.671875 L 223.039062 74.574219 \"/>\n",
       "<path style=\"fill:none;stroke-width:1;stroke-linecap:butt;stroke-linejoin:miter;stroke:rgb(26.666667%,26.666667%,26.666667%);stroke-opacity:1;stroke-miterlimit:10;\" d=\"M 20 52.671875 L 260.992188 20 \"/>\n",
       "<path style=\"fill:none;stroke-width:1;stroke-linecap:butt;stroke-linejoin:miter;stroke:rgb(26.666667%,26.666667%,26.666667%);stroke-opacity:1;stroke-miterlimit:10;\" d=\"M 20 52.671875 L 368.992188 42.632812 \"/>\n",
       "<path style=\"fill:none;stroke-width:1;stroke-linecap:butt;stroke-linejoin:miter;stroke:rgb(26.666667%,26.666667%,26.666667%);stroke-opacity:1;stroke-miterlimit:10;\" d=\"M 223.039062 74.574219 L 260.992188 20 \"/>\n",
       "<path style=\"fill:none;stroke-width:1;stroke-linecap:butt;stroke-linejoin:miter;stroke:rgb(26.666667%,26.666667%,26.666667%);stroke-opacity:1;stroke-miterlimit:10;\" d=\"M 223.039062 74.574219 L 368.992188 42.632812 \"/>\n",
       "<path style=\"fill:none;stroke-width:1;stroke-linecap:butt;stroke-linejoin:miter;stroke:rgb(26.666667%,26.666667%,26.666667%);stroke-opacity:1;stroke-miterlimit:10;\" d=\"M 260.992188 20 L 368.992188 42.632812 \"/>\n",
       "<path style=\"fill:none;stroke-width:1;stroke-linecap:butt;stroke-linejoin:miter;stroke:rgb(26.666667%,26.666667%,26.666667%);stroke-opacity:1;stroke-miterlimit:10;\" d=\"M 276.960938 125.425781 L 223.039062 74.574219 \"/>\n",
       "<path style=\"fill-rule:nonzero;fill:rgb(0%,23.529412%,18.823529%);fill-opacity:1;stroke-width:1;stroke-linecap:butt;stroke-linejoin:miter;stroke:rgb(0%,0%,0%);stroke-opacity:1;stroke-miterlimit:10;\" d=\"M 490 147.328125 C 490 152.851562 485.523438 157.328125 480 157.328125 C 474.476562 157.328125 470 152.851562 470 147.328125 C 470 141.804688 474.476562 137.328125 480 137.328125 C 485.523438 137.328125 490 141.804688 490 147.328125 \"/>\n",
       "<path style=\"fill-rule:nonzero;fill:rgb(92.54902%,84.705882%,64.705882%);fill-opacity:1;stroke-width:1;stroke-linecap:butt;stroke-linejoin:miter;stroke:rgb(0%,0%,0%);stroke-opacity:1;stroke-miterlimit:10;\" d=\"M 434.96875 174.648438 C 434.96875 180.171875 430.492188 184.648438 424.96875 184.648438 C 419.445312 184.648438 414.96875 180.171875 414.96875 174.648438 C 414.96875 169.128906 419.445312 164.648438 424.96875 164.648438 C 430.492188 164.648438 434.96875 169.128906 434.96875 174.648438 \"/>\n",
       "<path style=\"fill-rule:nonzero;fill:rgb(96.470588%,92.941176%,83.529412%);fill-opacity:1;stroke-width:1;stroke-linecap:butt;stroke-linejoin:miter;stroke:rgb(0%,0%,0%);stroke-opacity:1;stroke-miterlimit:10;\" d=\"M 286.960938 125.425781 C 286.960938 130.949219 282.480469 135.425781 276.960938 135.425781 C 271.4375 135.425781 266.960938 130.949219 266.960938 125.425781 C 266.960938 119.902344 271.4375 115.425781 276.960938 115.425781 C 282.480469 115.425781 286.960938 119.902344 286.960938 125.425781 \"/>\n",
       "<path style=\"fill-rule:nonzero;fill:rgb(92.156863%,83.921569%,63.529412%);fill-opacity:1;stroke-width:1;stroke-linecap:butt;stroke-linejoin:miter;stroke:rgb(0%,0%,0%);stroke-opacity:1;stroke-miterlimit:10;\" d=\"M 249.007812 180 C 249.007812 185.523438 244.53125 190 239.007812 190 C 233.488281 190 229.007812 185.523438 229.007812 180 C 229.007812 174.476562 233.488281 170 239.007812 170 C 244.53125 170 249.007812 174.476562 249.007812 180 \"/>\n",
       "<path style=\"fill-rule:nonzero;fill:rgb(92.156863%,83.921569%,63.529412%);fill-opacity:1;stroke-width:1;stroke-linecap:butt;stroke-linejoin:miter;stroke:rgb(0%,0%,0%);stroke-opacity:1;stroke-miterlimit:10;\" d=\"M 141.007812 157.367188 C 141.007812 162.890625 136.53125 167.367188 131.007812 167.367188 C 125.484375 167.367188 121.007812 162.890625 121.007812 157.367188 C 121.007812 151.84375 125.484375 147.367188 131.007812 147.367188 C 136.53125 147.367188 141.007812 151.84375 141.007812 157.367188 \"/>\n",
       "<path style=\"fill-rule:nonzero;fill:rgb(92.941176%,95.294118%,94.901961%);fill-opacity:1;stroke-width:1;stroke-linecap:butt;stroke-linejoin:miter;stroke:rgb(0%,0%,0%);stroke-opacity:1;stroke-miterlimit:10;\" d=\"M 85.03125 25.351562 C 85.03125 30.871094 80.554688 35.351562 75.03125 35.351562 C 69.507812 35.351562 65.03125 30.871094 65.03125 25.351562 C 65.03125 19.828125 69.507812 15.351562 75.03125 15.351562 C 80.554688 15.351562 85.03125 19.828125 85.03125 25.351562 \"/>\n",
       "<path style=\"fill-rule:nonzero;fill:rgb(92.941176%,95.294118%,94.901961%);fill-opacity:1;stroke-width:1;stroke-linecap:butt;stroke-linejoin:miter;stroke:rgb(0%,0%,0%);stroke-opacity:1;stroke-miterlimit:10;\" d=\"M 30 52.671875 C 30 58.195312 25.523438 62.671875 20 62.671875 C 14.476562 62.671875 10 58.195312 10 52.671875 C 10 47.148438 14.476562 42.671875 20 42.671875 C 25.523438 42.671875 30 47.148438 30 52.671875 \"/>\n",
       "<path style=\"fill-rule:nonzero;fill:rgb(96.470588%,92.941176%,83.529412%);fill-opacity:1;stroke-width:1;stroke-linecap:butt;stroke-linejoin:miter;stroke:rgb(0%,0%,0%);stroke-opacity:1;stroke-miterlimit:10;\" d=\"M 233.039062 74.574219 C 233.039062 80.097656 228.5625 84.574219 223.039062 84.574219 C 217.519531 84.574219 213.039062 80.097656 213.039062 74.574219 C 213.039062 69.050781 217.519531 64.574219 223.039062 64.574219 C 228.5625 64.574219 233.039062 69.050781 233.039062 74.574219 \"/>\n",
       "<path style=\"fill-rule:nonzero;fill:rgb(92.941176%,95.294118%,94.901961%);fill-opacity:1;stroke-width:1;stroke-linecap:butt;stroke-linejoin:miter;stroke:rgb(0%,0%,0%);stroke-opacity:1;stroke-miterlimit:10;\" d=\"M 270.992188 20 C 270.992188 25.523438 266.511719 30 260.992188 30 C 255.46875 30 250.992188 25.523438 250.992188 20 C 250.992188 14.476562 255.46875 10 260.992188 10 C 266.511719 10 270.992188 14.476562 270.992188 20 \"/>\n",
       "<path style=\"fill-rule:nonzero;fill:rgb(92.941176%,95.294118%,94.901961%);fill-opacity:1;stroke-width:1;stroke-linecap:butt;stroke-linejoin:miter;stroke:rgb(0%,0%,0%);stroke-opacity:1;stroke-miterlimit:10;\" d=\"M 378.992188 42.632812 C 378.992188 48.15625 374.515625 52.632812 368.992188 52.632812 C 363.46875 52.632812 358.992188 48.15625 358.992188 42.632812 C 358.992188 37.109375 363.46875 32.632812 368.992188 32.632812 C 374.515625 32.632812 378.992188 37.109375 378.992188 42.632812 \"/>\n",
       "</g>\n",
       "</svg>\n"
      ],
      "text/plain": [
       "<igraph.drawing.Plot at 0x12f1f07f0>"
      ]
     },
     "execution_count": 14,
     "metadata": {
      "image/svg+xml": {
       "isolated": true
      }
     },
     "output_type": "execute_result"
    }
   ],
   "source": [
    "set_evec_colors(g, v[:, 4])\n",
    "ig.plot(g, layout = layout, bbox=(0, 0, 500, 200))"
   ]
  },
  {
   "cell_type": "code",
   "execution_count": 15,
   "metadata": {},
   "outputs": [
    {
     "data": {
      "image/svg+xml": [
       "<?xml version=\"1.0\" encoding=\"UTF-8\"?>\n",
       "<svg xmlns=\"http://www.w3.org/2000/svg\" xmlns:xlink=\"http://www.w3.org/1999/xlink\" width=\"500pt\" height=\"200pt\" viewBox=\"0 0 500 200\" version=\"1.1\">\n",
       "<g id=\"surface38\">\n",
       "<rect x=\"0\" y=\"0\" width=\"500\" height=\"200\" style=\"fill:rgb(100%,100%,100%);fill-opacity:1;stroke:none;\"/>\n",
       "<path style=\"fill:none;stroke-width:1;stroke-linecap:butt;stroke-linejoin:miter;stroke:rgb(26.666667%,26.666667%,26.666667%);stroke-opacity:1;stroke-miterlimit:10;\" d=\"M 480 147.328125 L 424.96875 174.648438 \"/>\n",
       "<path style=\"fill:none;stroke-width:1;stroke-linecap:butt;stroke-linejoin:miter;stroke:rgb(26.666667%,26.666667%,26.666667%);stroke-opacity:1;stroke-miterlimit:10;\" d=\"M 480 147.328125 L 276.960938 125.425781 \"/>\n",
       "<path style=\"fill:none;stroke-width:1;stroke-linecap:butt;stroke-linejoin:miter;stroke:rgb(26.666667%,26.666667%,26.666667%);stroke-opacity:1;stroke-miterlimit:10;\" d=\"M 480 147.328125 L 239.007812 180 \"/>\n",
       "<path style=\"fill:none;stroke-width:1;stroke-linecap:butt;stroke-linejoin:miter;stroke:rgb(26.666667%,26.666667%,26.666667%);stroke-opacity:1;stroke-miterlimit:10;\" d=\"M 480 147.328125 L 131.007812 157.367188 \"/>\n",
       "<path style=\"fill:none;stroke-width:1;stroke-linecap:butt;stroke-linejoin:miter;stroke:rgb(26.666667%,26.666667%,26.666667%);stroke-opacity:1;stroke-miterlimit:10;\" d=\"M 424.96875 174.648438 L 276.960938 125.425781 \"/>\n",
       "<path style=\"fill:none;stroke-width:1;stroke-linecap:butt;stroke-linejoin:miter;stroke:rgb(26.666667%,26.666667%,26.666667%);stroke-opacity:1;stroke-miterlimit:10;\" d=\"M 424.96875 174.648438 L 239.007812 180 \"/>\n",
       "<path style=\"fill:none;stroke-width:1;stroke-linecap:butt;stroke-linejoin:miter;stroke:rgb(26.666667%,26.666667%,26.666667%);stroke-opacity:1;stroke-miterlimit:10;\" d=\"M 424.96875 174.648438 L 131.007812 157.367188 \"/>\n",
       "<path style=\"fill:none;stroke-width:1;stroke-linecap:butt;stroke-linejoin:miter;stroke:rgb(26.666667%,26.666667%,26.666667%);stroke-opacity:1;stroke-miterlimit:10;\" d=\"M 276.960938 125.425781 L 239.007812 180 \"/>\n",
       "<path style=\"fill:none;stroke-width:1;stroke-linecap:butt;stroke-linejoin:miter;stroke:rgb(26.666667%,26.666667%,26.666667%);stroke-opacity:1;stroke-miterlimit:10;\" d=\"M 276.960938 125.425781 L 131.007812 157.367188 \"/>\n",
       "<path style=\"fill:none;stroke-width:1;stroke-linecap:butt;stroke-linejoin:miter;stroke:rgb(26.666667%,26.666667%,26.666667%);stroke-opacity:1;stroke-miterlimit:10;\" d=\"M 239.007812 180 L 131.007812 157.367188 \"/>\n",
       "<path style=\"fill:none;stroke-width:1;stroke-linecap:butt;stroke-linejoin:miter;stroke:rgb(26.666667%,26.666667%,26.666667%);stroke-opacity:1;stroke-miterlimit:10;\" d=\"M 75.03125 25.351562 L 20 52.671875 \"/>\n",
       "<path style=\"fill:none;stroke-width:1;stroke-linecap:butt;stroke-linejoin:miter;stroke:rgb(26.666667%,26.666667%,26.666667%);stroke-opacity:1;stroke-miterlimit:10;\" d=\"M 75.03125 25.351562 L 223.039062 74.574219 \"/>\n",
       "<path style=\"fill:none;stroke-width:1;stroke-linecap:butt;stroke-linejoin:miter;stroke:rgb(26.666667%,26.666667%,26.666667%);stroke-opacity:1;stroke-miterlimit:10;\" d=\"M 75.03125 25.351562 L 260.992188 20 \"/>\n",
       "<path style=\"fill:none;stroke-width:1;stroke-linecap:butt;stroke-linejoin:miter;stroke:rgb(26.666667%,26.666667%,26.666667%);stroke-opacity:1;stroke-miterlimit:10;\" d=\"M 75.03125 25.351562 L 368.992188 42.632812 \"/>\n",
       "<path style=\"fill:none;stroke-width:1;stroke-linecap:butt;stroke-linejoin:miter;stroke:rgb(26.666667%,26.666667%,26.666667%);stroke-opacity:1;stroke-miterlimit:10;\" d=\"M 20 52.671875 L 223.039062 74.574219 \"/>\n",
       "<path style=\"fill:none;stroke-width:1;stroke-linecap:butt;stroke-linejoin:miter;stroke:rgb(26.666667%,26.666667%,26.666667%);stroke-opacity:1;stroke-miterlimit:10;\" d=\"M 20 52.671875 L 260.992188 20 \"/>\n",
       "<path style=\"fill:none;stroke-width:1;stroke-linecap:butt;stroke-linejoin:miter;stroke:rgb(26.666667%,26.666667%,26.666667%);stroke-opacity:1;stroke-miterlimit:10;\" d=\"M 20 52.671875 L 368.992188 42.632812 \"/>\n",
       "<path style=\"fill:none;stroke-width:1;stroke-linecap:butt;stroke-linejoin:miter;stroke:rgb(26.666667%,26.666667%,26.666667%);stroke-opacity:1;stroke-miterlimit:10;\" d=\"M 223.039062 74.574219 L 260.992188 20 \"/>\n",
       "<path style=\"fill:none;stroke-width:1;stroke-linecap:butt;stroke-linejoin:miter;stroke:rgb(26.666667%,26.666667%,26.666667%);stroke-opacity:1;stroke-miterlimit:10;\" d=\"M 223.039062 74.574219 L 368.992188 42.632812 \"/>\n",
       "<path style=\"fill:none;stroke-width:1;stroke-linecap:butt;stroke-linejoin:miter;stroke:rgb(26.666667%,26.666667%,26.666667%);stroke-opacity:1;stroke-miterlimit:10;\" d=\"M 260.992188 20 L 368.992188 42.632812 \"/>\n",
       "<path style=\"fill:none;stroke-width:1;stroke-linecap:butt;stroke-linejoin:miter;stroke:rgb(26.666667%,26.666667%,26.666667%);stroke-opacity:1;stroke-miterlimit:10;\" d=\"M 276.960938 125.425781 L 223.039062 74.574219 \"/>\n",
       "<path style=\"fill-rule:nonzero;fill:rgb(95.686275%,96.078431%,96.078431%);fill-opacity:1;stroke-width:1;stroke-linecap:butt;stroke-linejoin:miter;stroke:rgb(0%,0%,0%);stroke-opacity:1;stroke-miterlimit:10;\" d=\"M 490 147.328125 C 490 152.851562 485.523438 157.328125 480 157.328125 C 474.476562 157.328125 470 152.851562 470 147.328125 C 470 141.804688 474.476562 137.328125 480 137.328125 C 485.523438 137.328125 490 141.804688 490 147.328125 \"/>\n",
       "<path style=\"fill-rule:nonzero;fill:rgb(96.470588%,91.764706%,79.607843%);fill-opacity:1;stroke-width:1;stroke-linecap:butt;stroke-linejoin:miter;stroke:rgb(0%,0%,0%);stroke-opacity:1;stroke-miterlimit:10;\" d=\"M 434.96875 174.648438 C 434.96875 180.171875 430.492188 184.648438 424.96875 184.648438 C 419.445312 184.648438 414.96875 180.171875 414.96875 174.648438 C 414.96875 169.128906 419.445312 164.648438 424.96875 164.648438 C 430.492188 164.648438 434.96875 169.128906 434.96875 174.648438 \"/>\n",
       "<path style=\"fill-rule:nonzero;fill:rgb(86.666667%,93.72549%,92.941176%);fill-opacity:1;stroke-width:1;stroke-linecap:butt;stroke-linejoin:miter;stroke:rgb(0%,0%,0%);stroke-opacity:1;stroke-miterlimit:10;\" d=\"M 286.960938 125.425781 C 286.960938 130.949219 282.480469 135.425781 276.960938 135.425781 C 271.4375 135.425781 266.960938 130.949219 266.960938 125.425781 C 266.960938 119.902344 271.4375 115.425781 276.960938 115.425781 C 282.480469 115.425781 286.960938 119.902344 286.960938 125.425781 \"/>\n",
       "<path style=\"fill-rule:nonzero;fill:rgb(82.352941%,92.941176%,91.372549%);fill-opacity:1;stroke-width:1;stroke-linecap:butt;stroke-linejoin:miter;stroke:rgb(0%,0%,0%);stroke-opacity:1;stroke-miterlimit:10;\" d=\"M 249.007812 180 C 249.007812 185.523438 244.53125 190 239.007812 190 C 233.488281 190 229.007812 185.523438 229.007812 180 C 229.007812 174.476562 233.488281 170 239.007812 170 C 244.53125 170 249.007812 174.476562 249.007812 180 \"/>\n",
       "<path style=\"fill-rule:nonzero;fill:rgb(96.078431%,93.72549%,87.058824%);fill-opacity:1;stroke-width:1;stroke-linecap:butt;stroke-linejoin:miter;stroke:rgb(0%,0%,0%);stroke-opacity:1;stroke-miterlimit:10;\" d=\"M 141.007812 157.367188 C 141.007812 162.890625 136.53125 167.367188 131.007812 167.367188 C 125.484375 167.367188 121.007812 162.890625 121.007812 157.367188 C 121.007812 151.84375 125.484375 147.367188 131.007812 147.367188 C 136.53125 147.367188 141.007812 151.84375 141.007812 157.367188 \"/>\n",
       "<path style=\"fill-rule:nonzero;fill:rgb(96.470588%,91.372549%,78.039216%);fill-opacity:1;stroke-width:1;stroke-linecap:butt;stroke-linejoin:miter;stroke:rgb(0%,0%,0%);stroke-opacity:1;stroke-miterlimit:10;\" d=\"M 85.03125 25.351562 C 85.03125 30.871094 80.554688 35.351562 75.03125 35.351562 C 69.507812 35.351562 65.03125 30.871094 65.03125 25.351562 C 65.03125 19.828125 69.507812 15.351562 75.03125 15.351562 C 80.554688 15.351562 85.03125 19.828125 85.03125 25.351562 \"/>\n",
       "<path style=\"fill-rule:nonzero;fill:rgb(90.980392%,81.568627%,59.215686%);fill-opacity:1;stroke-width:1;stroke-linecap:butt;stroke-linejoin:miter;stroke:rgb(0%,0%,0%);stroke-opacity:1;stroke-miterlimit:10;\" d=\"M 30 52.671875 C 30 58.195312 25.523438 62.671875 20 62.671875 C 14.476562 62.671875 10 58.195312 10 52.671875 C 10 47.148438 14.476562 42.671875 20 42.671875 C 25.523438 42.671875 30 47.148438 30 52.671875 \"/>\n",
       "<path style=\"fill-rule:nonzero;fill:rgb(86.666667%,93.72549%,92.941176%);fill-opacity:1;stroke-width:1;stroke-linecap:butt;stroke-linejoin:miter;stroke:rgb(0%,0%,0%);stroke-opacity:1;stroke-miterlimit:10;\" d=\"M 233.039062 74.574219 C 233.039062 80.097656 228.5625 84.574219 223.039062 84.574219 C 217.519531 84.574219 213.039062 80.097656 213.039062 74.574219 C 213.039062 69.050781 217.519531 64.574219 223.039062 64.574219 C 228.5625 64.574219 233.039062 69.050781 233.039062 74.574219 \"/>\n",
       "<path style=\"fill-rule:nonzero;fill:rgb(81.176471%,63.529412%,33.72549%);fill-opacity:1;stroke-width:1;stroke-linecap:butt;stroke-linejoin:miter;stroke:rgb(0%,0%,0%);stroke-opacity:1;stroke-miterlimit:10;\" d=\"M 270.992188 20 C 270.992188 25.523438 266.511719 30 260.992188 30 C 255.46875 30 250.992188 25.523438 250.992188 20 C 250.992188 14.476562 255.46875 10 260.992188 10 C 266.511719 10 270.992188 14.476562 270.992188 20 \"/>\n",
       "<path style=\"fill-rule:nonzero;fill:rgb(0%,31.372549%,27.45098%);fill-opacity:1;stroke-width:1;stroke-linecap:butt;stroke-linejoin:miter;stroke:rgb(0%,0%,0%);stroke-opacity:1;stroke-miterlimit:10;\" d=\"M 378.992188 42.632812 C 378.992188 48.15625 374.515625 52.632812 368.992188 52.632812 C 363.46875 52.632812 358.992188 48.15625 358.992188 42.632812 C 358.992188 37.109375 363.46875 32.632812 368.992188 32.632812 C 374.515625 32.632812 378.992188 37.109375 378.992188 42.632812 \"/>\n",
       "</g>\n",
       "</svg>\n"
      ],
      "text/plain": [
       "<igraph.drawing.Plot at 0x124c77130>"
      ]
     },
     "execution_count": 15,
     "metadata": {
      "image/svg+xml": {
       "isolated": true
      }
     },
     "output_type": "execute_result"
    }
   ],
   "source": [
    "set_evec_colors(g, v[:, 5])\n",
    "ig.plot(g, layout = layout, bbox=(0, 0, 500, 200))"
   ]
  },
  {
   "cell_type": "code",
   "execution_count": 16,
   "metadata": {},
   "outputs": [
    {
     "data": {
      "image/svg+xml": [
       "<?xml version=\"1.0\" encoding=\"UTF-8\"?>\n",
       "<svg xmlns=\"http://www.w3.org/2000/svg\" xmlns:xlink=\"http://www.w3.org/1999/xlink\" width=\"500pt\" height=\"200pt\" viewBox=\"0 0 500 200\" version=\"1.1\">\n",
       "<g id=\"surface44\">\n",
       "<rect x=\"0\" y=\"0\" width=\"500\" height=\"200\" style=\"fill:rgb(100%,100%,100%);fill-opacity:1;stroke:none;\"/>\n",
       "<path style=\"fill:none;stroke-width:1;stroke-linecap:butt;stroke-linejoin:miter;stroke:rgb(26.666667%,26.666667%,26.666667%);stroke-opacity:1;stroke-miterlimit:10;\" d=\"M 480 147.328125 L 424.96875 174.648438 \"/>\n",
       "<path style=\"fill:none;stroke-width:1;stroke-linecap:butt;stroke-linejoin:miter;stroke:rgb(26.666667%,26.666667%,26.666667%);stroke-opacity:1;stroke-miterlimit:10;\" d=\"M 480 147.328125 L 276.960938 125.425781 \"/>\n",
       "<path style=\"fill:none;stroke-width:1;stroke-linecap:butt;stroke-linejoin:miter;stroke:rgb(26.666667%,26.666667%,26.666667%);stroke-opacity:1;stroke-miterlimit:10;\" d=\"M 480 147.328125 L 239.007812 180 \"/>\n",
       "<path style=\"fill:none;stroke-width:1;stroke-linecap:butt;stroke-linejoin:miter;stroke:rgb(26.666667%,26.666667%,26.666667%);stroke-opacity:1;stroke-miterlimit:10;\" d=\"M 480 147.328125 L 131.007812 157.367188 \"/>\n",
       "<path style=\"fill:none;stroke-width:1;stroke-linecap:butt;stroke-linejoin:miter;stroke:rgb(26.666667%,26.666667%,26.666667%);stroke-opacity:1;stroke-miterlimit:10;\" d=\"M 424.96875 174.648438 L 276.960938 125.425781 \"/>\n",
       "<path style=\"fill:none;stroke-width:1;stroke-linecap:butt;stroke-linejoin:miter;stroke:rgb(26.666667%,26.666667%,26.666667%);stroke-opacity:1;stroke-miterlimit:10;\" d=\"M 424.96875 174.648438 L 239.007812 180 \"/>\n",
       "<path style=\"fill:none;stroke-width:1;stroke-linecap:butt;stroke-linejoin:miter;stroke:rgb(26.666667%,26.666667%,26.666667%);stroke-opacity:1;stroke-miterlimit:10;\" d=\"M 424.96875 174.648438 L 131.007812 157.367188 \"/>\n",
       "<path style=\"fill:none;stroke-width:1;stroke-linecap:butt;stroke-linejoin:miter;stroke:rgb(26.666667%,26.666667%,26.666667%);stroke-opacity:1;stroke-miterlimit:10;\" d=\"M 276.960938 125.425781 L 239.007812 180 \"/>\n",
       "<path style=\"fill:none;stroke-width:1;stroke-linecap:butt;stroke-linejoin:miter;stroke:rgb(26.666667%,26.666667%,26.666667%);stroke-opacity:1;stroke-miterlimit:10;\" d=\"M 276.960938 125.425781 L 131.007812 157.367188 \"/>\n",
       "<path style=\"fill:none;stroke-width:1;stroke-linecap:butt;stroke-linejoin:miter;stroke:rgb(26.666667%,26.666667%,26.666667%);stroke-opacity:1;stroke-miterlimit:10;\" d=\"M 239.007812 180 L 131.007812 157.367188 \"/>\n",
       "<path style=\"fill:none;stroke-width:1;stroke-linecap:butt;stroke-linejoin:miter;stroke:rgb(26.666667%,26.666667%,26.666667%);stroke-opacity:1;stroke-miterlimit:10;\" d=\"M 75.03125 25.351562 L 20 52.671875 \"/>\n",
       "<path style=\"fill:none;stroke-width:1;stroke-linecap:butt;stroke-linejoin:miter;stroke:rgb(26.666667%,26.666667%,26.666667%);stroke-opacity:1;stroke-miterlimit:10;\" d=\"M 75.03125 25.351562 L 223.039062 74.574219 \"/>\n",
       "<path style=\"fill:none;stroke-width:1;stroke-linecap:butt;stroke-linejoin:miter;stroke:rgb(26.666667%,26.666667%,26.666667%);stroke-opacity:1;stroke-miterlimit:10;\" d=\"M 75.03125 25.351562 L 260.992188 20 \"/>\n",
       "<path style=\"fill:none;stroke-width:1;stroke-linecap:butt;stroke-linejoin:miter;stroke:rgb(26.666667%,26.666667%,26.666667%);stroke-opacity:1;stroke-miterlimit:10;\" d=\"M 75.03125 25.351562 L 368.992188 42.632812 \"/>\n",
       "<path style=\"fill:none;stroke-width:1;stroke-linecap:butt;stroke-linejoin:miter;stroke:rgb(26.666667%,26.666667%,26.666667%);stroke-opacity:1;stroke-miterlimit:10;\" d=\"M 20 52.671875 L 223.039062 74.574219 \"/>\n",
       "<path style=\"fill:none;stroke-width:1;stroke-linecap:butt;stroke-linejoin:miter;stroke:rgb(26.666667%,26.666667%,26.666667%);stroke-opacity:1;stroke-miterlimit:10;\" d=\"M 20 52.671875 L 260.992188 20 \"/>\n",
       "<path style=\"fill:none;stroke-width:1;stroke-linecap:butt;stroke-linejoin:miter;stroke:rgb(26.666667%,26.666667%,26.666667%);stroke-opacity:1;stroke-miterlimit:10;\" d=\"M 20 52.671875 L 368.992188 42.632812 \"/>\n",
       "<path style=\"fill:none;stroke-width:1;stroke-linecap:butt;stroke-linejoin:miter;stroke:rgb(26.666667%,26.666667%,26.666667%);stroke-opacity:1;stroke-miterlimit:10;\" d=\"M 223.039062 74.574219 L 260.992188 20 \"/>\n",
       "<path style=\"fill:none;stroke-width:1;stroke-linecap:butt;stroke-linejoin:miter;stroke:rgb(26.666667%,26.666667%,26.666667%);stroke-opacity:1;stroke-miterlimit:10;\" d=\"M 223.039062 74.574219 L 368.992188 42.632812 \"/>\n",
       "<path style=\"fill:none;stroke-width:1;stroke-linecap:butt;stroke-linejoin:miter;stroke:rgb(26.666667%,26.666667%,26.666667%);stroke-opacity:1;stroke-miterlimit:10;\" d=\"M 260.992188 20 L 368.992188 42.632812 \"/>\n",
       "<path style=\"fill:none;stroke-width:1;stroke-linecap:butt;stroke-linejoin:miter;stroke:rgb(26.666667%,26.666667%,26.666667%);stroke-opacity:1;stroke-miterlimit:10;\" d=\"M 276.960938 125.425781 L 223.039062 74.574219 \"/>\n",
       "<path style=\"fill-rule:nonzero;fill:rgb(95.686275%,96.078431%,96.078431%);fill-opacity:1;stroke-width:1;stroke-linecap:butt;stroke-linejoin:miter;stroke:rgb(0%,0%,0%);stroke-opacity:1;stroke-miterlimit:10;\" d=\"M 490 147.328125 C 490 152.851562 485.523438 157.328125 480 157.328125 C 474.476562 157.328125 470 152.851562 470 147.328125 C 470 141.804688 474.476562 137.328125 480 137.328125 C 485.523438 137.328125 490 141.804688 490 147.328125 \"/>\n",
       "<path style=\"fill-rule:nonzero;fill:rgb(65.882353%,86.666667%,83.529412%);fill-opacity:1;stroke-width:1;stroke-linecap:butt;stroke-linejoin:miter;stroke:rgb(0%,0%,0%);stroke-opacity:1;stroke-miterlimit:10;\" d=\"M 434.96875 174.648438 C 434.96875 180.171875 430.492188 184.648438 424.96875 184.648438 C 419.445312 184.648438 414.96875 180.171875 414.96875 174.648438 C 414.96875 169.128906 419.445312 164.648438 424.96875 164.648438 C 430.492188 164.648438 434.96875 169.128906 434.96875 174.648438 \"/>\n",
       "<path style=\"fill-rule:nonzero;fill:rgb(96.470588%,91.764706%,78.823529%);fill-opacity:1;stroke-width:1;stroke-linecap:butt;stroke-linejoin:miter;stroke:rgb(0%,0%,0%);stroke-opacity:1;stroke-miterlimit:10;\" d=\"M 286.960938 125.425781 C 286.960938 130.949219 282.480469 135.425781 276.960938 135.425781 C 271.4375 135.425781 266.960938 130.949219 266.960938 125.425781 C 266.960938 119.902344 271.4375 115.425781 276.960938 115.425781 C 282.480469 115.425781 286.960938 119.902344 286.960938 125.425781 \"/>\n",
       "<path style=\"fill-rule:nonzero;fill:rgb(95.294118%,89.411765%,73.333333%);fill-opacity:1;stroke-width:1;stroke-linecap:butt;stroke-linejoin:miter;stroke:rgb(0%,0%,0%);stroke-opacity:1;stroke-miterlimit:10;\" d=\"M 249.007812 180 C 249.007812 185.523438 244.53125 190 239.007812 190 C 233.488281 190 229.007812 185.523438 229.007812 180 C 229.007812 174.476562 233.488281 170 239.007812 170 C 244.53125 170 249.007812 174.476562 249.007812 180 \"/>\n",
       "<path style=\"fill-rule:nonzero;fill:rgb(85.098039%,93.333333%,92.156863%);fill-opacity:1;stroke-width:1;stroke-linecap:butt;stroke-linejoin:miter;stroke:rgb(0%,0%,0%);stroke-opacity:1;stroke-miterlimit:10;\" d=\"M 141.007812 157.367188 C 141.007812 162.890625 136.53125 167.367188 131.007812 167.367188 C 125.484375 167.367188 121.007812 162.890625 121.007812 157.367188 C 121.007812 151.84375 125.484375 147.367188 131.007812 147.367188 C 136.53125 147.367188 141.007812 151.84375 141.007812 157.367188 \"/>\n",
       "<path style=\"fill-rule:nonzero;fill:rgb(86.666667%,93.72549%,92.941176%);fill-opacity:1;stroke-width:1;stroke-linecap:butt;stroke-linejoin:miter;stroke:rgb(0%,0%,0%);stroke-opacity:1;stroke-miterlimit:10;\" d=\"M 85.03125 25.351562 C 85.03125 30.871094 80.554688 35.351562 75.03125 35.351562 C 69.507812 35.351562 65.03125 30.871094 65.03125 25.351562 C 65.03125 19.828125 69.507812 15.351562 75.03125 15.351562 C 80.554688 15.351562 85.03125 19.828125 85.03125 25.351562 \"/>\n",
       "<path style=\"fill-rule:nonzero;fill:rgb(5.490196%,44.705882%,41.568627%);fill-opacity:1;stroke-width:1;stroke-linecap:butt;stroke-linejoin:miter;stroke:rgb(0%,0%,0%);stroke-opacity:1;stroke-miterlimit:10;\" d=\"M 30 52.671875 C 30 58.195312 25.523438 62.671875 20 62.671875 C 14.476562 62.671875 10 58.195312 10 52.671875 C 10 47.148438 14.476562 42.671875 20 42.671875 C 25.523438 42.671875 30 47.148438 30 52.671875 \"/>\n",
       "<path style=\"fill-rule:nonzero;fill:rgb(96.470588%,91.764706%,78.823529%);fill-opacity:1;stroke-width:1;stroke-linecap:butt;stroke-linejoin:miter;stroke:rgb(0%,0%,0%);stroke-opacity:1;stroke-miterlimit:10;\" d=\"M 233.039062 74.574219 C 233.039062 80.097656 228.5625 84.574219 223.039062 84.574219 C 217.519531 84.574219 213.039062 80.097656 213.039062 74.574219 C 213.039062 69.050781 217.519531 64.574219 223.039062 64.574219 C 228.5625 64.574219 233.039062 69.050781 233.039062 74.574219 \"/>\n",
       "<path style=\"fill-rule:nonzero;fill:rgb(63.137255%,39.607843%,9.411765%);fill-opacity:1;stroke-width:1;stroke-linecap:butt;stroke-linejoin:miter;stroke:rgb(0%,0%,0%);stroke-opacity:1;stroke-miterlimit:10;\" d=\"M 270.992188 20 C 270.992188 25.523438 266.511719 30 260.992188 30 C 255.46875 30 250.992188 25.523438 250.992188 20 C 250.992188 14.476562 255.46875 10 260.992188 10 C 266.511719 10 270.992188 14.476562 270.992188 20 \"/>\n",
       "<path style=\"fill-rule:nonzero;fill:rgb(92.941176%,95.294118%,94.901961%);fill-opacity:1;stroke-width:1;stroke-linecap:butt;stroke-linejoin:miter;stroke:rgb(0%,0%,0%);stroke-opacity:1;stroke-miterlimit:10;\" d=\"M 378.992188 42.632812 C 378.992188 48.15625 374.515625 52.632812 368.992188 52.632812 C 363.46875 52.632812 358.992188 48.15625 358.992188 42.632812 C 358.992188 37.109375 363.46875 32.632812 368.992188 32.632812 C 374.515625 32.632812 378.992188 37.109375 378.992188 42.632812 \"/>\n",
       "</g>\n",
       "</svg>\n"
      ],
      "text/plain": [
       "<igraph.drawing.Plot at 0x124d31550>"
      ]
     },
     "execution_count": 16,
     "metadata": {
      "image/svg+xml": {
       "isolated": true
      }
     },
     "output_type": "execute_result"
    }
   ],
   "source": [
    "set_evec_colors(g, v[:, 6])\n",
    "ig.plot(g, layout = layout, bbox=(0, 0, 500, 200))"
   ]
  },
  {
   "cell_type": "code",
   "execution_count": 17,
   "metadata": {},
   "outputs": [
    {
     "data": {
      "image/svg+xml": [
       "<?xml version=\"1.0\" encoding=\"UTF-8\"?>\n",
       "<svg xmlns=\"http://www.w3.org/2000/svg\" xmlns:xlink=\"http://www.w3.org/1999/xlink\" width=\"500pt\" height=\"200pt\" viewBox=\"0 0 500 200\" version=\"1.1\">\n",
       "<g id=\"surface50\">\n",
       "<rect x=\"0\" y=\"0\" width=\"500\" height=\"200\" style=\"fill:rgb(100%,100%,100%);fill-opacity:1;stroke:none;\"/>\n",
       "<path style=\"fill:none;stroke-width:1;stroke-linecap:butt;stroke-linejoin:miter;stroke:rgb(26.666667%,26.666667%,26.666667%);stroke-opacity:1;stroke-miterlimit:10;\" d=\"M 480 147.328125 L 424.96875 174.648438 \"/>\n",
       "<path style=\"fill:none;stroke-width:1;stroke-linecap:butt;stroke-linejoin:miter;stroke:rgb(26.666667%,26.666667%,26.666667%);stroke-opacity:1;stroke-miterlimit:10;\" d=\"M 480 147.328125 L 276.960938 125.425781 \"/>\n",
       "<path style=\"fill:none;stroke-width:1;stroke-linecap:butt;stroke-linejoin:miter;stroke:rgb(26.666667%,26.666667%,26.666667%);stroke-opacity:1;stroke-miterlimit:10;\" d=\"M 480 147.328125 L 239.007812 180 \"/>\n",
       "<path style=\"fill:none;stroke-width:1;stroke-linecap:butt;stroke-linejoin:miter;stroke:rgb(26.666667%,26.666667%,26.666667%);stroke-opacity:1;stroke-miterlimit:10;\" d=\"M 480 147.328125 L 131.007812 157.367188 \"/>\n",
       "<path style=\"fill:none;stroke-width:1;stroke-linecap:butt;stroke-linejoin:miter;stroke:rgb(26.666667%,26.666667%,26.666667%);stroke-opacity:1;stroke-miterlimit:10;\" d=\"M 424.96875 174.648438 L 276.960938 125.425781 \"/>\n",
       "<path style=\"fill:none;stroke-width:1;stroke-linecap:butt;stroke-linejoin:miter;stroke:rgb(26.666667%,26.666667%,26.666667%);stroke-opacity:1;stroke-miterlimit:10;\" d=\"M 424.96875 174.648438 L 239.007812 180 \"/>\n",
       "<path style=\"fill:none;stroke-width:1;stroke-linecap:butt;stroke-linejoin:miter;stroke:rgb(26.666667%,26.666667%,26.666667%);stroke-opacity:1;stroke-miterlimit:10;\" d=\"M 424.96875 174.648438 L 131.007812 157.367188 \"/>\n",
       "<path style=\"fill:none;stroke-width:1;stroke-linecap:butt;stroke-linejoin:miter;stroke:rgb(26.666667%,26.666667%,26.666667%);stroke-opacity:1;stroke-miterlimit:10;\" d=\"M 276.960938 125.425781 L 239.007812 180 \"/>\n",
       "<path style=\"fill:none;stroke-width:1;stroke-linecap:butt;stroke-linejoin:miter;stroke:rgb(26.666667%,26.666667%,26.666667%);stroke-opacity:1;stroke-miterlimit:10;\" d=\"M 276.960938 125.425781 L 131.007812 157.367188 \"/>\n",
       "<path style=\"fill:none;stroke-width:1;stroke-linecap:butt;stroke-linejoin:miter;stroke:rgb(26.666667%,26.666667%,26.666667%);stroke-opacity:1;stroke-miterlimit:10;\" d=\"M 239.007812 180 L 131.007812 157.367188 \"/>\n",
       "<path style=\"fill:none;stroke-width:1;stroke-linecap:butt;stroke-linejoin:miter;stroke:rgb(26.666667%,26.666667%,26.666667%);stroke-opacity:1;stroke-miterlimit:10;\" d=\"M 75.03125 25.351562 L 20 52.671875 \"/>\n",
       "<path style=\"fill:none;stroke-width:1;stroke-linecap:butt;stroke-linejoin:miter;stroke:rgb(26.666667%,26.666667%,26.666667%);stroke-opacity:1;stroke-miterlimit:10;\" d=\"M 75.03125 25.351562 L 223.039062 74.574219 \"/>\n",
       "<path style=\"fill:none;stroke-width:1;stroke-linecap:butt;stroke-linejoin:miter;stroke:rgb(26.666667%,26.666667%,26.666667%);stroke-opacity:1;stroke-miterlimit:10;\" d=\"M 75.03125 25.351562 L 260.992188 20 \"/>\n",
       "<path style=\"fill:none;stroke-width:1;stroke-linecap:butt;stroke-linejoin:miter;stroke:rgb(26.666667%,26.666667%,26.666667%);stroke-opacity:1;stroke-miterlimit:10;\" d=\"M 75.03125 25.351562 L 368.992188 42.632812 \"/>\n",
       "<path style=\"fill:none;stroke-width:1;stroke-linecap:butt;stroke-linejoin:miter;stroke:rgb(26.666667%,26.666667%,26.666667%);stroke-opacity:1;stroke-miterlimit:10;\" d=\"M 20 52.671875 L 223.039062 74.574219 \"/>\n",
       "<path style=\"fill:none;stroke-width:1;stroke-linecap:butt;stroke-linejoin:miter;stroke:rgb(26.666667%,26.666667%,26.666667%);stroke-opacity:1;stroke-miterlimit:10;\" d=\"M 20 52.671875 L 260.992188 20 \"/>\n",
       "<path style=\"fill:none;stroke-width:1;stroke-linecap:butt;stroke-linejoin:miter;stroke:rgb(26.666667%,26.666667%,26.666667%);stroke-opacity:1;stroke-miterlimit:10;\" d=\"M 20 52.671875 L 368.992188 42.632812 \"/>\n",
       "<path style=\"fill:none;stroke-width:1;stroke-linecap:butt;stroke-linejoin:miter;stroke:rgb(26.666667%,26.666667%,26.666667%);stroke-opacity:1;stroke-miterlimit:10;\" d=\"M 223.039062 74.574219 L 260.992188 20 \"/>\n",
       "<path style=\"fill:none;stroke-width:1;stroke-linecap:butt;stroke-linejoin:miter;stroke:rgb(26.666667%,26.666667%,26.666667%);stroke-opacity:1;stroke-miterlimit:10;\" d=\"M 223.039062 74.574219 L 368.992188 42.632812 \"/>\n",
       "<path style=\"fill:none;stroke-width:1;stroke-linecap:butt;stroke-linejoin:miter;stroke:rgb(26.666667%,26.666667%,26.666667%);stroke-opacity:1;stroke-miterlimit:10;\" d=\"M 260.992188 20 L 368.992188 42.632812 \"/>\n",
       "<path style=\"fill:none;stroke-width:1;stroke-linecap:butt;stroke-linejoin:miter;stroke:rgb(26.666667%,26.666667%,26.666667%);stroke-opacity:1;stroke-miterlimit:10;\" d=\"M 276.960938 125.425781 L 223.039062 74.574219 \"/>\n",
       "<path style=\"fill-rule:nonzero;fill:rgb(96.470588%,92.54902%,82.745098%);fill-opacity:1;stroke-width:1;stroke-linecap:butt;stroke-linejoin:miter;stroke:rgb(0%,0%,0%);stroke-opacity:1;stroke-miterlimit:10;\" d=\"M 490 147.328125 C 490 152.851562 485.523438 157.328125 480 157.328125 C 474.476562 157.328125 470 152.851562 470 147.328125 C 470 141.804688 474.476562 137.328125 480 137.328125 C 485.523438 137.328125 490 141.804688 490 147.328125 \"/>\n",
       "<path style=\"fill-rule:nonzero;fill:rgb(96.470588%,92.54902%,82.745098%);fill-opacity:1;stroke-width:1;stroke-linecap:butt;stroke-linejoin:miter;stroke:rgb(0%,0%,0%);stroke-opacity:1;stroke-miterlimit:10;\" d=\"M 434.96875 174.648438 C 434.96875 180.171875 430.492188 184.648438 424.96875 184.648438 C 419.445312 184.648438 414.96875 180.171875 414.96875 174.648438 C 414.96875 169.128906 419.445312 164.648438 424.96875 164.648438 C 430.492188 164.648438 434.96875 169.128906 434.96875 174.648438 \"/>\n",
       "<path style=\"fill-rule:nonzero;fill:rgb(3.921569%,43.529412%,40.392157%);fill-opacity:1;stroke-width:1;stroke-linecap:butt;stroke-linejoin:miter;stroke:rgb(0%,0%,0%);stroke-opacity:1;stroke-miterlimit:10;\" d=\"M 286.960938 125.425781 C 286.960938 130.949219 282.480469 135.425781 276.960938 135.425781 C 271.4375 135.425781 266.960938 130.949219 266.960938 125.425781 C 266.960938 119.902344 271.4375 115.425781 276.960938 115.425781 C 282.480469 115.425781 286.960938 119.902344 286.960938 125.425781 \"/>\n",
       "<path style=\"fill-rule:nonzero;fill:rgb(96.470588%,92.54902%,82.745098%);fill-opacity:1;stroke-width:1;stroke-linecap:butt;stroke-linejoin:miter;stroke:rgb(0%,0%,0%);stroke-opacity:1;stroke-miterlimit:10;\" d=\"M 249.007812 180 C 249.007812 185.523438 244.53125 190 239.007812 190 C 233.488281 190 229.007812 185.523438 229.007812 180 C 229.007812 174.476562 233.488281 170 239.007812 170 C 244.53125 170 249.007812 174.476562 249.007812 180 \"/>\n",
       "<path style=\"fill-rule:nonzero;fill:rgb(96.470588%,92.54902%,82.745098%);fill-opacity:1;stroke-width:1;stroke-linecap:butt;stroke-linejoin:miter;stroke:rgb(0%,0%,0%);stroke-opacity:1;stroke-miterlimit:10;\" d=\"M 141.007812 157.367188 C 141.007812 162.890625 136.53125 167.367188 131.007812 167.367188 C 125.484375 167.367188 121.007812 162.890625 121.007812 157.367188 C 121.007812 151.84375 125.484375 147.367188 131.007812 147.367188 C 136.53125 147.367188 141.007812 151.84375 141.007812 157.367188 \"/>\n",
       "<path style=\"fill-rule:nonzero;fill:rgb(83.529412%,92.941176%,91.764706%);fill-opacity:1;stroke-width:1;stroke-linecap:butt;stroke-linejoin:miter;stroke:rgb(0%,0%,0%);stroke-opacity:1;stroke-miterlimit:10;\" d=\"M 85.03125 25.351562 C 85.03125 30.871094 80.554688 35.351562 75.03125 35.351562 C 69.507812 35.351562 65.03125 30.871094 65.03125 25.351562 C 65.03125 19.828125 69.507812 15.351562 75.03125 15.351562 C 80.554688 15.351562 85.03125 19.828125 85.03125 25.351562 \"/>\n",
       "<path style=\"fill-rule:nonzero;fill:rgb(83.529412%,92.941176%,91.764706%);fill-opacity:1;stroke-width:1;stroke-linecap:butt;stroke-linejoin:miter;stroke:rgb(0%,0%,0%);stroke-opacity:1;stroke-miterlimit:10;\" d=\"M 30 52.671875 C 30 58.195312 25.523438 62.671875 20 62.671875 C 14.476562 62.671875 10 58.195312 10 52.671875 C 10 47.148438 14.476562 42.671875 20 42.671875 C 25.523438 42.671875 30 47.148438 30 52.671875 \"/>\n",
       "<path style=\"fill-rule:nonzero;fill:rgb(58.431373%,34.901961%,6.27451%);fill-opacity:1;stroke-width:1;stroke-linecap:butt;stroke-linejoin:miter;stroke:rgb(0%,0%,0%);stroke-opacity:1;stroke-miterlimit:10;\" d=\"M 233.039062 74.574219 C 233.039062 80.097656 228.5625 84.574219 223.039062 84.574219 C 217.519531 84.574219 213.039062 80.097656 213.039062 74.574219 C 213.039062 69.050781 217.519531 64.574219 223.039062 64.574219 C 228.5625 64.574219 233.039062 69.050781 233.039062 74.574219 \"/>\n",
       "<path style=\"fill-rule:nonzero;fill:rgb(83.529412%,92.941176%,91.764706%);fill-opacity:1;stroke-width:1;stroke-linecap:butt;stroke-linejoin:miter;stroke:rgb(0%,0%,0%);stroke-opacity:1;stroke-miterlimit:10;\" d=\"M 270.992188 20 C 270.992188 25.523438 266.511719 30 260.992188 30 C 255.46875 30 250.992188 25.523438 250.992188 20 C 250.992188 14.476562 255.46875 10 260.992188 10 C 266.511719 10 270.992188 14.476562 270.992188 20 \"/>\n",
       "<path style=\"fill-rule:nonzero;fill:rgb(83.529412%,92.941176%,91.764706%);fill-opacity:1;stroke-width:1;stroke-linecap:butt;stroke-linejoin:miter;stroke:rgb(0%,0%,0%);stroke-opacity:1;stroke-miterlimit:10;\" d=\"M 378.992188 42.632812 C 378.992188 48.15625 374.515625 52.632812 368.992188 52.632812 C 363.46875 52.632812 358.992188 48.15625 358.992188 42.632812 C 358.992188 37.109375 363.46875 32.632812 368.992188 32.632812 C 374.515625 32.632812 378.992188 37.109375 378.992188 42.632812 \"/>\n",
       "</g>\n",
       "</svg>\n"
      ],
      "text/plain": [
       "<igraph.drawing.Plot at 0x12f1f0910>"
      ]
     },
     "execution_count": 17,
     "metadata": {
      "image/svg+xml": {
       "isolated": true
      }
     },
     "output_type": "execute_result"
    }
   ],
   "source": [
    "set_evec_colors(g, v[:, 9])\n",
    "ig.plot(g, layout = layout, bbox=(0, 0, 500, 200))"
   ]
  },
  {
   "cell_type": "code",
   "execution_count": null,
   "metadata": {},
   "outputs": [],
   "source": []
  }
 ],
 "metadata": {
  "kernelspec": {
   "display_name": "Python 3",
   "language": "python",
   "name": "python3"
  },
  "language_info": {
   "codemirror_mode": {
    "name": "ipython",
    "version": 3
   },
   "file_extension": ".py",
   "mimetype": "text/x-python",
   "name": "python",
   "nbconvert_exporter": "python",
   "pygments_lexer": "ipython3",
   "version": "3.8.2"
  }
 },
 "nbformat": 4,
 "nbformat_minor": 4
}
